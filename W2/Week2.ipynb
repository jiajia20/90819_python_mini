{
 "cells": [
  {
   "attachments": {},
   "cell_type": "markdown",
   "metadata": {},
   "source": [
    "# Problem 1"
   ]
  },
  {
   "cell_type": "code",
   "execution_count": 7,
   "metadata": {},
   "outputs": [
    {
     "name": "stdout",
     "output_type": "stream",
     "text": [
      "[[ 2.  1.  0.  2.]\n",
      " [ 5. -1.  2.  1.]\n",
      " [ 1.  0.  1.  1.]\n",
      " [ 3.  2.  2.  3.]]\n",
      "[[ 2. -1.]\n",
      " [ 1. -1.]\n",
      " [ 2.  2.]\n",
      " [-1.  3.]]\n",
      "[[ 3.  2.]\n",
      " [-2.  0.]]\n"
     ]
    }
   ],
   "source": [
    "# Create numpy arrays a, b, and c by reading the CSV files (a from a.txt, etc.); \n",
    "#set their type as dtype = int. \n",
    "#Print each one.\n",
    "\n",
    "import numpy as np\n",
    "a = np.loadtxt('a.txt', delimiter=',')\n",
    "print(a)\n",
    "\n",
    "b = np.loadtxt('b.txt', delimiter=',')\n",
    "print(b)\n",
    "\n",
    "c = np.loadtxt('c.txt', delimiter=',')\n",
    "print(c)"
   ]
  },
  {
   "cell_type": "code",
   "execution_count": 8,
   "metadata": {},
   "outputs": [
    {
     "name": "stdout",
     "output_type": "stream",
     "text": [
      "Shape of a is (4, 4)\n",
      "Shape of b is (4, 2)\n",
      "Shape of c is (2, 2)\n"
     ]
    }
   ],
   "source": [
    "#b. Print the shape of the three arrays, with labels, as in: 'Shape of a is 4x4' (hint: the shape is a tuple).\n",
    "\n",
    "print('Shape of a is', a.shape)\n",
    "print('Shape of b is', b.shape)\n",
    "print('Shape of c is', c.shape)"
   ]
  },
  {
   "cell_type": "code",
   "execution_count": 9,
   "metadata": {},
   "outputs": [
    {
     "name": "stdout",
     "output_type": "stream",
     "text": [
      "[[ 3.  3.]\n",
      " [12.  3.]\n",
      " [ 3.  4.]\n",
      " [ 9.  8.]]\n",
      "[[ 8.  4.]\n",
      " [ 5.  2.]\n",
      " [ 2.  4.]\n",
      " [-9. -2.]]\n",
      "[[ 8. -1.  2.  4.]\n",
      " [ 4.  6.  6.  8.]]\n"
     ]
    }
   ],
   "source": [
    "#c. Print the results of multiplying (using the \"real\" linear algebra multiplication function, dot( ) ) of a times b, b times c, and b transpose times a.\n",
    "\n",
    "print(np.dot(a,b))\n",
    "print(np.dot(b,c))\n",
    "print(np.dot(b.T,a))\n"
   ]
  },
  {
   "cell_type": "code",
   "execution_count": 10,
   "metadata": {},
   "outputs": [
    {
     "name": "stdout",
     "output_type": "stream",
     "text": [
      "[[ True  True  True  True]\n",
      " [ True  True  True  True]\n",
      " [ True  True  True  True]\n",
      " [ True  True  True  True]]\n"
     ]
    }
   ],
   "source": [
    "#d. Save a, b, and c to binary files. \n",
    "#Read those files back into new arrays anew, bnew, and cnew. \n",
    "#Print a == anew and the same for bnew and cnew, as proof that your binary read/write is correct.\n",
    "\n",
    "np.save('a.npy', a)\n",
    "np.save('b.npy', b)\n",
    "np.save('c.npy', c)\n",
    "\n",
    "anew = np.load('a.npy')\n",
    "bnew = np.load('b.npy')\n",
    "cnew = np.load('c.npy')\n",
    "\n",
    "print(a == anew)\n"
   ]
  },
  {
   "cell_type": "code",
   "execution_count": 11,
   "metadata": {},
   "outputs": [
    {
     "name": "stdout",
     "output_type": "stream",
     "text": [
      "[[ 2.  1.  0.  2.  5. -1.  2.  1.]\n",
      " [ 1.  0.  1.  1.  3.  2.  2.  3.]]\n",
      "Shape of d is (2, 8)\n",
      "[[ 2.  1.]\n",
      " [ 0.  2.]\n",
      " [ 5. -1.]\n",
      " [ 2.  1.]\n",
      " [ 1.  0.]\n",
      " [ 1.  1.]\n",
      " [ 3.  2.]\n",
      " [ 2.  3.]]\n",
      "Shape of e is (8, 2)\n"
     ]
    }
   ],
   "source": [
    "#e. Create array d by reshaping a to be 2 by 8; \n",
    "#print it; print its shape with a label. \n",
    "#Create array e by reshaping a to be 8 by 2; \n",
    "#print it; print its shape with a label.\n",
    "\n",
    "d = a.reshape(2,8)\n",
    "print(d)\n",
    "print('Shape of d is', d.shape)\n",
    "e = a.reshape(8,2)\n",
    "print(e)\n",
    "print('Shape of e is', e.shape)"
   ]
  },
  {
   "attachments": {},
   "cell_type": "markdown",
   "metadata": {},
   "source": [
    "# Problem 2"
   ]
  },
  {
   "cell_type": "code",
   "execution_count": null,
   "metadata": {},
   "outputs": [],
   "source": [
    "#new fox population = (fox growth factor)*old fox population + (eat chickens rate)*old chicken population, \n",
    "# new chicken population = (kill rate)*old fox population + (chicken growth factor)*old chicken population"
   ]
  },
  {
   "cell_type": "code",
   "execution_count": null,
   "metadata": {},
   "outputs": [],
   "source": [
    "## Getting input\n",
    "f = float(input(\"Enter the fox growth rate: \")) #0.6\n",
    "\n",
    "c = float(input(\"Enter the chicken growth rate: \")) #1.2\n",
    "\n",
    "e= float(input(\"Enter the eat-chicken rate: \")) #0.5\n",
    "\n",
    "k = float(input(\"Enter kill rate: \")) #0.5\n",
    "\n",
    "iter = int(input(\"Enter number of iterations: \")) #2\n",
    "\n",
    "#print the time period, chicken and fox population \n",
    "\n",
    "print('{:<20} {:<15} {:<15}'.format('Time period', '# foxes', '# chickens'))\n",
    "\n",
    "print()\n",
    "\n",
    "## calculate the result of somulation for i times\n",
    "fox = 100\n",
    "chicken = 1000\n",
    "print('{:<20} {:<15} {:<15}'.format(0, fox, chicken))\n",
    "\n",
    "for i in range(iter):\n",
    "    result = np.array([[f, e], [-k, c]]).dot(np.array([fox, chicken]))\n",
    "    fox = result[0]\n",
    "    chicken = result[1]\n",
    "    print('{:<20} {:<15} {:<15}'.format(i, fox, chicken))\n",
    "\n",
    "# for j in range(i):\n",
    "#     fox = f*fox + e*chicken\n",
    "#     chicken = k*fox + c*chicken\n",
    "#     print(\"After\", j+1, \"iterations, the fox population is\", fox, \"and the chicken population is\", chicken)\n"
   ]
  },
  {
   "cell_type": "code",
   "execution_count": 40,
   "metadata": {},
   "outputs": [
    {
     "name": "stdout",
     "output_type": "stream",
     "text": [
      "Time period          # foxes         # chickens     \n"
     ]
    }
   ],
   "source": [
    "print('{:<20} {:<15} {:<15}'.format('Time period', '# foxes', '# chickens'))"
   ]
  },
  {
   "cell_type": "code",
   "execution_count": null,
   "metadata": {},
   "outputs": [],
   "source": [
    "Time period\n",
    "0\n",
    "1\n",
    "2\n",
    "\n",
    "100\n",
    "560\n",
    "931\n",
    "# chickens\n",
    "1000\n",
    "1190\n",
    "1372"
   ]
  },
  {
   "cell_type": "code",
   "execution_count": 29,
   "metadata": {},
   "outputs": [],
   "source": [
    "import numpy as np\n",
    "f = 0.6\n",
    "c = 1.2\n",
    "e = 0.5\n",
    "k = 0.8\n",
    "\n",
    "fox = 100\n",
    "chicken = 1000"
   ]
  }
 ],
 "metadata": {
  "kernelspec": {
   "display_name": "base",
   "language": "python",
   "name": "python3"
  },
  "language_info": {
   "codemirror_mode": {
    "name": "ipython",
    "version": 3
   },
   "file_extension": ".py",
   "mimetype": "text/x-python",
   "name": "python",
   "nbconvert_exporter": "python",
   "pygments_lexer": "ipython3",
   "version": "3.8.8"
  },
  "orig_nbformat": 4
 },
 "nbformat": 4,
 "nbformat_minor": 2
}
