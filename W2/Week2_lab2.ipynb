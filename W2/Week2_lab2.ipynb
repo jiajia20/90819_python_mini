{
 "cells": [
  {
   "attachments": {},
   "cell_type": "markdown",
   "metadata": {},
   "source": [
    "# Lab 3"
   ]
  },
  {
   "attachments": {},
   "cell_type": "markdown",
   "metadata": {},
   "source": [
    "## Problem 1"
   ]
  },
  {
   "cell_type": "code",
   "execution_count": 1,
   "metadata": {},
   "outputs": [],
   "source": [
    "#Create a list variable named numbers and set it to the integers -5 to 5 inclusive\n",
    "numbers = list(range(-5,6))\n",
    "\n",
    "#Save the contents of numbers to a text file named 'numbers.txt', one int per line\n",
    "with open('numbers.txt', 'w') as f:\n",
    "    for i in numbers:\n",
    "        f.write('%d\\n' % (i))   \n"
   ]
  },
  {
   "attachments": {},
   "cell_type": "markdown",
   "metadata": {},
   "source": [
    "# Problem 2"
   ]
  },
  {
   "cell_type": "code",
   "execution_count": 2,
   "metadata": {},
   "outputs": [
    {
     "name": "stdout",
     "output_type": "stream",
     "text": [
      "[-5, -4, -3, -2, -1, 0, 1, 2, 3, 4, 5]\n",
      "True\n"
     ]
    }
   ],
   "source": [
    "#Create a list variable named myNums. \n",
    "myNums = []\n",
    "#Open 'numbers.txt' for reading and read the line and convert it to int, one at a time, into myNums. \n",
    "with open('numbers.txt', 'r') as f:\n",
    "    for line in f:\n",
    "        myNums.append(int(line))\n",
    "\n",
    "# Display the list.\n",
    "print (myNums)\n",
    "#  Then use print(numbers == myNums) to verify that it has the same int as numbers in #1.\n",
    "print(numbers == myNums)"
   ]
  },
  {
   "attachments": {},
   "cell_type": "markdown",
   "metadata": {},
   "source": [
    "# Problem 3"
   ]
  },
  {
   "cell_type": "code",
   "execution_count": 3,
   "metadata": {},
   "outputs": [
    {
     "name": "stdout",
     "output_type": "stream",
     "text": [
      "[('Fido', 12), ('Barfy', 8), ('Spot', 5), ('Yeller', 15)]\n"
     ]
    }
   ],
   "source": [
    "#Use the following list of tuples named data for this problem. \n",
    "#Display data. Then open a file named 'mydata.bin' with 'wb' access. \n",
    "# Write data to this file using pickle (don't forget to do import pickle). \n",
    "# Open the file in a text editor (or use the alternatives in #1).\n",
    "data = [('Fido', 12), ('Barfy', 8), ('Spot', 5), ('Yeller', 15)]\n",
    "import pickle\n",
    "\n",
    "print(data)\n",
    "\n",
    "with open('mydata.bin', 'wb') as f:\n",
    "    pickle.dump(data, f)"
   ]
  },
  {
   "attachments": {},
   "cell_type": "markdown",
   "metadata": {},
   "source": [
    "# Problem 4"
   ]
  },
  {
   "cell_type": "code",
   "execution_count": 4,
   "metadata": {},
   "outputs": [
    {
     "name": "stdout",
     "output_type": "stream",
     "text": [
      "<class 'list'>\n",
      "True\n"
     ]
    }
   ],
   "source": [
    "# Open the file 'mydata.bin' with 'rb' access. \n",
    "# Use pickle to read its contents into a variable named newdata.\n",
    "with open ('mydata.bin', 'rb') as f:\n",
    "    newdata = pickle.load(f)\n",
    " \n",
    "#Display the type of newdata to verify that it is a list. \n",
    "print(type(newdata))\n",
    "# Then display newdata and use print(data == newdata) to verify that the data is the same in #5\n",
    "print(newdata == data)"
   ]
  },
  {
   "attachments": {},
   "cell_type": "markdown",
   "metadata": {},
   "source": [
    "# Problem 5"
   ]
  },
  {
   "cell_type": "code",
   "execution_count": 6,
   "metadata": {},
   "outputs": [],
   "source": [
    "import numpy as np"
   ]
  },
  {
   "cell_type": "code",
   "execution_count": 9,
   "metadata": {},
   "outputs": [
    {
     "name": "stdout",
     "output_type": "stream",
     "text": [
      "[[1. ]\n",
      " [1.5]\n",
      " [2. ]\n",
      " [2.5]]\n",
      "[[-1.]\n",
      " [ 1.]\n",
      " [-1.]\n",
      " [ 1.]]\n",
      "[[0 1 1 0]\n",
      " [3 2 1 0]]\n",
      "[[1. 0. 0. 0.]\n",
      " [0. 1. 0. 0.]\n",
      " [0. 0. 1. 0.]\n",
      " [0. 0. 0. 1.]]\n",
      "(4, 1)\n",
      "(4, 1)\n",
      "(2, 4)\n",
      "(4, 4)\n"
     ]
    }
   ],
   "source": [
    "# (a.) Create numpy arrays named x, y, N, and I as:\n",
    "# x: the floats from 1 to 3 counting by 0.5; use arange( ), but reshape it to (4,1) \n",
    "# y: from the list [-1.0, 1.0, -1.0, 1.0], but reshape it to (4,1)\n",
    "# N: from the list of lists [ [0, 1, 1, 0], [3, 2, 1, 0] ]\n",
    "# I: the 4x4 identity matrix\n",
    "\n",
    "x = np.arange(1,3,0.5).reshape(4,1)\n",
    "y = np.array([-1.0, 1.0, -1.0, 1.0]).reshape(4,1)\n",
    "N = np.array([[0, 1, 1, 0], [3, 2, 1, 0]])\n",
    "I = np.identity(4)\n",
    "\n",
    "\n",
    "\n",
    "# (b.) Display each array.\n",
    "print(x)\n",
    "print(y)\n",
    "print(N)\n",
    "print(I)\n",
    "\n",
    "# (c.) Display each array's shape (size)\n",
    "print(x.shape)\n",
    "print(y.shape)\n",
    "print(N.shape)\n",
    "print(I.shape)\n",
    "\n",
    "# (d.) Display each array's dimensionality (ndim) \n",
    "print(x.ndim)\n",
    "print(y.ndim)\n",
    "print(N.ndim)\n",
    "print(I.ndim)\n",
    "\n",
    "# (e.) Display N's zeroth row using a slice\n",
    "print(N[0]) \n",
    "\n",
    "# (f.) Display N's zeroth column using a slice\n",
    "print(N[:,0])"
   ]
  },
  {
   "attachments": {},
   "cell_type": "markdown",
   "metadata": {},
   "source": [
    "# Problem 6"
   ]
  },
  {
   "cell_type": "code",
   "execution_count": 25,
   "metadata": {},
   "outputs": [
    {
     "name": "stdout",
     "output_type": "stream",
     "text": [
      "[[0. ]\n",
      " [2.5]\n",
      " [1. ]\n",
      " [3.5]]\n",
      "[[-1. ]\n",
      " [ 1.5]\n",
      " [-2. ]\n",
      " [ 2.5]]\n",
      "[[1.]]\n",
      "[[-1.   1.  -1.   1. ]\n",
      " [-1.5  1.5 -1.5  1.5]\n",
      " [-2.   2.  -2.   2. ]\n",
      " [-2.5  2.5 -2.5  2.5]]\n",
      "[[0 1 1 0]\n",
      " [9 4 1 0]]\n",
      "[[3.5]\n",
      " [8. ]]\n"
     ]
    }
   ],
   "source": [
    "#  For each problem, tell which operations are legal - *before* entering them. Then execute and print them. \n",
    "# (a.) x+y\n",
    "print(x+y)\n",
    "\n",
    "\n",
    "# (b.) x*y\n",
    "print(x*y)\n",
    "# (c.) x.dot(y) ## Not LEGAL, dimention does not match\n",
    "# print(x.dot(y))\n",
    "\n",
    "# (d.) (x.T).dot(y) \n",
    "print((x.T).dot(y))\n",
    "\n",
    "#(e.) x.dot(y.T) \n",
    "print(x.dot(y.T))\n",
    "\n",
    "# (f.) N*N\n",
    "print(N*N)\n",
    "# (g.) x*N\n",
    "# print(x*N) NOT LEGAL, dimention does not match\n",
    "\n",
    "# (h.) x.dot(N) \n",
    "# print(x.dot(N)) not legal, dimention does not match\n",
    "\n",
    "# (i.) (x.T).dot(N) \n",
    "#print((x.T).dot(N)) not legal, dimention does not match\n",
    "# (j.) N.dot(x)\n",
    "print(N.dot(x))"
   ]
  },
  {
   "cell_type": "code",
   "execution_count": 22,
   "metadata": {},
   "outputs": [
    {
     "name": "stdout",
     "output_type": "stream",
     "text": [
      "((4, 1), (2, 4))\n"
     ]
    }
   ],
   "source": [
    "print((x.shape,N.shape))"
   ]
  },
  {
   "cell_type": "code",
   "execution_count": 23,
   "metadata": {},
   "outputs": [
    {
     "ename": "ValueError",
     "evalue": "shapes (4,1) and (2,4) not aligned: 1 (dim 1) != 2 (dim 0)",
     "output_type": "error",
     "traceback": [
      "\u001b[0;31m---------------------------------------------------------------------------\u001b[0m",
      "\u001b[0;31mValueError\u001b[0m                                Traceback (most recent call last)",
      "\u001b[0;32m<ipython-input-23-37b817f86690>\u001b[0m in \u001b[0;36m<module>\u001b[0;34m\u001b[0m\n\u001b[0;32m----> 1\u001b[0;31m \u001b[0mprint\u001b[0m\u001b[0;34m(\u001b[0m\u001b[0mx\u001b[0m\u001b[0;34m.\u001b[0m\u001b[0mdot\u001b[0m\u001b[0;34m(\u001b[0m\u001b[0mN\u001b[0m\u001b[0;34m)\u001b[0m\u001b[0;34m)\u001b[0m\u001b[0;34m\u001b[0m\u001b[0;34m\u001b[0m\u001b[0m\n\u001b[0m",
      "\u001b[0;31mValueError\u001b[0m: shapes (4,1) and (2,4) not aligned: 1 (dim 1) != 2 (dim 0)"
     ]
    }
   ],
   "source": [
    "print(x.dot(N))"
   ]
  },
  {
   "cell_type": "code",
   "execution_count": null,
   "metadata": {},
   "outputs": [],
   "source": [
    "for i in numbers:\n",
    "    #Save the contents of numbers to a text file named 'numbers.txt', one int per line – that is, open a file with 'w' permission and use\n",
    "    f.write('%d\\n' % (i))"
   ]
  }
 ],
 "metadata": {
  "kernelspec": {
   "display_name": "base",
   "language": "python",
   "name": "python3"
  },
  "language_info": {
   "codemirror_mode": {
    "name": "ipython",
    "version": 3
   },
   "file_extension": ".py",
   "mimetype": "text/x-python",
   "name": "python",
   "nbconvert_exporter": "python",
   "pygments_lexer": "ipython3",
   "version": "3.8.8"
  },
  "orig_nbformat": 4
 },
 "nbformat": 4,
 "nbformat_minor": 2
}
