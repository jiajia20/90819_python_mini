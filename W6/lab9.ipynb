{
 "cells": [
  {
   "cell_type": "code",
   "execution_count": null,
   "metadata": {},
   "outputs": [],
   "source": [
    "# escribe in words what the following patterns match. \n",
    "#Download the file 'lab9.txt' and load its lines into a list named lab9. \n",
    "# Then search for the patterns on the lines of lab9. Does your description still make sense?\n",
    "#(a.)r'[aeiou]'\n",
    "#matches any single lowercase vowel letter among a, e, i, o, and u.\n",
    "\n",
    "#(b.) r'[aeiou]$' \n",
    "# matches any string that ends with a lowercase vowel letter among a, e, i, o, and u.\n",
    "\n",
    "#(c.) r'^[aeiou]' \n",
    "# matches any string that starts with a lowercase vowel letter among a, e, i, o, and u.\n",
    "\n",
    "# (d.) r'[0-9][0-9]*' \n",
    "# matches any string that starts with a digit and continues with zero or more digits.\n",
    "\n",
    "#(e.) r'[0-9]*'\n",
    "# matches any string that contains zero or more digits.\n",
    "\n",
    "#(f.) r'\\b([0-9][0-9]*)\\b'\n",
    "# matches any string that contains a sequence of one or more digits.\n",
    "\n",
    "#(g.) r'[^0-9]*[0-9][0-9]*[^0-9]*' \n",
    "# matches any string that contains a sequence of one or more digits, but not surrounded by digits.\n",
    "\n",
    "#(h.) r'[_a-zA-Z][_a-zA-Z0-9]*' \n",
    "# matches any string that starts with a letter or underscore and continues with zero or more letters, digits, or underscores.\n",
    "\n",
    "\n",
    "#(i.) r'[\\+\\-]?[0-9]*\\.[0-9]*'\n",
    "# matches any string that contains a decimal number.\n",
    "\n",
    "#(j.) r'\\([0-9]+\\)'\n",
    "# matches any string that contains a sequence of one or more digits, surrounded by parentheses.\n",
    "\n",
    "#(k.) r'\\[[0-9]+\\]'\n",
    "# matches any string that contains a sequence of one or more digits, surrounded by square brackets."
   ]
  },
  {
   "cell_type": "code",
   "execution_count": 4,
   "metadata": {},
   "outputs": [
    {
     "name": "stdout",
     "output_type": "stream",
     "text": [
      "['47']\n",
      "['47']\n",
      "['47']\n",
      "['47']\n",
      "['47']\n",
      "['47']\n",
      "['47', '0']\n",
      "['47', '0']\n",
      "['47', '0']\n",
      "['47', '0']\n",
      "['47']\n",
      "['47']\n",
      "['47']\n",
      "['47']\n",
      "['47', '0']\n",
      "['47']\n",
      "['47', '0']\n",
      "['47', '0']\n"
     ]
    }
   ],
   "source": [
    "import re\n",
    "lab9 = open('lab9.txt').readlines()\n",
    "for line in lab9:\n",
    "    print(re.findall(r'[0-9][0-9]*', line))"
   ]
  },
  {
   "cell_type": "code",
   "execution_count": 5,
   "metadata": {},
   "outputs": [],
   "source": [
    "#  open lab9.txt as a file object and read its lines into a list named lab9.\n",
    "\n",
    "lab9 = open('lab9.txt').readlines()"
   ]
  },
  {
   "cell_type": "code",
   "execution_count": 8,
   "metadata": {},
   "outputs": [
    {
     "name": "stdout",
     "output_type": "stream",
     "text": [
      "47.0\n",
      "\n",
      "-47.0\n",
      "\n",
      "+47.0\n",
      "\n",
      "+/-47.0\n",
      "\n",
      "( 47.0 )\n",
      "\n",
      "(47.0)\n",
      "\n",
      "[47.0]\n",
      "\n"
     ]
    }
   ],
   "source": [
    "\n",
    "#2. Write regex patterns from the following descriptions. The search for those patterns in lab9. \n",
    "#Does your pattern do the right thing?\n",
    "# (a.) Strings containing 0\n",
    "\n",
    "pattern = re.compile(r'^.*0.*$')\n",
    "\n",
    "# Iterate over each line in the file\n",
    "for line in lab9:\n",
    "    # Check if the line matches the pattern\n",
    "    if pattern.match(line):\n",
    "        # If it does, print the line\n",
    "        print(line)\n",
    "\n"
   ]
  },
  {
   "cell_type": "code",
   "execution_count": 10,
   "metadata": {},
   "outputs": [
    {
     "name": "stdout",
     "output_type": "stream",
     "text": [
      "( 47 )\n",
      "\n",
      "[ 47 ]\n",
      "\n",
      "a 47 a\n",
      "\n"
     ]
    }
   ],
   "source": [
    "#(b.) Strings containing 47 surrounded by white space \n",
    "pattern = re.compile(r'^.*\\s47\\s.*$')\n",
    "for line in lab9:\n",
    "    if pattern.match(line):\n",
    "        print(line)"
   ]
  },
  {
   "cell_type": "code",
   "execution_count": 11,
   "metadata": {},
   "outputs": [
    {
     "name": "stdout",
     "output_type": "stream",
     "text": [
      "+47\n",
      "\n",
      "+47.0\n",
      "\n",
      "+/-47.0\n",
      "\n"
     ]
    }
   ],
   "source": [
    "#(c.) Strings beginning with a plus sign\n",
    "pattern = re.compile(r'^\\+.*$')\n",
    "for line in lab9:\n",
    "    if pattern.match(line):\n",
    "        print(line)\n",
    "#r'^\\+'"
   ]
  },
  {
   "cell_type": "code",
   "execution_count": 12,
   "metadata": {},
   "outputs": [
    {
     "name": "stdout",
     "output_type": "stream",
     "text": [
      "47+\n",
      "\n"
     ]
    }
   ],
   "source": [
    "#(d.) Strings ending with a plus sign\n",
    "pattern = re.compile(r'^.*\\+$')\n",
    "for line in lab9:\n",
    "    if pattern.match(line):\n",
    "        print(line)\n"
   ]
  },
  {
   "cell_type": "code",
   "execution_count": 13,
   "metadata": {},
   "outputs": [
    {
     "name": "stdout",
     "output_type": "stream",
     "text": [
      "(47)\n",
      "\n"
     ]
    }
   ],
   "source": [
    "#(e.) Strings with 47 in parentheses.\n",
    "pattern = re.compile(r'^.*\\(47\\).*')\n",
    "for line in lab9:\n",
    "    if pattern.match(line):\n",
    "        print(line)\n"
   ]
  },
  {
   "cell_type": "code",
   "execution_count": 14,
   "metadata": {},
   "outputs": [
    {
     "name": "stdout",
     "output_type": "stream",
     "text": [
      "47\n",
      "\n",
      "47x\n",
      "\n",
      "x47\n",
      "\n",
      "+47\n",
      "\n",
      "47+\n",
      "\n",
      "47.\n",
      "\n",
      "47.0\n",
      "\n",
      "-47.0\n",
      "\n",
      "+47.0\n",
      "\n",
      "+/-47.0\n",
      "\n",
      "(47)\n",
      "\n",
      "( 47 )\n",
      "\n",
      "[ 47 ]\n",
      "\n",
      "[47]\n",
      "\n",
      "( 47.0 )\n",
      "\n",
      "a 47 a\n",
      "\n",
      "(47.0)\n",
      "\n",
      "[47.0]\n",
      "\n"
     ]
    }
   ],
   "source": [
    "#(f.) Strings containing an integer\n",
    "pattern = re.compile(r'^.*[0-9].*$')\n",
    "for line in lab9:\n",
    "    if pattern.match(line):\n",
    "        print(line)\n"
   ]
  },
  {
   "cell_type": "code",
   "execution_count": 15,
   "metadata": {},
   "outputs": [
    {
     "name": "stdout",
     "output_type": "stream",
     "text": [
      "+/-47.0\n",
      "\n"
     ]
    }
   ],
   "source": [
    "#(g.) Strings containing a /\n",
    "pattern = re.compile(r'^.*\\/.*$')\n",
    "for line in lab9:\n",
    "    if pattern.match(line):\n",
    "        print(line)"
   ]
  },
  {
   "cell_type": "code",
   "execution_count": 16,
   "metadata": {},
   "outputs": [
    {
     "name": "stdout",
     "output_type": "stream",
     "text": [
      "a 47 a\n",
      "\n"
     ]
    }
   ],
   "source": [
    "#(h.) Strings beginning and ending with the letter a.\n",
    "pattern = re.compile(r'^a.*a$')\n",
    "for line in lab9:\n",
    "    if pattern.match(line):\n",
    "        print(line)\n"
   ]
  }
 ],
 "metadata": {
  "kernelspec": {
   "display_name": "base",
   "language": "python",
   "name": "python3"
  },
  "language_info": {
   "codemirror_mode": {
    "name": "ipython",
    "version": 3
   },
   "file_extension": ".py",
   "mimetype": "text/x-python",
   "name": "python",
   "nbconvert_exporter": "python",
   "pygments_lexer": "ipython3",
   "version": "3.8.8"
  },
  "orig_nbformat": 4
 },
 "nbformat": 4,
 "nbformat_minor": 2
}
