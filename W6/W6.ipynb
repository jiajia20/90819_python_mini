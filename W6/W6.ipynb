{
 "cells": [
  {
   "cell_type": "code",
   "execution_count": 16,
   "metadata": {},
   "outputs": [
    {
     "name": "stdout",
     "output_type": "stream",
     "text": [
      "REGION  NUMBER  NAME                POPULATION          \n",
      "3       1       Alabama             4785448             \n",
      "4       2       Alaska              713906              \n",
      "4       4       Arizona             6407774             \n",
      "3       5       Arkansas            2921978             \n",
      "4       6       California          37320903            \n",
      "4       8       Colorado            5048281             \n",
      "1       9       Connecticut         3579125             \n",
      "3       10      Delaware            899595              \n",
      "3       11      District of Columbia605085              \n",
      "3       12      Florida             18845785            \n",
      "        58      Flursday            1234567             \n",
      "3       13      Georgia             9711810             \n",
      "4       15      Hawaii              1363963             \n",
      "4       16      Idaho               1570773             \n",
      "2       17      Illinois            12840762            \n",
      "2       18      Indiana             6490436             \n",
      "2       19      Iowa                3050767             \n",
      "2       20      Kansas              2858213             \n",
      "3       21      Kentucky            4348200             \n",
      "3       22      Louisiana           4544532             \n",
      "1       23      Maine               1327632             \n",
      "3       98      Martyland                               \n",
      "3       24      Maryland            5788642             \n",
      "1       25      Massachusetts       6566431             \n",
      "2       26      Michigan            9877535             \n",
      "2       27      Minnesota           5310843             \n",
      "3       28      Mississippi         2970536             \n",
      "2       29      Missouri            5995976             \n",
      "4       30      Montana             990722              \n",
      "2       31      Nebraska            1829536             \n",
      "4       32      Nevada              2702464             \n",
      "1       33      New Hampshire       1316777             \n",
      "1       34      New Jersey          8799624             \n",
      "4       35      New Mexico          2064588             \n",
      "1       36      New York            19400080            \n",
      "3       37      North Carolina      9574293             \n",
      "2       38      North Dakota        674710              \n",
      "2       39      Ohio                11539327            \n",
      "3       40      Oklahoma            3759632             \n",
      "4       41      Oregon              3837532             \n",
      "1       42      Pennsylvania        12711158            \n",
      "1       44      Rhode Island        1053938             \n",
      "3       45      South Carolina      4635656             \n",
      "2       46      South Dakota        816165              \n",
      "2               South Nowhere       816165              \n",
      "3       47      Tennessee           6355301             \n",
      "3       48      Texas               25242679            \n",
      "4       49      Utah                2775334             \n",
      "1       50      Vermont             625880              \n",
      "3       51      Virginia            8023680             \n",
      "4       53      Washington          6742902             \n",
      "3       54      West Virginia       1854214             \n",
      "2       55      Wisconsin           5690479             \n",
      "4       56      Wyoming             564483              \n",
      "5       72      Puerto Rico         3721525             \n"
     ]
    }
   ],
   "source": [
    "#Download the file 'pop.csv' for this assignment (you've used this file before). \n",
    "#Read the file 'pop.csv' into two lists: the column names into columns (split the first line), \n",
    "#and the rest of the data into a list of strings named states, don't split the strings， . \n",
    "import csv\n",
    "with open('pop.csv') as f:\n",
    "    reader = csv.reader(f)\n",
    "    columns = next(reader)\n",
    "    states = list(reader)\n",
    "\n",
    "#Display the data in a formatted table using columns for the column headers \n",
    "#(yep, for this part, you need to split the state data, but only for printing – leave states the same).\n",
    "print('{:<8}{:<8}{:<20}{:<20}'.format(*columns))\n",
    "for state in states:\n",
    "    print('{:<8}{:<8}{:<20}{:<20}'.format(*state))\n",
    "\n",
    "\n",
    "# for each items in states, conactenate the items in the list\n",
    "states = [''.join(item) for item in states]\n"
   ]
  },
  {
   "cell_type": "code",
   "execution_count": null,
   "metadata": {},
   "outputs": [],
   "source": [
    "#Write regex expressions for each of these problems. \n",
    "#Run each pattern separately on the entries of states. \n",
    "#Display the pattern for each and display any matches."
   ]
  },
  {
   "cell_type": "code",
   "execution_count": 13,
   "metadata": {},
   "outputs": [],
   "source": [
    "import re"
   ]
  },
  {
   "cell_type": "code",
   "execution_count": 22,
   "metadata": {},
   "outputs": [
    {
     "name": "stdout",
     "output_type": "stream",
     "text": [
      "142Pennsylvania12711158\n"
     ]
    }
   ],
   "source": [
    "#1. Display the line containing 'Pennsylvania'\n",
    "\n",
    "import re\n",
    "\n",
    "# Define the regular expression pattern\n",
    "pattern = re.compile(r'^.*Pennsylvania.*$')\n",
    "\n",
    "\n",
    "# Iterate over each line in the file\n",
    "for line in states:\n",
    "    # Check if the line matches the pattern\n",
    "    if pattern.match(line):\n",
    "        # If it does, print the line\n",
    "        print(line)\n"
   ]
  },
  {
   "cell_type": "code",
   "execution_count": 23,
   "metadata": {},
   "outputs": [
    {
     "name": "stdout",
     "output_type": "stream",
     "text": [
      "231Nebraska1829536\n",
      "432Nevada2702464\n",
      "133New Hampshire1316777\n",
      "134New Jersey8799624\n",
      "435New Mexico2064588\n",
      "136New York19400080\n",
      "337North Carolina9574293\n",
      "238North Dakota674710\n",
      "2South Nowhere816165\n"
     ]
    }
   ],
   "source": [
    "#2. Display all lines containing 'N'\n",
    "\n",
    "pattern = re.compile(r'^.*N.*$')\n",
    "\n",
    "for line in states:\n",
    "    if pattern.match(line):\n",
    "        print(line)"
   ]
  },
  {
   "cell_type": "code",
   "execution_count": 24,
   "metadata": {},
   "outputs": [
    {
     "name": "stdout",
     "output_type": "stream",
     "text": [
      "231Nebraska1829536\n",
      "432Nevada2702464\n",
      "133New Hampshire1316777\n",
      "134New Jersey8799624\n",
      "435New Mexico2064588\n",
      "136New York19400080\n",
      "337North Carolina9574293\n",
      "238North Dakota674710\n",
      "142Pennsylvania12711158\n",
      "2South Nowhere816165\n",
      "572Puerto Rico3721525\n"
     ]
    }
   ],
   "source": [
    "#3. Display all lines containing 'N' or 'P'\n",
    "pattern = re.compile(r'^.*[NP].*$')\n",
    "for line in states:\n",
    "    if pattern.match(line):\n",
    "        print(line)"
   ]
  },
  {
   "cell_type": "code",
   "execution_count": 27,
   "metadata": {},
   "outputs": [
    {
     "name": "stdout",
     "output_type": "stream",
     "text": [
      "19Connecticut3579125\n",
      "123Maine1327632\n",
      "125Massachusetts6566431\n",
      "133New Hampshire1316777\n",
      "134New Jersey8799624\n",
      "136New York19400080\n",
      "142Pennsylvania12711158\n",
      "144Rhode Island1053938\n",
      "150Vermont625880\n"
     ]
    }
   ],
   "source": [
    "#4. Display all data in region 1.\n",
    "# display all lines that start with 1\n",
    "pattern = re.compile(r'^1.*$')\n",
    "for line in states:\n",
    "    if pattern.match(line):\n",
    "        print(line)"
   ]
  },
  {
   "cell_type": "code",
   "execution_count": 28,
   "metadata": {},
   "outputs": [
    {
     "name": "stdout",
     "output_type": "stream",
     "text": [
      "58Flursday1234567\n",
      "219Iowa3050767\n",
      "133New Hampshire1316777\n",
      "239Ohio11539327\n"
     ]
    }
   ],
   "source": [
    "#5. Display all lines ending with '7'\n",
    "pattern = re.compile(r'^.*7$')\n",
    "for line in states:\n",
    "    if pattern.match(line):\n",
    "        print(line)"
   ]
  },
  {
   "cell_type": "code",
   "execution_count": 29,
   "metadata": {},
   "outputs": [
    {
     "name": "stdout",
     "output_type": "stream",
     "text": [
      "46California37320903\n",
      "48Colorado5048281\n",
      "19Connecticut3579125\n",
      "310Delaware899595\n",
      "311District of Columbia605085\n",
      "312Florida18845785\n",
      "58Flursday1234567\n",
      "313Georgia9711810\n",
      "416Idaho1570773\n",
      "218Indiana6490436\n",
      "321Kentucky4348200\n",
      "123Maine1327632\n",
      "398Martyland\n",
      "324Maryland5788642\n",
      "125Massachusetts6566431\n",
      "227Minnesota5310843\n",
      "231Nebraska1829536\n",
      "432Nevada2702464\n",
      "133New Hampshire1316777\n",
      "134New Jersey8799624\n",
      "435New Mexico2064588\n",
      "136New York19400080\n",
      "238North Dakota674710\n",
      "441Oregon3837532\n",
      "142Pennsylvania12711158\n",
      "144Rhode Island1053938\n",
      "246South Dakota816165\n",
      "2South Nowhere816165\n",
      "347Tennessee6355301\n",
      "348Texas25242679\n",
      "150Vermont625880\n",
      "354West Virginia1854214\n",
      "572Puerto Rico3721525\n"
     ]
    }
   ],
   "source": [
    "#6. Display all lines containing any letter from d to f, inclusive, in upper or lower case.\n",
    "pattern = re.compile(r'^.*[d-fD-F].*$')\n",
    "for line in states:\n",
    "    if pattern.match(line):\n",
    "        print(line)"
   ]
  },
  {
   "cell_type": "code",
   "execution_count": 30,
   "metadata": {},
   "outputs": [
    {
     "name": "stdout",
     "output_type": "stream",
     "text": [
      "31Alabama4785448\n",
      "44Arizona6407774\n",
      "35Arkansas2921978\n",
      "46California37320903\n",
      "48Colorado5048281\n",
      "19Connecticut3579125\n",
      "312Florida18845785\n",
      "58Flursday1234567\n",
      "313Georgia9711810\n",
      "415Hawaii1363963\n",
      "416Idaho1570773\n",
      "217Illinois12840762\n",
      "218Indiana6490436\n",
      "219Iowa3050767\n",
      "220Kansas2858213\n",
      "321Kentucky4348200\n",
      "322Louisiana4544532\n",
      "123Maine1327632\n",
      "324Maryland5788642\n",
      "125Massachusetts6566431\n",
      "226Michigan9877535\n",
      "227Minnesota5310843\n",
      "328Mississippi2970536\n",
      "229Missouri5995976\n",
      "231Nebraska1829536\n",
      "432Nevada2702464\n",
      "133New Hampshire1316777\n",
      "134New Jersey8799624\n",
      "435New Mexico2064588\n",
      "136New York19400080\n",
      "337North Carolina9574293\n",
      "239Ohio11539327\n",
      "340Oklahoma3759632\n",
      "441Oregon3837532\n",
      "142Pennsylvania12711158\n",
      "144Rhode Island1053938\n",
      "345South Carolina4635656\n",
      "347Tennessee6355301\n",
      "348Texas25242679\n",
      "449Utah2775334\n",
      "351Virginia8023680\n",
      "453Washington6742902\n",
      "354West Virginia1854214\n",
      "255Wisconsin5690479\n",
      "572Puerto Rico3721525\n"
     ]
    }
   ],
   "source": [
    "#7. Display all lines with populations of at least 10 million – don't treat the population field numerically: write a pattern.\n",
    "pattern = re.compile(r'^.*\\d{7,}$')\n",
    "for line in states:\n",
    "    if pattern.match(line):\n",
    "        print(line)"
   ]
  },
  {
   "cell_type": "code",
   "execution_count": 31,
   "metadata": {},
   "outputs": [
    {
     "name": "stdout",
     "output_type": "stream",
     "text": [
      "58Flursday1234567\n",
      "123Maine1327632\n",
      "125Massachusetts6566431\n",
      "231Nebraska1829536\n",
      "351Virginia8023680\n"
     ]
    }
   ],
   "source": [
    "#8. Display all lines containing 1, 2, and 3 in order, but not necessarily next to one another.\n",
    "pattern = re.compile(r'^.*1.*2.*3.*$')\n",
    "for line in states:\n",
    "    if pattern.match(line):\n",
    "        print(line)"
   ]
  },
  {
   "cell_type": "code",
   "execution_count": 32,
   "metadata": {},
   "outputs": [
    {
     "name": "stdout",
     "output_type": "stream",
     "text": [
      "311District of Columbia605085\n",
      "133New Hampshire1316777\n",
      "134New Jersey8799624\n",
      "435New Mexico2064588\n",
      "136New York19400080\n",
      "337North Carolina9574293\n",
      "238North Dakota674710\n",
      "144Rhode Island1053938\n",
      "345South Carolina4635656\n",
      "246South Dakota816165\n",
      "2South Nowhere816165\n",
      "354West Virginia1854214\n",
      "572Puerto Rico3721525\n"
     ]
    }
   ],
   "source": [
    "#9. Display all lines whose states have a space in their name (like 'New York')\n",
    "pattern = re.compile(r'^.*\\s.*$')\n",
    "for line in states:\n",
    "    if pattern.match(line):\n",
    "        print(line)"
   ]
  },
  {
   "cell_type": "code",
   "execution_count": 33,
   "metadata": {},
   "outputs": [],
   "source": [
    "#10. Display all lines whose states have three i's in their name in any case.\n",
    "pattern = re.compile(r'^.*[iI]{3}.*$')\n",
    "for line in states:\n",
    "    if pattern.match(line):\n",
    "        print(line)\n"
   ]
  }
 ],
 "metadata": {
  "kernelspec": {
   "display_name": "base",
   "language": "python",
   "name": "python3"
  },
  "language_info": {
   "codemirror_mode": {
    "name": "ipython",
    "version": 3
   },
   "file_extension": ".py",
   "mimetype": "text/x-python",
   "name": "python",
   "nbconvert_exporter": "python",
   "pygments_lexer": "ipython3",
   "version": "3.8.8"
  },
  "orig_nbformat": 4
 },
 "nbformat": 4,
 "nbformat_minor": 2
}
