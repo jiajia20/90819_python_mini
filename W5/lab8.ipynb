{
 "cells": [
  {
   "attachments": {},
   "cell_type": "markdown",
   "metadata": {},
   "source": [
    "# Problem 1"
   ]
  },
  {
   "cell_type": "code",
   "execution_count": 2,
   "metadata": {},
   "outputs": [],
   "source": [
    "import requests\n",
    "from bs4 import BeautifulSoup"
   ]
  },
  {
   "cell_type": "code",
   "execution_count": 20,
   "metadata": {},
   "outputs": [
    {
     "name": "stdout",
     "output_type": "stream",
     "text": [
      "https://forecast.weather.gov/MapClick.php?textField1=40.47&textField2=-79.96\n",
      "[<table>\n",
      "<tr>\n",
      "<td class=\"text-right\"><b>Humidity</b></td>\n",
      "<td>27%</td>\n",
      "</tr>\n",
      "<tr>\n",
      "<td class=\"text-right\"><b>Wind Speed</b></td>\n",
      "<td>SW 6 mph</td>\n",
      "</tr>\n",
      "<tr>\n",
      "<td class=\"text-right\"><b>Barometer</b></td>\n",
      "<td>29.88 in (1011.4 mb)</td>\n",
      "</tr>\n",
      "<tr>\n",
      "<td class=\"text-right\"><b>Dewpoint</b></td>\n",
      "<td>43°F (6°C)</td>\n",
      "</tr>\n",
      "<tr>\n",
      "<td class=\"text-right\"><b>Visibility</b></td>\n",
      "<td>10.00 mi</td>\n",
      "</tr>\n",
      "<tr><td class=\"text-right\"><b>Heat Index</b></td><td>79°F (26°C)</td></tr> <tr>\n",
      "<td class=\"text-right\"><b>Last update</b></td>\n",
      "<td>\n",
      "                14 Apr 1:53 pm EDT            </td>\n",
      "</tr>\n",
      "</table>, <tr>\n",
      "<td class=\"text-right\"><b>Humidity</b></td>\n",
      "<td>27%</td>\n",
      "</tr>, <td class=\"text-right\"><b>Humidity</b></td>, <b>Humidity</b>, <td>27%</td>, <tr>\n",
      "<td class=\"text-right\"><b>Wind Speed</b></td>\n",
      "<td>SW 6 mph</td>\n",
      "</tr>, <td class=\"text-right\"><b>Wind Speed</b></td>, <b>Wind Speed</b>, <td>SW 6 mph</td>, <tr>\n",
      "<td class=\"text-right\"><b>Barometer</b></td>\n",
      "<td>29.88 in (1011.4 mb)</td>\n",
      "</tr>, <td class=\"text-right\"><b>Barometer</b></td>, <b>Barometer</b>, <td>29.88 in (1011.4 mb)</td>, <tr>\n",
      "<td class=\"text-right\"><b>Dewpoint</b></td>\n",
      "<td>43°F (6°C)</td>\n",
      "</tr>, <td class=\"text-right\"><b>Dewpoint</b></td>, <b>Dewpoint</b>, <td>43°F (6°C)</td>, <tr>\n",
      "<td class=\"text-right\"><b>Visibility</b></td>\n",
      "<td>10.00 mi</td>\n",
      "</tr>, <td class=\"text-right\"><b>Visibility</b></td>, <b>Visibility</b>, <td>10.00 mi</td>, <tr><td class=\"text-right\"><b>Heat Index</b></td><td>79°F (26°C)</td></tr>, <td class=\"text-right\"><b>Heat Index</b></td>, <b>Heat Index</b>, <td>79°F (26°C)</td>, <tr>\n",
      "<td class=\"text-right\"><b>Last update</b></td>\n",
      "<td>\n",
      "                14 Apr 1:53 pm EDT            </td>\n",
      "</tr>, <td class=\"text-right\"><b>Last update</b></td>, <b>Last update</b>, <td>\n",
      "                14 Apr 1:53 pm EDT            </td>]\n",
      "Wind Speed\n"
     ]
    }
   ],
   "source": [
    "#Then construct the URL by concatenating forecast.weather.gov with your latitude and longitude:\n",
    "httpString ='https://forecast.weather.gov/MapClick.php?textField1=40.47&textField2=-79.96'\n",
    "print(httpString)\n",
    "page = requests.get(httpString)\n",
    "\n",
    "# Parse the page\n",
    "soup = BeautifulSoup(page.content, 'html.parser')\n",
    "# Find the required tag\n",
    "details = soup.find(id=\"current_conditions_detail\")\n",
    "\n",
    "#print(details.prettify())\n",
    "# Find the sub-tag\n",
    "detail_items = details.find_all('td')\n",
    "print(detail_items)\n",
    "#find the value of the humidity\n",
    "#humidity = detail_items[0].get_text()\n",
    "print(humidity)\n",
    "\n",
    "# Find the sub-tag\n",
    "#detail_items = details.find_all(class_=\"text-right\")\n",
    "#turn detail_items into a list\n",
    "#detail_items = list(detail_items)\n",
    "# print(detail_items)\n",
    "# type(detail_items)\n",
    "#\n"
   ]
  },
  {
   "cell_type": "code",
   "execution_count": 35,
   "metadata": {},
   "outputs": [
    {
     "name": "stdout",
     "output_type": "stream",
     "text": [
      "['Humidity', '27%', 'Wind Speed', 'SW 6 mph', 'Barometer', '29.88 in (1011.4 mb)', 'Dewpoint', '43°F (6°C)', 'Visibility', '10.00 mi', 'Heat Index', '79°F (26°C)', 'Last update', '\\n                14 Apr 1:53 pm EDT            ']\n",
      "humidity:  27%\n",
      "Wind_Speed:  SW 6 mph\n",
      "Barometer:  29.88 in (1011.4 mb)\n",
      "Dewpoint:  43°F (6°C)\n",
      "Visibility:  10.00 mi\n",
      "Wind_Chill:  79°F (26°C)\n",
      "Last_update:  14 Apr 1:53 pm EDT\n"
     ]
    }
   ],
   "source": [
    "detail_items = details.find_all('td')\n",
    "result = []\n",
    "for item in detail_items:\n",
    "    result.append(item.get_text())\n",
    "print(result)\n",
    "humidity = result[1]\n",
    "Wind_Speed = result[3]\n",
    "Barometer = result[5]\n",
    "Dewpoint = result[7]\n",
    "Visibility = result[9]\n",
    "Wind_Chill = result[11]\n",
    "Last_update = result[13]\n",
    "print('humidity: ', humidity)\n",
    "print('Wind_Speed: ', Wind_Speed)\n",
    "print('Barometer: ', Barometer)\n",
    "print('Dewpoint: ', Dewpoint)\n",
    "print('Visibility: ', Visibility)\n",
    "print('Wind_Chill: ', Wind_Chill)\n",
    "print('Last_update: ', Last_update.strip())\n",
    "#     print(item.get_text())\n",
    "\n",
    "#print(detail_items[1].get_text())\n"
   ]
  },
  {
   "cell_type": "code",
   "execution_count": 34,
   "metadata": {},
   "outputs": [
    {
     "name": "stdout",
     "output_type": "stream",
     "text": [
      "14 Apr 1:53 pm EDT\n"
     ]
    }
   ],
   "source": [
    "#remove space and new line for last update\n",
    "Last_update = \n",
    "print(Last_update)"
   ]
  },
  {
   "attachments": {},
   "cell_type": "markdown",
   "metadata": {},
   "source": [
    "# Problem 2\n"
   ]
  },
  {
   "cell_type": "code",
   "execution_count": 45,
   "metadata": {},
   "outputs": [
    {
     "name": "stdout",
     "output_type": "stream",
     "text": [
      "200\n",
      "dict_keys(['dimension', 'fact'])\n"
     ]
    }
   ],
   "source": [
    "import json\n",
    "\n",
    "url = 'https://apps.who.int/gho/athena/api/GHO/WHOSIS_000004?filter=COUNTRY:BWA;YEAR:2016;SEX:BTSX&format=json&profile=simple'\n",
    "response=requests.get(url)\n",
    "headers={'Content-Type': 'application/json'}\n",
    "#add headers to the request\n",
    "response = requests.get(url, headers=headers)  \n",
    "\n",
    "#print the response's status_code\n",
    "print(response.status_code)\n",
    "#  print the data returned by json.loads(response.content.decode('utf-8')).\n",
    "data = json.loads(response.content.decode('utf-8'))\n",
    "type(data)\n",
    "#Now write a for loop to iterate over data.keys().\n",
    "print(data.keys())\n",
    "   "
   ]
  },
  {
   "cell_type": "code",
   "execution_count": null,
   "metadata": {},
   "outputs": [],
   "source": [
    "#the integer associated with Value (the last entry) using dict notation (you need to drill down to that entry)."
   ]
  },
  {
   "cell_type": "code",
   "execution_count": 47,
   "metadata": {},
   "outputs": [
    {
     "name": "stdout",
     "output_type": "stream",
     "text": [
      "[{'dim': {'REGION': 'Africa', 'YEAR': '2016', 'SEX': 'Both sexes', 'GHO': 'Adult mortality rate (probability of dying between 15 and 60 years per 1000 population)', 'COUNTRY': 'Botswana', 'PUBLISHSTATE': 'Published'}, 'Value': '249'}]\n"
     ]
    }
   ],
   "source": [
    "print(data['fact'])"
   ]
  },
  {
   "cell_type": "code",
   "execution_count": 58,
   "metadata": {},
   "outputs": [
    {
     "data": {
      "text/plain": [
       "0.249"
      ]
     },
     "execution_count": 58,
     "metadata": {},
     "output_type": "execute_result"
    }
   ],
   "source": [
    "int(data['fact'][0]['Value'])/1000"
   ]
  },
  {
   "cell_type": "code",
   "execution_count": 59,
   "metadata": {},
   "outputs": [
    {
     "name": "stdout",
     "output_type": "stream",
     "text": [
      "Mortality rate: 0.25\n"
     ]
    }
   ],
   "source": [
    "#(c.) Use a formatted print statement to display the mortality rate - \n",
    "#the integer associated with Value (the last entry) using dict notation.\n",
    "   \n",
    "print('Mortality rate: {:.2f}'.format(int(data['fact'][0]['Value'])/1000))\n",
    "\n",
    "\n"
   ]
  },
  {
   "cell_type": "code",
   "execution_count": 61,
   "metadata": {},
   "outputs": [
    {
     "name": "stdout",
     "output_type": "stream",
     "text": [
      "{'dimension': [{'label': 'GHO', 'display': 'Indicator'}, {'label': 'PUBLISHSTATE', 'display': 'PUBLISH STATES'}, {'label': 'YEAR', 'display': 'Year'}, {'label': 'REGION', 'display': 'WHO region'}, {'label': 'COUNTRY', 'display': 'Country'}, {'label': 'SEX', 'display': 'Sex'}], 'fact': [{'dim': {'REGION': 'Americas', 'COUNTRY': 'United States of America', 'GHO': 'Adult mortality rate (probability of dying between 15 and 60 years per 1000 population)', 'SEX': 'Both sexes', 'YEAR': '2016', 'PUBLISHSTATE': 'Published'}, 'Value': '114'}]}\n"
     ]
    }
   ],
   "source": [
    "#(d.) Change the URL to get mortality data for the USA in 2015. Print the returned information.\n",
    "url = 'https://apps.who.int/gho/athena/api/GHO/WHOSIS_000004?filter=COUNTRY:USA;YEAR:2015;SEX:BTSX&format=json&profile=simple'\n",
    "headers={'Content-Type': 'application/json'}\n",
    "#add headers to the request\n",
    "response = requests.get(url, headers=headers) \n",
    "data = json.loads(response.content.decode('utf-8'))\n",
    "print(data) "
   ]
  },
  {
   "attachments": {},
   "cell_type": "markdown",
   "metadata": {},
   "source": [
    "# Problem 3"
   ]
  },
  {
   "cell_type": "code",
   "execution_count": 65,
   "metadata": {},
   "outputs": [],
   "source": [
    "import pandas as pd"
   ]
  },
  {
   "cell_type": "code",
   "execution_count": 66,
   "metadata": {},
   "outputs": [],
   "source": [
    "#Create a DataFrame named pythonLibrary containing just the column identifiers 'Author', 'Title', and 'Published Date'.\n",
    "pythonLibrary = pd.DataFrame(columns=['Author', 'Title', 'Published Date'])"
   ]
  },
  {
   "cell_type": "code",
   "execution_count": 62,
   "metadata": {},
   "outputs": [],
   "source": [
    "#(b.) Write a function called fetchBook(isbn) that returns the author, title, and publishedDate in a list by retrieving book data from googleapis.com/books as in the notes – if available; \n",
    "#if not, set the field to a blank string.\n",
    "def fetchBook(isbn):\n",
    "    url = 'https://www.googleapis.com/books/v1/volumes?q=isbn:' + isbn\n",
    "    response = requests.get(url)\n",
    "    data = json.loads(response.content.decode('utf-8'))\n",
    "    print(data)\n",
    "    if 'items' in data:\n",
    "        author = data['items'][0]['volumeInfo']['authors'][0]\n",
    "        title = data['items'][0]['volumeInfo']['title']\n",
    "        publishedDate = data['items'][0]['volumeInfo']['publishedDate']\n",
    "    else:\n",
    "        author = ''\n",
    "        title = ''\n",
    "        publishedDate = ''\n",
    "    return [author, title, publishedDate]"
   ]
  },
  {
   "cell_type": "code",
   "execution_count": null,
   "metadata": {},
   "outputs": [],
   "source": [
    "#"
   ]
  },
  {
   "cell_type": "code",
   "execution_count": 67,
   "metadata": {},
   "outputs": [
    {
     "name": "stdout",
     "output_type": "stream",
     "text": [
      "{'kind': 'books#volumes', 'totalItems': 1, 'items': [{'kind': 'books#volume', 'id': '2BYfvgAACAAJ', 'etag': 'dPJqOJBOSC8', 'selfLink': 'https://www.googleapis.com/books/v1/volumes/2BYfvgAACAAJ', 'volumeInfo': {'title': 'Python for Data Analysis', 'subtitle': 'Data Wrangling with Pandas, Numpy, and Ipython', 'authors': ['Wes McKinney'], 'publisher': \"O'Reilly Media\", 'publishedDate': '2017-10', 'description': \"Get complete instructions for manipulating, processing, cleaning, and crunching datasets in Python. Updated for Python 3.6, the second edition of this hands-on guide is packed with practical case studies that show you how to solve a broad set of data analysis problems effectively. You'll learn the latest versions of pandas, NumPy, IPython, and Jupyter in the process. Written by Wes McKinney, the creator of the Python pandas project, this book is a practical, modern introduction to data science tools in Python. It's ideal for analysts new to Python and for Python programmers new to data science and scientific computing. Data files and related material are available on GitHub. Use the IPython shell and Jupyter notebook for exploratory computing Learn basic and advanced features in NumPy (Numerical Python) Get started with data analysis tools in the pandas library Use flexible tools to load, clean, transform, merge, and reshape data Create informative visualizations with matplotlib Apply the pandas groupby facility to slice, dice, and summarize datasets Analyze and manipulate regular and irregular time series data Learn how to solve real-world data analysis problems with thorough, detailed examples\", 'industryIdentifiers': [{'type': 'ISBN_10', 'identifier': '1491957662'}, {'type': 'ISBN_13', 'identifier': '9781491957660'}], 'readingModes': {'text': False, 'image': False}, 'pageCount': 550, 'printType': 'BOOK', 'categories': ['Computers'], 'averageRating': 5, 'ratingsCount': 1, 'maturityRating': 'NOT_MATURE', 'allowAnonLogging': False, 'contentVersion': 'preview-1.0.0', 'panelizationSummary': {'containsEpubBubbles': False, 'containsImageBubbles': False}, 'imageLinks': {'smallThumbnail': 'http://books.google.com/books/content?id=2BYfvgAACAAJ&printsec=frontcover&img=1&zoom=5&source=gbs_api', 'thumbnail': 'http://books.google.com/books/content?id=2BYfvgAACAAJ&printsec=frontcover&img=1&zoom=1&source=gbs_api'}, 'language': 'en', 'previewLink': 'http://books.google.com/books?id=2BYfvgAACAAJ&dq=isbn:9781491957660&hl=&cd=1&source=gbs_api', 'infoLink': 'http://books.google.com/books?id=2BYfvgAACAAJ&dq=isbn:9781491957660&hl=&source=gbs_api', 'canonicalVolumeLink': 'https://books.google.com/books/about/Python_for_Data_Analysis.html?hl=&id=2BYfvgAACAAJ'}, 'saleInfo': {'country': 'US', 'saleability': 'NOT_FOR_SALE', 'isEbook': False}, 'accessInfo': {'country': 'US', 'viewability': 'NO_PAGES', 'embeddable': False, 'publicDomain': False, 'textToSpeechPermission': 'ALLOWED', 'epub': {'isAvailable': False}, 'pdf': {'isAvailable': False}, 'webReaderLink': 'http://play.google.com/books/reader?id=2BYfvgAACAAJ&hl=&source=gbs_api', 'accessViewStatus': 'NONE', 'quoteSharingAllowed': False}, 'searchInfo': {'textSnippet': 'Presents case studies and instructions on how to solve data analysis problems using Python, in a book that explains how to: use the IPython shell and Jupyter notebook for exploratory computing; learn basic and advanced NumPy (Numerical ...'}}]}\n",
      "{'kind': 'books#volumes', 'totalItems': 0}\n",
      "{'kind': 'books#volumes', 'totalItems': 1, 'items': [{'kind': 'books#volume', 'id': 'yijjwAEACAAJ', 'etag': 'ELBpmgLFYT8', 'selfLink': 'https://www.googleapis.com/books/v1/volumes/yijjwAEACAAJ', 'volumeInfo': {'title': 'Python Data Science Handbook', 'subtitle': 'Essential Tools for Working with Data', 'authors': ['Jacob T. Vanderplas', 'Jake VanderPlas'], 'publisher': \"O'Reilly Media\", 'publishedDate': '2016', 'description': \"For many researchers, Python is a first-class tool mainly because of its libraries for storing, manipulating, and gaining insight from data. Several resources exist for individual pieces of this data science stack, but only with the Python Data Science Handbook do you get them all--IPython, NumPy, Pandas, Matplotlib, Scikit-Learn, and other related tools. Working scientists and data crunchers familiar with reading and writing Python code will find this comprehensive desk reference ideal for tackling day-to-day issues: manipulating, transforming, and cleaning data; visualizing different types of data; and using data to build statistical or machine learning models. Quite simply, this is the must-have reference for scientific computing in Python. With this handbook, you'll learn how to use: IPython and Jupyter: provide computational environments for data scientists using Python NumPy: includes the ndarray for efficient storage and manipulation of dense data arrays in Python Pandas: features the DataFrame for efficient storage and manipulation of labeled/columnar data in Python Matplotlib: includes capabilities for a flexible range of data visualizations in Python Scikit-Learn: for efficient and clean Python implementations of the most important and established machine learning algorithms\", 'industryIdentifiers': [{'type': 'ISBN_10', 'identifier': '1491912057'}, {'type': 'ISBN_13', 'identifier': '9781491912058'}], 'readingModes': {'text': False, 'image': False}, 'pageCount': 529, 'printType': 'BOOK', 'categories': ['Computers'], 'averageRating': 5, 'ratingsCount': 1, 'maturityRating': 'NOT_MATURE', 'allowAnonLogging': False, 'contentVersion': 'preview-1.0.0', 'panelizationSummary': {'containsEpubBubbles': False, 'containsImageBubbles': False}, 'imageLinks': {'smallThumbnail': 'http://books.google.com/books/content?id=yijjwAEACAAJ&printsec=frontcover&img=1&zoom=5&source=gbs_api', 'thumbnail': 'http://books.google.com/books/content?id=yijjwAEACAAJ&printsec=frontcover&img=1&zoom=1&source=gbs_api'}, 'language': 'en', 'previewLink': 'http://books.google.com/books?id=yijjwAEACAAJ&dq=isbn:9781491912058&hl=&cd=1&source=gbs_api', 'infoLink': 'http://books.google.com/books?id=yijjwAEACAAJ&dq=isbn:9781491912058&hl=&source=gbs_api', 'canonicalVolumeLink': 'https://books.google.com/books/about/Python_Data_Science_Handbook.html?hl=&id=yijjwAEACAAJ'}, 'saleInfo': {'country': 'US', 'saleability': 'NOT_FOR_SALE', 'isEbook': False}, 'accessInfo': {'country': 'US', 'viewability': 'NO_PAGES', 'embeddable': False, 'publicDomain': False, 'textToSpeechPermission': 'ALLOWED', 'epub': {'isAvailable': False}, 'pdf': {'isAvailable': False}, 'webReaderLink': 'http://play.google.com/books/reader?id=yijjwAEACAAJ&hl=&source=gbs_api', 'accessViewStatus': 'NONE', 'quoteSharingAllowed': False}, 'searchInfo': {'textSnippet': 'With this handbook, you&#39;ll learn how to use: IPython and Jupyter: provide computational environments for data scientists using Python NumPy: includes the ndarray for efficient storage and manipulation of dense data arrays in Python Pandas: ...'}}]}\n",
      "{'kind': 'books#volumes', 'totalItems': 1, 'items': [{'kind': 'books#volume', 'id': '99_byAEACAAJ', 'etag': 'KWh1PinWJnc', 'selfLink': 'https://www.googleapis.com/books/v1/volumes/99_byAEACAAJ', 'volumeInfo': {'title': 'Python for Data Science', 'subtitle': \"The Ultimate Beginners' Guide to Learning Python Data Science Step by Step\", 'authors': ['Ethan Williams'], 'publishedDate': '2019-08-18', 'description': \"This book is a comprehensive guide for beginners to learn Python Programming, especially its application for Data Science. While the lessons in this book are targeted at the absolute beginner to programming, people at various levels of proficiency in Python, or any other programming languages can also learn some basics and concepts of data science. A few Python libraries are introduced, including NumPy, Pandas, Matplotlib, and Seaborn for data analysis and visualisation. To make the lessons more intuitive and relatable, practical examples and applications of each lesson are given. The reader is equally encouraged to practise the techniques via exercises, within and at the end of the relevant chapters. To help the reader get a full learning experience, there are references to relevant reading and practice materials, and the reader is encouraged to click these links and explore the possibilities they offer. It is expected that with consistency in learning and practicing the reader can master Python and the basics of its application in data science. The only limitation to the reader's progress, however, is themselves!\", 'industryIdentifiers': [{'type': 'ISBN_10', 'identifier': '1687159106'}, {'type': 'ISBN_13', 'identifier': '9781687159106'}], 'readingModes': {'text': False, 'image': False}, 'pageCount': 200, 'printType': 'BOOK', 'maturityRating': 'NOT_MATURE', 'allowAnonLogging': False, 'contentVersion': 'preview-1.0.0', 'panelizationSummary': {'containsEpubBubbles': False, 'containsImageBubbles': False}, 'imageLinks': {'smallThumbnail': 'http://books.google.com/books/content?id=99_byAEACAAJ&printsec=frontcover&img=1&zoom=5&source=gbs_api', 'thumbnail': 'http://books.google.com/books/content?id=99_byAEACAAJ&printsec=frontcover&img=1&zoom=1&source=gbs_api'}, 'language': 'en', 'previewLink': 'http://books.google.com/books?id=99_byAEACAAJ&dq=isbn:1687159106&hl=&cd=1&source=gbs_api', 'infoLink': 'http://books.google.com/books?id=99_byAEACAAJ&dq=isbn:1687159106&hl=&source=gbs_api', 'canonicalVolumeLink': 'https://books.google.com/books/about/Python_for_Data_Science.html?hl=&id=99_byAEACAAJ'}, 'saleInfo': {'country': 'US', 'saleability': 'NOT_FOR_SALE', 'isEbook': False}, 'accessInfo': {'country': 'US', 'viewability': 'NO_PAGES', 'embeddable': False, 'publicDomain': False, 'textToSpeechPermission': 'ALLOWED', 'epub': {'isAvailable': False}, 'pdf': {'isAvailable': False}, 'webReaderLink': 'http://play.google.com/books/reader?id=99_byAEACAAJ&hl=&source=gbs_api', 'accessViewStatus': 'NONE', 'quoteSharingAllowed': False}, 'searchInfo': {'textSnippet': 'This book is a comprehensive guide for beginners to learn Python Programming, especially its application for Data Science.'}}]}\n",
      "                Author                         Title Published Date\n",
      "0         Wes McKinney      Python for Data Analysis        2017-10\n",
      "1                                                                  \n",
      "2  Jacob T. Vanderplas  Python Data Science Handbook           2016\n",
      "3       Ethan Williams       Python for Data Science     2019-08-18\n"
     ]
    }
   ],
   "source": [
    "#(c.) Retrieve the JSON records for the following books, by ISBN, using fetchBook: 9781491957660, 1449340377, 9781491912058, 1687159106\n",
    "#Add the information for these books to pythonLibrary.\n",
    "isbn_list = ['9781491957660', '1449340377', '9781491912058', '1687159106']\n",
    "for isbn in isbn_list:\n",
    "    pythonLibrary.loc[len(pythonLibrary)] = fetchBook(isbn)\n",
    "print(pythonLibrary)    \n"
   ]
  },
  {
   "cell_type": "code",
   "execution_count": 68,
   "metadata": {},
   "outputs": [
    {
     "name": "stdout",
     "output_type": "stream",
     "text": [
      "                Author                         Title Published Date\n",
      "0         Wes McKinney      Python for Data Analysis        2017-10\n",
      "1                                                                  \n",
      "2  Jacob T. Vanderplas  Python Data Science Handbook           2016\n",
      "3       Ethan Williams       Python for Data Science     2019-08-18\n"
     ]
    }
   ],
   "source": [
    "#(d.) Write the table out to a file named 'pythonLibrary.json' in JSON format.\n",
    "pythonLibrary.to_json('pythonLibrary.json')\n",
    "\n",
    "#(e.) Read the table back from the file into a DataFrame named 'newTable' and display it.\n",
    "newTable = pd.read_json('pythonLibrary.json')\n",
    "print(newTable)"
   ]
  }
 ],
 "metadata": {
  "kernelspec": {
   "display_name": "base",
   "language": "python",
   "name": "python3"
  },
  "language_info": {
   "codemirror_mode": {
    "name": "ipython",
    "version": 3
   },
   "file_extension": ".py",
   "mimetype": "text/x-python",
   "name": "python",
   "nbconvert_exporter": "python",
   "pygments_lexer": "ipython3",
   "version": "3.8.8"
  },
  "orig_nbformat": 4
 },
 "nbformat": 4,
 "nbformat_minor": 2
}
