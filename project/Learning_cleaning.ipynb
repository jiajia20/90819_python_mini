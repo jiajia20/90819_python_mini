{
 "cells": [
  {
   "cell_type": "code",
   "execution_count": 19,
   "metadata": {},
   "outputs": [],
   "source": [
    "import json\n",
    "import pandas as pd"
   ]
  },
  {
   "cell_type": "code",
   "execution_count": 16,
   "metadata": {},
   "outputs": [],
   "source": [
    "# Load the Twitter data from a file\n",
    "with open('/Users/cmu-work/Downloads/2023-02-04_00-00-00.json', 'r') as f:\n",
    "    data = [json.loads(line) for line in f]"
   ]
  },
  {
   "attachments": {},
   "cell_type": "markdown",
   "metadata": {},
   "source": [
    "## Examine the data structure and unpacking the json file"
   ]
  },
  {
   "cell_type": "code",
   "execution_count": null,
   "metadata": {},
   "outputs": [],
   "source": [
    "## A reminder of the data structure\n",
    "# a data is list of API call from twitter\n",
    "# data[0] is one API call\n",
    "# data[0]['data'] is the data from the API call\n",
    "# data[0]['data'][0] is the first tweet from the API call\n",
    "\n",
    "data[2]['data'][0].keys()\n",
    "\n",
    "#extact 'id', 'author_id', 'lang', 'text', 'created_at' from data[2]['data'][0]\n",
    "tweet_id = data[2]['data'][0]['id']\n",
    "author_id = data[2]['data'][0]['author_id']\n",
    "lang = data[2]['data'][0]['lang']\n",
    "text = data[2]['data'][0]['text']\n",
    "created_at = data[2]['data'][0]['created_at']\n",
    "\n",
    "#print out the data\n",
    "print(tweet_id, author_id, lang, text, created_at)"
   ]
  },
  {
   "attachments": {},
   "cell_type": "markdown",
   "metadata": {},
   "source": [
    "## extact data"
   ]
  },
  {
   "cell_type": "code",
   "execution_count": 33,
   "metadata": {},
   "outputs": [
    {
     "name": "stdout",
     "output_type": "stream",
     "text": [
      "1622009936367558657 52446867 en RT @thehill: Train derailment sparks massive fire in Ohio, prompts evacuations https://t.co/ydRyCJZVaI https://t.co/UuusngLYmL 2023-02-04T23:11:18.000Z\n"
     ]
    },
    {
     "data": {
      "text/html": [
       "<div>\n",
       "<style scoped>\n",
       "    .dataframe tbody tr th:only-of-type {\n",
       "        vertical-align: middle;\n",
       "    }\n",
       "\n",
       "    .dataframe tbody tr th {\n",
       "        vertical-align: top;\n",
       "    }\n",
       "\n",
       "    .dataframe thead th {\n",
       "        text-align: right;\n",
       "    }\n",
       "</style>\n",
       "<table border=\"1\" class=\"dataframe\">\n",
       "  <thead>\n",
       "    <tr style=\"text-align: right;\">\n",
       "      <th></th>\n",
       "      <th>id</th>\n",
       "      <th>author_id</th>\n",
       "      <th>lang</th>\n",
       "      <th>text</th>\n",
       "      <th>created_at</th>\n",
       "    </tr>\n",
       "  </thead>\n",
       "  <tbody>\n",
       "    <tr>\n",
       "      <th>0</th>\n",
       "      <td>1622022183882035205</td>\n",
       "      <td>300614659</td>\n",
       "      <td>en</td>\n",
       "      <td>RT @AfricanArchives: Ida B. Wells successfully...</td>\n",
       "      <td>2023-02-04T23:59:59.000Z</td>\n",
       "    </tr>\n",
       "    <tr>\n",
       "      <th>1</th>\n",
       "      <td>1622022040608800768</td>\n",
       "      <td>392978157</td>\n",
       "      <td>en</td>\n",
       "      <td>Freight train cars continued to burn on Saturd...</td>\n",
       "      <td>2023-02-04T23:59:24.000Z</td>\n",
       "    </tr>\n",
       "    <tr>\n",
       "      <th>2</th>\n",
       "      <td>1622021853916106752</td>\n",
       "      <td>3313635276</td>\n",
       "      <td>en</td>\n",
       "      <td>50-car train derailment in Ohio causes massive...</td>\n",
       "      <td>2023-02-04T23:58:40.000Z</td>\n",
       "    </tr>\n",
       "    <tr>\n",
       "      <th>3</th>\n",
       "      <td>1622021815445897217</td>\n",
       "      <td>250828392</td>\n",
       "      <td>ar</td>\n",
       "      <td>@M__bestawy الخبر من عندهم بس لسه ماجابوش سيرة...</td>\n",
       "      <td>2023-02-04T23:58:31.000Z</td>\n",
       "    </tr>\n",
       "    <tr>\n",
       "      <th>4</th>\n",
       "      <td>1622021771166629888</td>\n",
       "      <td>1582912952780263424</td>\n",
       "      <td>en</td>\n",
       "      <td>YWN: WATCH: 50-Car Train Derailment Causes Big...</td>\n",
       "      <td>2023-02-04T23:58:20.000Z</td>\n",
       "    </tr>\n",
       "  </tbody>\n",
       "</table>\n",
       "</div>"
      ],
      "text/plain": [
       "                    id            author_id lang  \\\n",
       "0  1622022183882035205            300614659   en   \n",
       "1  1622022040608800768            392978157   en   \n",
       "2  1622021853916106752           3313635276   en   \n",
       "3  1622021815445897217            250828392   ar   \n",
       "4  1622021771166629888  1582912952780263424   en   \n",
       "\n",
       "                                                text                created_at  \n",
       "0  RT @AfricanArchives: Ida B. Wells successfully...  2023-02-04T23:59:59.000Z  \n",
       "1  Freight train cars continued to burn on Saturd...  2023-02-04T23:59:24.000Z  \n",
       "2  50-car train derailment in Ohio causes massive...  2023-02-04T23:58:40.000Z  \n",
       "3  @M__bestawy الخبر من عندهم بس لسه ماجابوش سيرة...  2023-02-04T23:58:31.000Z  \n",
       "4  YWN: WATCH: 50-Car Train Derailment Causes Big...  2023-02-04T23:58:20.000Z  "
      ]
     },
     "execution_count": 33,
     "metadata": {},
     "output_type": "execute_result"
    }
   ],
   "source": [
    "# write a while loop to exact 'id', 'author_id', 'lang', 'text', 'created_at' from data[2]['data'] and stored in a pandas dataframe\n",
    "# the dataframe should have 5 columns: 'id', 'author_id', 'lang', 'text', 'created_at'\n",
    "# the dataframe should have 100 rows\n",
    "\n",
    "# create a empty dataframe\n",
    "df = pd.DataFrame(columns=['id', 'author_id', 'lang', 'text', 'created_at'])\n",
    "\n",
    "# loop through the data\n",
    "for i in range(len(data)):\n",
    "    for j in range(len(data[i]['data'])):\n",
    "        tweet_id = data[i]['data'][j]['id']\n",
    "        author_id = data[i]['data'][j]['author_id']\n",
    "        lang = data[i]['data'][j]['lang']\n",
    "        text = data[i]['data'][j]['text']\n",
    "        created_at = data[i]['data'][j]['created_at']\n",
    "        df = df.append({'id': tweet_id, 'author_id': author_id, 'lang': lang, 'text': text, 'created_at': created_at}, ignore_index=True)\n",
    "\n",
    "# check the dataframe\n",
    "df.head()"
   ]
  },
  {
   "cell_type": "code",
   "execution_count": 34,
   "metadata": {},
   "outputs": [],
   "source": [
    "# save the dataframe to a csv file\n",
    "df.to_csv('tweets_feb4.csv', index=False)"
   ]
  },
  {
   "cell_type": "code",
   "execution_count": 39,
   "metadata": {},
   "outputs": [
    {
     "data": {
      "text/plain": [
       "'2023-02-04'"
      ]
     },
     "execution_count": 39,
     "metadata": {},
     "output_type": "execute_result"
    }
   ],
   "source": [
    "time = data[0]['data'][0]['created_at']\n",
    "#exact the date from time\n",
    "date = time.split('T')[0]\n",
    "date"
   ]
  },
  {
   "cell_type": "code",
   "execution_count": 35,
   "metadata": {},
   "outputs": [
    {
     "data": {
      "text/plain": [
       "8157"
      ]
     },
     "execution_count": 35,
     "metadata": {},
     "output_type": "execute_result"
    }
   ],
   "source": [
    "len(df)"
   ]
  },
  {
   "attachments": {},
   "cell_type": "markdown",
   "metadata": {},
   "source": [
    "## Automating "
   ]
  },
  {
   "cell_type": "code",
   "execution_count": 3,
   "metadata": {},
   "outputs": [],
   "source": [
    "\n",
    "def clean_twarc_to_csv(in_path, out_path):\n",
    "    # Load the Twitter data from a file\n",
    "    with open(in_path, 'r') as f:\n",
    "        data = [json.loads(line) for line in f]\n",
    "\n",
    "    # create a empty dataframe\n",
    "    df = pd.DataFrame(columns=['id', 'author_id', 'lang', 'text', 'created_at'])\n",
    "\n",
    "    # loop through the data\n",
    "    for i in range(len(data)):\n",
    "        for j in range(len(data[i]['data'])):\n",
    "            tweet_id = data[i]['data'][j]['id']\n",
    "            author_id = data[i]['data'][j]['author_id']\n",
    "            lang = data[i]['data'][j]['lang']\n",
    "            text = data[i]['data'][j]['text']\n",
    "            created_at = data[i]['data'][j]['created_at']\n",
    "            df = df.append({'id': tweet_id, 'author_id': author_id, 'lang': lang, 'text': text, 'created_at': created_at}, ignore_index=True)\n",
    "    \n",
    "    #create a name for the output file based on the dates of the tweets\n",
    "    time = data[0]['data'][0]['created_at']\n",
    "    #exact the date from time\n",
    "    date = time.split('T')[0]\n",
    "\n",
    "    full_out_path = out_path + date +'_clean.csv'\n",
    "    df.to_csv(full_out_path, index=False)\n",
    "\n",
    "    return (len(df))\n",
    "    \n",
    "    "
   ]
  },
  {
   "cell_type": "code",
   "execution_count": 4,
   "metadata": {},
   "outputs": [],
   "source": []
  },
  {
   "cell_type": "code",
   "execution_count": 2,
   "metadata": {},
   "outputs": [
    {
     "ename": "FileNotFoundError",
     "evalue": "[Errno 2] No such file or directory: '/Users/cmu-work/Downloads/2023-02-05_00-00-00.json'",
     "output_type": "error",
     "traceback": [
      "\u001b[0;31m---------------------------------------------------------------------------\u001b[0m",
      "\u001b[0;31mFileNotFoundError\u001b[0m                         Traceback (most recent call last)",
      "\u001b[0;32m<ipython-input-2-ae1d8e42e06a>\u001b[0m in \u001b[0;36m<module>\u001b[0;34m\u001b[0m\n\u001b[0;32m----> 1\u001b[0;31m \u001b[0mclean_twarc_to_csv\u001b[0m\u001b[0;34m(\u001b[0m\u001b[0;34m'/Users/cmu-work/Downloads/2023-02-05_00-00-00.json'\u001b[0m\u001b[0;34m,\u001b[0m \u001b[0;34m'/Users/cmu-work/Data/Conspiracy dataset/Ohio_Clean/'\u001b[0m\u001b[0;34m)\u001b[0m\u001b[0;34m\u001b[0m\u001b[0;34m\u001b[0m\u001b[0m\n\u001b[0m",
      "\u001b[0;32m<ipython-input-1-e3c7476ff8b6>\u001b[0m in \u001b[0;36mclean_twarc_to_csv\u001b[0;34m(in_path, out_path)\u001b[0m\n\u001b[1;32m      1\u001b[0m \u001b[0;32mdef\u001b[0m \u001b[0mclean_twarc_to_csv\u001b[0m\u001b[0;34m(\u001b[0m\u001b[0min_path\u001b[0m\u001b[0;34m,\u001b[0m \u001b[0mout_path\u001b[0m\u001b[0;34m)\u001b[0m\u001b[0;34m:\u001b[0m\u001b[0;34m\u001b[0m\u001b[0;34m\u001b[0m\u001b[0m\n\u001b[1;32m      2\u001b[0m     \u001b[0;31m# Load the Twitter data from a file\u001b[0m\u001b[0;34m\u001b[0m\u001b[0;34m\u001b[0m\u001b[0;34m\u001b[0m\u001b[0m\n\u001b[0;32m----> 3\u001b[0;31m     \u001b[0;32mwith\u001b[0m \u001b[0mopen\u001b[0m\u001b[0;34m(\u001b[0m\u001b[0min_path\u001b[0m\u001b[0;34m,\u001b[0m \u001b[0;34m'r'\u001b[0m\u001b[0;34m)\u001b[0m \u001b[0;32mas\u001b[0m \u001b[0mf\u001b[0m\u001b[0;34m:\u001b[0m\u001b[0;34m\u001b[0m\u001b[0;34m\u001b[0m\u001b[0m\n\u001b[0m\u001b[1;32m      4\u001b[0m         \u001b[0mdata\u001b[0m \u001b[0;34m=\u001b[0m \u001b[0;34m[\u001b[0m\u001b[0mjson\u001b[0m\u001b[0;34m.\u001b[0m\u001b[0mloads\u001b[0m\u001b[0;34m(\u001b[0m\u001b[0mline\u001b[0m\u001b[0;34m)\u001b[0m \u001b[0;32mfor\u001b[0m \u001b[0mline\u001b[0m \u001b[0;32min\u001b[0m \u001b[0mf\u001b[0m\u001b[0;34m]\u001b[0m\u001b[0;34m\u001b[0m\u001b[0;34m\u001b[0m\u001b[0m\n\u001b[1;32m      5\u001b[0m \u001b[0;34m\u001b[0m\u001b[0m\n",
      "\u001b[0;31mFileNotFoundError\u001b[0m: [Errno 2] No such file or directory: '/Users/cmu-work/Downloads/2023-02-05_00-00-00.json'"
     ]
    }
   ],
   "source": [
    "clean_twarc_to_csv('/Users/cmu-work/Downloads/2023-02-05_00-00-00.json', '/Users/cmu-work/Data/Conspiracy dataset/Ohio_Clean/')"
   ]
  },
  {
   "cell_type": "code",
   "execution_count": 8,
   "metadata": {},
   "outputs": [],
   "source": [
    "# get a list of path for all the json files in the folder x\n",
    "\n",
    "import os\n",
    "import glob\n",
    "\n",
    "def get_path_list(x):\n",
    "    path_list = []\n",
    "    for file in glob.glob(x + \"/*.json\"):\n",
    "        path_list.append(file)\n",
    "    return path_list\n",
    "\n",
    "# get a list of path for all the json files in the folder x\n",
    "path_list = get_path_list('/Users/cmu-work/Data/Conspiracy dataset/Twitter_Ohio_Palestine')"
   ]
  },
  {
   "attachments": {},
   "cell_type": "markdown",
   "metadata": {},
   "source": [
    "## Get Length"
   ]
  },
  {
   "cell_type": "code",
   "execution_count": null,
   "metadata": {},
   "outputs": [],
   "source": [
    "import json"
   ]
  },
  {
   "cell_type": "code",
   "execution_count": 9,
   "metadata": {},
   "outputs": [],
   "source": [
    "def return_length(in_path):\n",
    "    # Load the Twitter data from a file\n",
    "    with open(in_path, 'r') as f:\n",
    "        data = [json.loads(line) for line in f]\n",
    "\n",
    "    # # create a empty dataframe\n",
    "    # df = pd.DataFrame(columns=['id', 'author_id', 'lang', 'text', 'created_at'])\n",
    "\n",
    "    # # loop through the data\n",
    "    # for i in range(len(data)):\n",
    "    #     for j in range(len(data[i]['data'])):\n",
    "    #         tweet_id = data[i]['data'][j]['id']\n",
    "    #         author_id = data[i]['data'][j]['author_id']\n",
    "    #         lang = data[i]['data'][j]['lang']\n",
    "    #         text = data[i]['data'][j]['text']\n",
    "    #         created_at = data[i]['data'][j]['created_at']\n",
    "    #         df = df.append({'id': tweet_id, 'author_id': author_id, 'lang': lang, 'text': text, 'created_at': created_at}, ignore_index=True)\n",
    "    \n",
    "    # #create a name for the output file based on the dates of the tweets\n",
    "    time = data[0]['data'][0]['created_at']\n",
    "    #exact the date from time\n",
    "    date = time.split('T')[0]\n",
    "\n",
    "    # full_out_path = out_path + date +'_clean.csv'\n",
    "    # df.to_csv(full_out_path, index=False)\n",
    "\n",
    "    return ((date,len(data)))"
   ]
  },
  {
   "cell_type": "code",
   "execution_count": 10,
   "metadata": {},
   "outputs": [
    {
     "data": {
      "text/plain": [
       "('2023-02-04', 83)"
      ]
     },
     "execution_count": 10,
     "metadata": {},
     "output_type": "execute_result"
    }
   ],
   "source": [
    "return_length('/Users/cmu-work/Data/Conspiracy dataset/Twitter_Ohio_Palestine/2023-02-04_00-00-00.json')"
   ]
  },
  {
   "cell_type": "code",
   "execution_count": 16,
   "metadata": {},
   "outputs": [
    {
     "name": "stdout",
     "output_type": "stream",
     "text": [
      "('2023-02-11', 1122)\n",
      "('2023-02-06', 196)\n",
      "('2023-03-21', 211)\n",
      "('2023-02-28', 1037)\n",
      "('2023-03-18', 188)\n",
      "('2023-03-25', 96)\n",
      "('2023-02-15', 5181)\n",
      "('2023-03-22', 178)\n",
      "('2023-02-05', 34)\n",
      "('2023-02-12', 2116)\n",
      "('2023-03-31', 196)\n",
      "('2023-02-16', 5411)\n",
      "('2023-03-26', 228)\n",
      "('2023-03-08', 207)\n",
      "('2023-04-03', 169)\n",
      "('2023-03-15', 184)\n",
      "('2023-02-25', 1978)\n",
      "('2023-03-02', 548)\n",
      "('2023-02-18', 3976)\n",
      "('2023-03-28', 182)\n",
      "('2023-03-06', 351)\n",
      "('2023-02-21', 2590)\n",
      "('2023-03-11', 191)\n",
      "('2023-02-08', 60)\n",
      "('2023-03-01', 583)\n",
      "('2023-02-26', 1018)\n",
      "('2023-03-16', 196)\n",
      "('2023-03-12', 186)\n",
      "('2023-02-22', 4723)\n",
      "('2023-03-05', 968)\n",
      "('2023-02-23', 6112)\n",
      "('2023-03-04', 443)\n",
      "('2023-03-13', 688)\n",
      "('2023-03-17', 176)\n",
      "('2023-02-27', 909)\n",
      "('2023-02-09', 324)\n",
      "('2023-04-01', 128)\n",
      "('2023-03-10', 257)\n",
      "('2023-03-07', 319)\n",
      "('2023-02-20', 2966)\n",
      "('2023-03-29', 236)\n",
      "('2023-02-19', 2647)\n",
      "('2023-02-24', 3040)\n",
      "('2023-03-03', 444)\n",
      "('2023-03-14', 387)\n",
      "('2023-04-02', 73)\n",
      "('2023-03-09', 327)\n",
      "('2023-03-27', 444)\n",
      "('2023-03-30', 95)\n",
      "('2023-02-17', 5233)\n",
      "('2023-02-13', 7285)\n",
      "('2023-03-23', 104)\n",
      "('2023-02-04', 83)\n",
      "('2023-02-14', 8068)\n",
      "('2023-03-24', 102)\n",
      "('2023-02-03', 10)\n",
      "('2023-03-19', 233)\n",
      "('2023-02-07', 152)\n",
      "('2023-03-20', 279)\n",
      "('2023-02-10', 643)\n"
     ]
    }
   ],
   "source": [
    "#loop through the path_list and clean the data\n",
    "length_list = []\n",
    "for i in range(len(path_list)):\n",
    "    result = return_length(path_list[i])\n",
    "    print(result)\n",
    "    length_list.append(result)\n"
   ]
  },
  {
   "cell_type": "code",
   "execution_count": 17,
   "metadata": {},
   "outputs": [],
   "source": [
    "import pandas as pd"
   ]
  },
  {
   "cell_type": "code",
   "execution_count": 19,
   "metadata": {},
   "outputs": [],
   "source": [
    "# save the list to a csv file\n",
    "df = pd.DataFrame(length_list, columns=['date', 'length'])\n",
    "\n",
    "# save the dataframe to a csv file\n",
    "df.to_csv('length_list.csv', index=False)"
   ]
  },
  {
   "cell_type": "code",
   "execution_count": 20,
   "metadata": {},
   "outputs": [],
   "source": [
    "\n"
   ]
  },
  {
   "cell_type": "code",
   "execution_count": 1,
   "metadata": {},
   "outputs": [],
   "source": [
    "import pandas as pd\n",
    "# load length_list.csv\n",
    "df = pd.read_csv('length_list.csv')"
   ]
  },
  {
   "cell_type": "code",
   "execution_count": 2,
   "metadata": {},
   "outputs": [],
   "source": [
    "# order the dataframe by date\n",
    "df = df.sort_values(by=['date'])"
   ]
  },
  {
   "cell_type": "code",
   "execution_count": 8,
   "metadata": {},
   "outputs": [],
   "source": [
    "# turn the date into a datetime object\n",
    "df['date'] = pd.to_datetime(df['date'])"
   ]
  },
  {
   "cell_type": "code",
   "execution_count": 9,
   "metadata": {},
   "outputs": [
    {
     "data": {
      "text/plain": [
       "pandas._libs.tslibs.timestamps.Timestamp"
      ]
     },
     "execution_count": 9,
     "metadata": {},
     "output_type": "execute_result"
    }
   ],
   "source": [
    "type(df.iloc[0]['date'])"
   ]
  },
  {
   "cell_type": "code",
   "execution_count": 21,
   "metadata": {},
   "outputs": [
    {
     "data": {
      "image/png": "[encoded data removed]",
      "text/plain": [
       "<Figure size 432x288 with 1 Axes>"
      ]
     },
     "metadata": {
      "needs_background": "light"
     },
     "output_type": "display_data"
    }
   ],
   "source": [
    "#visualize the data\n",
    "# only show a selection of the dates on the x-axis\n",
    "import matplotlib.pyplot as plt\n",
    "import numpy as np\n",
    "\n",
    "# create a list of dates\n",
    "date_list = df['date'].tolist()\n",
    "\n",
    "# create a list of length\n",
    "length_list = df['length'].tolist()\n",
    "\n",
    "# create a list of index\n",
    "index_list = np.arange(len(date_list))\n"
   ]
  },
  {
   "cell_type": "code",
   "execution_count": 10,
   "metadata": {},
   "outputs": [
    {
     "data": {
      "image/png": "[encoded data removed]",
      "text/plain": [
       "<Figure size 432x288 with 1 Axes>"
      ]
     },
     "metadata": {
      "needs_background": "light"
     },
     "output_type": "display_data"
    }
   ],
   "source": [
    "import matplotlib.pyplot as plt\n",
    "plt.plot(df['date'], df['length'])\n",
    "plt.xticks(rotation=90)\n",
    "plt.show()"
   ]
  },
  {
   "cell_type": "code",
   "execution_count": 15,
   "metadata": {},
   "outputs": [
    {
     "data": {
      "text/plain": [
       "[('2023-02-11', 1122),\n",
       " ('2023-02-06', 196),\n",
       " ('2023-03-21', 211),\n",
       " ('2023-02-28', 1037),\n",
       " ('2023-03-18', 188),\n",
       " ('2023-03-25', 96),\n",
       " ('2023-02-15', 5181),\n",
       " ('2023-03-22', 178),\n",
       " ('2023-02-05', 34),\n",
       " ('2023-02-12', 2116),\n",
       " ('2023-03-31', 196),\n",
       " ('2023-02-16', 5411),\n",
       " ('2023-03-26', 228),\n",
       " ('2023-03-08', 207),\n",
       " ('2023-04-03', 169),\n",
       " ('2023-03-15', 184),\n",
       " ('2023-02-25', 1978),\n",
       " ('2023-03-02', 548),\n",
       " ('2023-02-18', 3976),\n",
       " ('2023-03-28', 182),\n",
       " ('2023-03-06', 351),\n",
       " ('2023-02-21', 2590),\n",
       " ('2023-03-11', 191),\n",
       " ('2023-02-08', 60),\n",
       " ('2023-03-01', 583),\n",
       " ('2023-02-26', 1018),\n",
       " ('2023-03-16', 196),\n",
       " ('2023-03-12', 186)]"
      ]
     },
     "execution_count": 15,
     "metadata": {},
     "output_type": "execute_result"
    }
   ],
   "source": [
    "length_list"
   ]
  },
  {
   "cell_type": "code",
   "execution_count": 17,
   "metadata": {},
   "outputs": [
    {
     "data": {
      "text/plain": [
       "83"
      ]
     },
     "execution_count": 17,
     "metadata": {},
     "output_type": "execute_result"
    }
   ],
   "source": [
    "len(data)"
   ]
  },
  {
   "cell_type": "code",
   "execution_count": 11,
   "metadata": {},
   "outputs": [
    {
     "data": {
      "text/plain": [
       "10"
      ]
     },
     "execution_count": 11,
     "metadata": {},
     "output_type": "execute_result"
    }
   ],
   "source": [
    "data[0]"
   ]
  },
  {
   "cell_type": "code",
   "execution_count": 6,
   "metadata": {},
   "outputs": [],
   "source": [
    "import json\n",
    "import twarc "
   ]
  },
  {
   "cell_type": "code",
   "execution_count": 3,
   "metadata": {},
   "outputs": [],
   "source": []
  },
  {
   "cell_type": "code",
   "execution_count": null,
   "metadata": {},
   "outputs": [],
   "source": [
    "Feb12 = [json.loads(line) for line in open('/Users/cmu-work/Downloads/2023-02-12_00-00-00.json', 'r')]"
   ]
  },
  {
   "cell_type": "code",
   "execution_count": null,
   "metadata": {},
   "outputs": [],
   "source": [
    "# call twarc2 flatten function \n",
    "\n",
    "Feb12_flatten = flatten(Feb12)\n"
   ]
  },
  {
   "cell_type": "code",
   "execution_count": null,
   "metadata": {},
   "outputs": [],
   "source": [
    "len(Feb12)"
   ]
  },
  {
   "cell_type": "code",
   "execution_count": null,
   "metadata": {},
   "outputs": [],
   "source": [
    "# read data in line by line\n",
    "data = [json.loads(line) for line in open('/Users/cmu-work/Downloads/2023-02-03_00-00-00.json', 'r')]"
   ]
  },
  {
   "cell_type": "code",
   "execution_count": null,
   "metadata": {},
   "outputs": [],
   "source": [
    "data[0].keys()"
   ]
  },
  {
   "cell_type": "code",
   "execution_count": null,
   "metadata": {},
   "outputs": [],
   "source": [
    "data[0]['data'][0].keys()"
   ]
  },
  {
   "cell_type": "code",
   "execution_count": null,
   "metadata": {},
   "outputs": [],
   "source": [
    "data[0]['data'][0].keys()"
   ]
  },
  {
   "cell_type": "code",
   "execution_count": null,
   "metadata": {},
   "outputs": [],
   "source": [
    "data[0]['includes'].keys()"
   ]
  },
  {
   "cell_type": "code",
   "execution_count": null,
   "metadata": {},
   "outputs": [],
   "source": [
    "# turn a list into a dataframe\n",
    "import pandas as pd\n",
    "df_t0 = pd.DataFrame(data[0]['includes']['tweets'])\n"
   ]
  },
  {
   "cell_type": "code",
   "execution_count": null,
   "metadata": {},
   "outputs": [],
   "source": [
    "df_t0 "
   ]
  },
  {
   "cell_type": "code",
   "execution_count": null,
   "metadata": {},
   "outputs": [],
   "source": [
    "data[0]['data'][0].keys()"
   ]
  },
  {
   "cell_type": "code",
   "execution_count": null,
   "metadata": {},
   "outputs": [],
   "source": [
    "data[0]['data'][0]['possibly_sensitive']"
   ]
  },
  {
   "cell_type": "code",
   "execution_count": null,
   "metadata": {},
   "outputs": [],
   "source": [
    "data[0]['data'][0]['text']"
   ]
  },
  {
   "cell_type": "code",
   "execution_count": null,
   "metadata": {},
   "outputs": [],
   "source": [
    "data[0].keys()"
   ]
  },
  {
   "cell_type": "code",
   "execution_count": null,
   "metadata": {},
   "outputs": [],
   "source": [
    "data[0]"
   ]
  },
  {
   "cell_type": "code",
   "execution_count": null,
   "metadata": {},
   "outputs": [],
   "source": [
    "tweets = []\n",
    "for line in open('/Users/cmu-work/Downloads/2023-02-03_00-00-00.json', 'r'):\n",
    "    tweets.append(json.loads(line))"
   ]
  },
  {
   "cell_type": "code",
   "execution_count": null,
   "metadata": {},
   "outputs": [],
   "source": [
    "len(tweets)\n",
    "\n",
    "type(tweets[0])"
   ]
  },
  {
   "cell_type": "code",
   "execution_count": null,
   "metadata": {},
   "outputs": [],
   "source": [
    "# turning twitter data into a dataframe\n",
    "import pandas as pd\n",
    "df = pd.DataFrame(tweets)\n",
    "df.head()\n"
   ]
  },
  {
   "cell_type": "code",
   "execution_count": null,
   "metadata": {},
   "outputs": [],
   "source": [
    "tweets[0].keys()\n",
    "tweets[0]['includes']"
   ]
  },
  {
   "cell_type": "code",
   "execution_count": null,
   "metadata": {},
   "outputs": [],
   "source": [
    "# find the size of the dictionary\n",
    "\n",
    "# the first line  (1/10 the tweeter data)\n",
    "tweets[0].keys()\n",
    "tweets[0]['data'][0]\n"
   ]
  }
 ],
 "metadata": {
  "kernelspec": {
   "display_name": "base",
   "language": "python",
   "name": "python3"
  },
  "language_info": {
   "codemirror_mode": {
    "name": "ipython",
    "version": 3
   },
   "file_extension": ".py",
   "mimetype": "text/x-python",
   "name": "python",
   "nbconvert_exporter": "python",
   "pygments_lexer": "ipython3",
   "version": "3.8.8"
  },
  "orig_nbformat": 4
 },
 "nbformat": 4,
 "nbformat_minor": 2
}
