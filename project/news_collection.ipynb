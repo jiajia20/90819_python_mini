{
 "cells": [
  {
   "attachments": {},
   "cell_type": "markdown",
   "metadata": {},
   "source": [
    "# Progress\n",
    "- using beautiful soup to script Nexis Uni doesn't work because it requires authentication\n",
    "- Tried to use the link it provide also doesn't work because it requires capcha\n",
    "- tried to download in batch doesn't work because \n",
    "\n",
    "- chosing the option between download manually or use GUI tool\n",
    "- turn out GUI tool takes more time"
   ]
  },
  {
   "cell_type": "code",
   "execution_count": 2,
   "metadata": {},
   "outputs": [
    {
     "data": {
      "text/plain": [
       "24"
      ]
     },
     "execution_count": 2,
     "metadata": {},
     "output_type": "execute_result"
    }
   ],
   "source": [
    "#find all xlsx files across all subdirectories\n",
    "import glob\n",
    "import pandas as pd\n",
    "import numpy as np\n",
    "import os\n",
    "import re\n",
    "\n",
    "path = '/Users/cmu-work/Data/2 - Conspiracy dataset/Ohio_News_Data'\n",
    "folders = os.listdir(path)\n",
    "all_files = []\n",
    "\n",
    "for folder in folders:\n",
    "    files = glob.glob(path + '/' + folder + '/*.xlsx')\n",
    "    all_files.extend(files)\n",
    "\n",
    "\n",
    "len(all_files)"
   ]
  },
  {
   "cell_type": "code",
   "execution_count": 6,
   "metadata": {},
   "outputs": [],
   "source": [
    "df = pd.DataFrame()\n",
    "\n",
    "# loop through the sub-folders\n",
    "for file_path in all_files:\n",
    "    # read the file\n",
    "    temp_df = pd.read_excel(file_path)\n",
    "    # append the file data to the dataframe\n",
    "    df = df.append(temp_df)\n",
    "\n",
    "# remove the duplicate rows\n",
    "df = df.drop_duplicates()\n",
    "\n",
    "# save the dataframe as a csv file\n",
    "df.to_csv('news_data.csv', index=False)\n",
    "\n"
   ]
  },
  {
   "cell_type": "code",
   "execution_count": 10,
   "metadata": {},
   "outputs": [
    {
     "data": {
      "text/html": [
       "<div>\n",
       "<style scoped>\n",
       "    .dataframe tbody tr th:only-of-type {\n",
       "        vertical-align: middle;\n",
       "    }\n",
       "\n",
       "    .dataframe tbody tr th {\n",
       "        vertical-align: top;\n",
       "    }\n",
       "\n",
       "    .dataframe thead th {\n",
       "        text-align: right;\n",
       "    }\n",
       "</style>\n",
       "<table border=\"1\" class=\"dataframe\">\n",
       "  <thead>\n",
       "    <tr style=\"text-align: right;\">\n",
       "      <th></th>\n",
       "      <th>Headline</th>\n",
       "      <th>Publication</th>\n",
       "      <th>Summary</th>\n",
       "      <th>Date</th>\n",
       "    </tr>\n",
       "  </thead>\n",
       "  <tbody>\n",
       "    <tr>\n",
       "      <th>0</th>\n",
       "      <td>Unexplained Chaos In The Sky And On The Ground...</td>\n",
       "      <td>TUCKER CARLSON TONIGHT 8:00 PM EST JD Vance, C...</td>\n",
       "      <td>NaN</td>\n",
       "      <td>2023-02-13</td>\n",
       "    </tr>\n",
       "    <tr>\n",
       "      <th>1</th>\n",
       "      <td>Biden: 3 Objects Not Related To China; IL Hobb...</td>\n",
       "      <td>MORNINGS WITH MARIA&gt; 6:00 AM EST Greg Faranell...</td>\n",
       "      <td>NaN</td>\n",
       "      <td>2023-02-17</td>\n",
       "    </tr>\n",
       "    <tr>\n",
       "      <th>2</th>\n",
       "      <td>NBC NIGHTLY NEWS for February 18, 2023, NBC</td>\n",
       "      <td>NBC NIGHTLY NEWS&gt; 6:30 PM EST NBC News, NEWS, ...</td>\n",
       "      <td>NaN</td>\n",
       "      <td>2023-02-18</td>\n",
       "    </tr>\n",
       "    <tr>\n",
       "      <th>3</th>\n",
       "      <td>311K Jobs Added In January, Unemployment At 3....</td>\n",
       "      <td>Inside Politics&gt; 12:30 PM EST Jeanna Smialek, ...</td>\n",
       "      <td>NaN</td>\n",
       "      <td>2023-03-10</td>\n",
       "    </tr>\n",
       "    <tr>\n",
       "      <th>4</th>\n",
       "      <td>Nikki Haley casts Trump as 'status quo'; Barba...</td>\n",
       "      <td>USA Today Online, RUSSIA NEWS, RUSSIA NEWS &amp; U...</td>\n",
       "      <td>NaN</td>\n",
       "      <td>2023-02-21</td>\n",
       "    </tr>\n",
       "  </tbody>\n",
       "</table>\n",
       "</div>"
      ],
      "text/plain": [
       "                                            Headline  \\\n",
       "0  Unexplained Chaos In The Sky And On The Ground...   \n",
       "1  Biden: 3 Objects Not Related To China; IL Hobb...   \n",
       "2        NBC NIGHTLY NEWS for February 18, 2023, NBC   \n",
       "3  311K Jobs Added In January, Unemployment At 3....   \n",
       "4  Nikki Haley casts Trump as 'status quo'; Barba...   \n",
       "\n",
       "                                         Publication  Summary       Date  \n",
       "0  TUCKER CARLSON TONIGHT 8:00 PM EST JD Vance, C...      NaN 2023-02-13  \n",
       "1  MORNINGS WITH MARIA> 6:00 AM EST Greg Faranell...      NaN 2023-02-17  \n",
       "2  NBC NIGHTLY NEWS> 6:30 PM EST NBC News, NEWS, ...      NaN 2023-02-18  \n",
       "3  Inside Politics> 12:30 PM EST Jeanna Smialek, ...      NaN 2023-03-10  \n",
       "4  USA Today Online, RUSSIA NEWS, RUSSIA NEWS & U...      NaN 2023-02-21  "
      ]
     },
     "execution_count": 10,
     "metadata": {},
     "output_type": "execute_result"
    }
   ],
   "source": [
    "df.head()"
   ]
  },
  {
   "cell_type": "code",
   "execution_count": 14,
   "metadata": {},
   "outputs": [
    {
     "data": {
      "text/plain": [
       "1109"
      ]
     },
     "execution_count": 14,
     "metadata": {},
     "output_type": "execute_result"
    }
   ],
   "source": [
    "len(df)"
   ]
  },
  {
   "cell_type": "code",
   "execution_count": 15,
   "metadata": {},
   "outputs": [
    {
     "data": {
      "image/png": "[encoded data removed]",
      "text/plain": [
       "<Figure size 1440x720 with 1 Axes>"
      ]
     },
     "metadata": {
      "needs_background": "light"
     },
     "output_type": "display_data"
    }
   ],
   "source": [
    "# visualize the news volume by day\n",
    "df['Date'].value_counts().plot(figsize=(20, 10))\n",
    "\n",
    "#create a new csv with dates and counts\n",
    "df['Date'].value_counts().to_csv('news_volume.csv')\n"
   ]
  },
  {
   "cell_type": "code",
   "execution_count": null,
   "metadata": {},
   "outputs": [],
   "source": []
  },
  {
   "cell_type": "code",
   "execution_count": null,
   "metadata": {},
   "outputs": [],
   "source": [
    "\n",
    "df['date'] = pd.to_datetime(df['date'])\n",
    "df['year'] = df['date'].dt.year\n",
    "df['month'] = df['date'].dt.month\n",
    "df['day'] = df['date'].dt.day\n",
    "\n",
    "df['year'].value_counts().sort_index().plot(kind='bar', figsize=(15, 5), title='News Volume by Year')\n"
   ]
  },
  {
   "cell_type": "code",
   "execution_count": 8,
   "metadata": {},
   "outputs": [
    {
     "data": {
      "text/html": [
       "<div>\n",
       "<style scoped>\n",
       "    .dataframe tbody tr th:only-of-type {\n",
       "        vertical-align: middle;\n",
       "    }\n",
       "\n",
       "    .dataframe tbody tr th {\n",
       "        vertical-align: top;\n",
       "    }\n",
       "\n",
       "    .dataframe thead th {\n",
       "        text-align: right;\n",
       "    }\n",
       "</style>\n",
       "<table border=\"1\" class=\"dataframe\">\n",
       "  <thead>\n",
       "    <tr style=\"text-align: right;\">\n",
       "      <th></th>\n",
       "      <th>Headline</th>\n",
       "      <th>Publication</th>\n",
       "      <th>Summary</th>\n",
       "      <th>Date</th>\n",
       "    </tr>\n",
       "  </thead>\n",
       "  <tbody>\n",
       "    <tr>\n",
       "      <th>0</th>\n",
       "      <td>Unexplained Chaos In The Sky And On The Ground...</td>\n",
       "      <td>TUCKER CARLSON TONIGHT 8:00 PM EST JD Vance, C...</td>\n",
       "      <td>NaN</td>\n",
       "      <td>2023-02-13</td>\n",
       "    </tr>\n",
       "    <tr>\n",
       "      <th>1</th>\n",
       "      <td>Biden: 3 Objects Not Related To China; IL Hobb...</td>\n",
       "      <td>MORNINGS WITH MARIA&gt; 6:00 AM EST Greg Faranell...</td>\n",
       "      <td>NaN</td>\n",
       "      <td>2023-02-17</td>\n",
       "    </tr>\n",
       "    <tr>\n",
       "      <th>2</th>\n",
       "      <td>NBC NIGHTLY NEWS for February 18, 2023, NBC</td>\n",
       "      <td>NBC NIGHTLY NEWS&gt; 6:30 PM EST NBC News, NEWS, ...</td>\n",
       "      <td>NaN</td>\n",
       "      <td>2023-02-18</td>\n",
       "    </tr>\n",
       "    <tr>\n",
       "      <th>3</th>\n",
       "      <td>311K Jobs Added In January, Unemployment At 3....</td>\n",
       "      <td>Inside Politics&gt; 12:30 PM EST Jeanna Smialek, ...</td>\n",
       "      <td>NaN</td>\n",
       "      <td>2023-03-10</td>\n",
       "    </tr>\n",
       "    <tr>\n",
       "      <th>4</th>\n",
       "      <td>Nikki Haley casts Trump as 'status quo'; Barba...</td>\n",
       "      <td>USA Today Online, RUSSIA NEWS, RUSSIA NEWS &amp; U...</td>\n",
       "      <td>NaN</td>\n",
       "      <td>2023-02-21</td>\n",
       "    </tr>\n",
       "  </tbody>\n",
       "</table>\n",
       "</div>"
      ],
      "text/plain": [
       "                                            Headline  \\\n",
       "0  Unexplained Chaos In The Sky And On The Ground...   \n",
       "1  Biden: 3 Objects Not Related To China; IL Hobb...   \n",
       "2        NBC NIGHTLY NEWS for February 18, 2023, NBC   \n",
       "3  311K Jobs Added In January, Unemployment At 3....   \n",
       "4  Nikki Haley casts Trump as 'status quo'; Barba...   \n",
       "\n",
       "                                         Publication  Summary       Date  \n",
       "0  TUCKER CARLSON TONIGHT 8:00 PM EST JD Vance, C...      NaN 2023-02-13  \n",
       "1  MORNINGS WITH MARIA> 6:00 AM EST Greg Faranell...      NaN 2023-02-17  \n",
       "2  NBC NIGHTLY NEWS> 6:30 PM EST NBC News, NEWS, ...      NaN 2023-02-18  \n",
       "3  Inside Politics> 12:30 PM EST Jeanna Smialek, ...      NaN 2023-03-10  \n",
       "4  USA Today Online, RUSSIA NEWS, RUSSIA NEWS & U...      NaN 2023-02-21  "
      ]
     },
     "execution_count": 8,
     "metadata": {},
     "output_type": "execute_result"
    }
   ],
   "source": [
    "df.head()"
   ]
  },
  {
   "cell_type": "code",
   "execution_count": 27,
   "metadata": {},
   "outputs": [],
   "source": [
    "# access the first xlsx file in each sub-folder of the main folder\n",
    "# and save the data in a csv file\n",
    "\n",
    "import os\n",
    "import pandas as pd\n",
    "\n",
    "# get the path of the main folder\n",
    "path = '/Users/cmu-work/Data/2 - Conspiracy dataset/Ohio_News_Data'\n",
    "\n",
    "# get the list of sub-folders\n",
    "folders = os.listdir(path)\n",
    "\n",
    "# sort the list of sub-folders\n",
    "folders.sort()\n",
    "folders = folders[1:]\n",
    "\n",
    "# create an empty dataframe\n",
    "df = pd.DataFrame()\n",
    "\n",
    "# loop through the sub-folders\n",
    "for folder in folders:\n",
    "    # get the path of the sub-folder\n",
    "    folder_path = os.path.join(path, folder)\n",
    "    # get the list of files in the sub-folder\n",
    "    files = os.listdir(folder_path)\n",
    "    # get the path of the first file in the sub-folder\n",
    "    file_path = os.path.join(folder_path, files[0])\n",
    "    # read the file\n",
    "    temp_df = pd.read_excel(file_path)\n",
    "    # append the file data to the dataframe\n",
    "    df = df.append(temp_df)\n",
    "\n",
    "# save the dataframe as a csv file\n",
    "df.to_csv('news_data.csv', index=False)\n"
   ]
  },
  {
   "cell_type": "code",
   "execution_count": 28,
   "metadata": {},
   "outputs": [
    {
     "data": {
      "text/plain": [
       "100"
      ]
     },
     "execution_count": 28,
     "metadata": {},
     "output_type": "execute_result"
    }
   ],
   "source": [
    "\n",
    "\n",
    "temp_df = pd.read_excel('/Users/cmu-work/Downloads/Results list for_Ohio Train Derailment.xlsx')\n",
    "len(temp_df)"
   ]
  },
  {
   "cell_type": "code",
   "execution_count": 26,
   "metadata": {},
   "outputs": [
    {
     "data": {
      "text/plain": [
       "22"
      ]
     },
     "execution_count": 26,
     "metadata": {},
     "output_type": "execute_result"
    }
   ],
   "source": [
    "# folder list worked\n",
    "# but append doesn't work "
   ]
  },
  {
   "cell_type": "code",
   "execution_count": 25,
   "metadata": {},
   "outputs": [
    {
     "data": {
      "text/plain": [
       "220"
      ]
     },
     "execution_count": 25,
     "metadata": {},
     "output_type": "execute_result"
    }
   ],
   "source": [
    "len(df)"
   ]
  },
  {
   "cell_type": "code",
   "execution_count": 20,
   "metadata": {},
   "outputs": [
    {
     "data": {
      "text/plain": [
       "['Results list for_ Ohio Train Derailment_10',\n",
       " 'Results list for_ Ohio Train Derailment_44_53',\n",
       " 'Results list for_ Ohio Train Derailment_8',\n",
       " 'Results list for_ Ohio Train Derailment_74_83',\n",
       " 'Results list for_ Ohio Train Derailment_6']"
      ]
     },
     "execution_count": 20,
     "metadata": {},
     "output_type": "execute_result"
    }
   ],
   "source": [
    "folders = os.listdir(path)\n",
    "folders\n",
    "# take out the 4th file\n",
    "folders_1 = folders[4:]\n",
    "folders_1\n",
    "folders_2 = folders_1[0:5]\n",
    "folders_2"
   ]
  },
  {
   "cell_type": "code",
   "execution_count": 23,
   "metadata": {},
   "outputs": [
    {
     "data": {
      "text/plain": [
       "['Results list for_ Ohio Train Derailment_1',\n",
       " 'Results list for_ Ohio Train Derailment_10',\n",
       " 'Results list for_ Ohio Train Derailment_11',\n",
       " 'Results list for_ Ohio Train Derailment_12',\n",
       " 'Results list for_ Ohio Train Derailment_13',\n",
       " 'Results list for_ Ohio Train Derailment_14_23',\n",
       " 'Results list for_ Ohio Train Derailment_2',\n",
       " 'Results list for_ Ohio Train Derailment_24_33',\n",
       " 'Results list for_ Ohio Train Derailment_3',\n",
       " 'Results list for_ Ohio Train Derailment_34_43',\n",
       " 'Results list for_ Ohio Train Derailment_4',\n",
       " 'Results list for_ Ohio Train Derailment_44_53',\n",
       " 'Results list for_ Ohio Train Derailment_5',\n",
       " 'Results list for_ Ohio Train Derailment_54_63',\n",
       " 'Results list for_ Ohio Train Derailment_6',\n",
       " 'Results list for_ Ohio Train Derailment_64_73',\n",
       " 'Results list for_ Ohio Train Derailment_7',\n",
       " 'Results list for_ Ohio Train Derailment_74_83',\n",
       " 'Results list for_ Ohio Train Derailment_8',\n",
       " 'Results list for_ Ohio Train Derailment_84_93',\n",
       " 'Results list for_ Ohio Train Derailment_9',\n",
       " 'Results list for_ Ohio Train Derailment_94_103']"
      ]
     },
     "execution_count": 23,
     "metadata": {},
     "output_type": "execute_result"
    }
   ],
   "source": []
  },
  {
   "cell_type": "code",
   "execution_count": 9,
   "metadata": {},
   "outputs": [],
   "source": [
    "import os\n",
    "import pandas as pd\n",
    "path = '/Users/cmu-work/Data/2 - Conspiracy dataset/Ohio_News_Data'\n",
    "folders = os.listdir(path)\n",
    "folders[0]\n",
    "\n",
    "folder_path = os.path.join(path, folders[0])\n",
    "files = os.listdir(folder_path)\n",
    "file_path = os.path.join(folder_path, files[0])"
   ]
  },
  {
   "cell_type": "code",
   "execution_count": 10,
   "metadata": {},
   "outputs": [
    {
     "data": {
      "text/plain": [
       "'/Users/cmu-work/Data/2 - Conspiracy dataset/Ohio_News_Data/Results list for_ Ohio Train Derailment_94_103/Results list for_Ohio Train Derailment.xlsx'"
      ]
     },
     "execution_count": 10,
     "metadata": {},
     "output_type": "execute_result"
    }
   ],
   "source": [
    "file_path"
   ]
  },
  {
   "cell_type": "code",
   "execution_count": 3,
   "metadata": {},
   "outputs": [],
   "source": [
    "# script all the title and datetime from this website https://advance-lexis-com.cmu.idm.oclc.org/search/?pdmfid=1516831&crid=6eccef89-7951-4ecd-b094-d019eea54986&pdsearchtype=SearchBox&pdtypeofsearch=searchboxclick&pdstartin=&pdsearchterms=Ohio+Train+derailment&pdtimeline=Previous+2+Years+%7C+p2y&pdpsf=&pdquerytemplateid=&pdsf=&ecomp=nbJgkgk&prid=e522689a-3cbf-4253-a48d-81847fb19159\n",
    "# and save it to a csv file\n",
    "\n",
    "import requests\n",
    "from bs4 import BeautifulSoup\n",
    "import pandas as pd\n",
    "import re\n",
    "import time\n",
    "import datetime\n",
    "import csv\n",
    "\n",
    "# get the html content from the website\n",
    "url = 'https://advance.lexis.com/api/permalink/0dd2235a-f0f7-4b80-819c-328029055612/?context=1516831'\n",
    "headers = {'User-Agent': 'Mozilla/5.0'}\n",
    "response = requests.get(url, headers=headers)\n",
    "html = response.content\n",
    "soup = BeautifulSoup(html, 'html.parser')\n",
    "\n",
    "# get the title and datetime from the html content\n",
    "title = []\n",
    "date = []\n",
    "for i in soup.find_all('div', class_='result__body'):\n",
    "    title.append(i.find('a').text)\n",
    "    date.append(i.find('time').text)\n",
    "\n",
    "# save the title and datetime to a csv file\n",
    "with open('news.csv', 'w', newline='') as csvfile:\n",
    "    writer = csv.writer(csvfile)\n",
    "    writer.writerow(['title', 'date'])\n",
    "    for i in range(len(title)):\n",
    "        writer.writerow([title[i], date[i]])\n",
    "\n",
    "# print the title and datetime\n",
    "\n",
    "\n"
   ]
  },
  {
   "cell_type": "code",
   "execution_count": 4,
   "metadata": {},
   "outputs": [
    {
     "data": {
      "text/plain": [
       "<!DOCTYPE html>\n",
       "\n",
       "<html lang=\"en\">\n",
       "<head>\n",
       "<meta charset=\"utf-8\"/>\n",
       "<meta content=\"width=device-width, initial-scale=1\" name=\"viewport\"/>\n",
       "<title>Human Verification</title>\n",
       "<style>\n",
       "        body {\n",
       "            font-family: \"Arial\";\n",
       "        }\n",
       "    </style>\n",
       "<script type=\"text/javascript\">\n",
       "    window.awsWafCookieDomainList = [];\n",
       "    </script>\n",
       "<script src=\"https://b28cc6131c6b.d9f9a55d.us-east-1.token.awswaf.com/b28cc6131c6b/3f44db1eccd8/30a2f8e58803/challenge.js\"></script>\n",
       "<script src=\"https://b28cc6131c6b.d9f9a55d.us-east-1.captcha.awswaf.com/b28cc6131c6b/3f44db1eccd8/30a2f8e58803/captcha.js\"></script>\n",
       "</head>\n",
       "<body>\n",
       "<div id=\"captcha-container\"></div>\n",
       "<script type=\"text/javascript\">\n",
       "        window.addEventListener(\"load\", function() {\n",
       "          const container = document.querySelector(\"#captcha-container\");\n",
       "          CaptchaScript.renderCaptcha(container, async (voucher) => {\n",
       "              await ChallengeScript.submitCaptcha(voucher);\n",
       "              window.location.reload(true);\n",
       "          },\n",
       "          {\n",
       "              \"key\":\"AQIDAHjcYu/GjX+QlghicBgQ/7bFaQZ+m5FKCMDnO+vTbNg96AFuvh1IZFmofH5fVG95RzZMAAAAfjB8BgkqhkiG9w0BBwagbzBtAgEAMGgGCSqGSIb3DQEHATAeBglghkgBZQMEAS4wEQQM/6nBmxM+Szc9+W8OAgEQgDss0lBxsJMNeW7gUfrQPoFdF8wr8w2sncne3D+dWsJLYnkjvj0v3huLOl7gEjzi1aMZ150pMQ1BonzkDg==\",\n",
       "          \"iv\":\"CgAAuDJFD+AAAANL\",\n",
       "          \"context\":\"K8TnkWVcEMzcmhesSVzlnJz0ghne+yeM8p5rGqaI5sxWCEhYUxmidPmmgmwo+rkgdtip8UIfGS3L3tM2dmL/sM2ejwaTNH5fsAJyTcW48ZHY/H0X7iMFLd+TkY/Po2inGUxI6bw6WNZZqhZ88zoox8VGKOVCJZRbTFpFEwIbz2JxxuzxX30x1eoshegBzFXPP+1QJGmXfJIyKtxy8Ms2Y/cY40YMgPPKQfVsBDcQkVGZfBx+KIHt6EfIoNamMeXTgRH3xRwPXJKFjjNF+1L5ciPX0lgm3siAtQQMDSzGywUXM/ky48VOpR1FplwOarOV5dbzYS6Dm6ooX/virip3N7wF1FWWNJ2lmqmdm40afyepcPKBNuGBHNjmcI54Bz/utwMqcniukvF3QUWRHiLQva7GyU03O9XpjpPbfGpdU5w4TZXJ\"\n",
       "          }\n",
       "      );\n",
       "    });\n",
       "    </script>\n",
       "<noscript>\n",
       "<h1>JavaScript is disabled</h1>\n",
       "        In order to continue, you need to verify that you're not a robot by solving a CAPTCHA puzzle.\n",
       "         The CAPTCHA puzzle requires JavaScript. Enable JavaScript and then reload the page.\n",
       "    </noscript>\n",
       "</body>\n",
       "</html>"
      ]
     },
     "execution_count": 4,
     "metadata": {},
     "output_type": "execute_result"
    }
   ],
   "source": [
    "soup"
   ]
  },
  {
   "cell_type": "code",
   "execution_count": null,
   "metadata": {},
   "outputs": [],
   "source": [
    "\n",
    "import requests\n",
    "from bs4 import BeautifulSoup\n",
    "import pandas as pd\n",
    "import numpy as np\n",
    "import re\n",
    "import time\n",
    "import random\n",
    "import datetime as dt\n",
    "\n",
    "\n",
    "# get the html content from the website\n",
    "url = 'https://advance-lexis-com.cmu.idm.oclc.org/search/?pdmfid=1516831&crid=6eccef89-7951-4ecd-b094-d019eea54986&pdsearchtype=SearchBox&pdtypeofsearch=searchboxclick&pdstartin=&pdsearchterms=Ohio+Train+derailment&pdtimeline=Previous+2+Years+%7C+p2y&pdpsf=&pdquerytemplateid=&pdsf=&ecomp=nbJgkgk&prid=e522689a-3cbf-4253-a48d-81847fb19159'\n",
    "headers = {'User-Agent': 'Mozilla/5.0'}\n",
    "response = requests.get(url, headers=headers)\n",
    "html = response.content\n",
    "soup = BeautifulSoup(html, 'html.parser')\n",
    "\n",
    "# get the number of pages\n",
    "page_num = soup.find('span', {'class': 'page-number'}).text\n",
    "page_num = int(page_num.split(' ')[-1])\n",
    "\n",
    "# get the links of all pages\n",
    "page_links = []\n",
    "for i in range(1, page_num+1):\n",
    "    page_links.append(url + '&pdpagetype=next&pdquerytemplateid=&pdquerytemplateid=&pdsf=' + str(i))\n",
    "\n",
    "# get the links of all articles\n",
    "article_links = []\n",
    "for page_link in page_links:\n",
    "    response = requests.get(page_link, headers=headers)\n",
    "    html = response.content\n",
    "    soup = BeautifulSoup(html, 'html.parser')\n",
    "    articles = soup.find_all('div', {'class': 'result-list'})\n",
    "    for article in articles:\n",
    "        article_link = article.find('a', {'class': 'result-link'}).get('href')\n",
    "        article_links.append(article_link)\n",
    "\n",
    "# get the content of all articles\n",
    "article_contents = []\n",
    "for article_link in article_links:\n",
    "    response = requests.get(article_link, headers=headers)\n",
    "    html = response.content\n",
    "    soup = BeautifulSoup(html, 'html.parser')\n",
    "    article_content = soup.find('div', {'class': 'article-content'})\n",
    "    article_contents.append(article_content)\n",
    "\n",
    "# get the title, date, and content of all articles\n",
    "titles = []\n",
    "dates = []\n",
    "contents = []\n",
    "for article_content in article_contents:\n",
    "    response = requests.get(article_link, headers=headers)\n",
    "    html = response.content\n",
    "    soup = BeautifulSoup(html, 'html.parser')\n",
    "    title = soup.find('h1', {'class': 'headline'}).text\n",
    "    date = soup.find('span', {'class': 'date'}).text\n",
    "    content = soup.find('div', {'class': 'article-content'}).text\n",
    "    titles.append(title)\n",
    "    dates.append(date)\n",
    "    contents.append(content)\n",
    "\n",
    "# create a dataframe\n",
    "df = pd.DataFrame({'title': titles, 'date': dates, 'content': contents})\n",
    "df.to_csv('news.csv', index=False)\n",
    "\n",
    "# get the content of all articles\n",
    "article_contents = []\n",
    "for article_link in article_links:\n",
    "    response = requests.get(article_link, headers=headers)\n",
    "    html = response.content\n",
    "    soup = BeautifulSoup(html, 'html.parser')\n",
    "    article_content = soup.find('div', {'class': 'article-content'})\n",
    "    article_contents.append(article_content)\n",
    "\n"
   ]
  }
 ],
 "metadata": {
  "kernelspec": {
   "display_name": "base",
   "language": "python",
   "name": "python3"
  },
  "language_info": {
   "codemirror_mode": {
    "name": "ipython",
    "version": 3
   },
   "file_extension": ".py",
   "mimetype": "text/x-python",
   "name": "python",
   "nbconvert_exporter": "python",
   "pygments_lexer": "ipython3",
   "version": "3.8.8"
  },
  "orig_nbformat": 4
 },
 "nbformat": 4,
 "nbformat_minor": 2
}
