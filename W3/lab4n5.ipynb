{
 "cells": [
  {
   "attachments": {},
   "cell_type": "markdown",
   "metadata": {},
   "source": [
    "## Problem 1"
   ]
  },
  {
   "cell_type": "code",
   "execution_count": 15,
   "metadata": {},
   "outputs": [],
   "source": [
    "# Lab 4\n",
    "# Problem 1\n",
    "\n",
    "import pandas as pd\n",
    "\n",
    "## 1.a\n",
    "#create pandas series from list\n",
    "a = pd.Series([i for i in range(5,1,-1)])\n",
    "b = pd.Series([i for i in range(10,14)])\n",
    "c = pd.Series([-1, -1, 0, 0])\n"
   ]
  },
  {
   "cell_type": "code",
   "execution_count": 9,
   "metadata": {},
   "outputs": [
    {
     "name": "stdout",
     "output_type": "stream",
     "text": [
      "0    15\n",
      "1    15\n",
      "2    15\n",
      "3    15\n",
      "dtype: int64\n",
      "0     5\n",
      "1     7\n",
      "2     9\n",
      "3    11\n",
      "dtype: int64\n",
      "0   -3\n",
      "1   -3\n",
      "2    0\n",
      "3    0\n",
      "dtype: int64\n",
      "0    0.500000\n",
      "1    0.363636\n",
      "2    0.250000\n",
      "3    0.153846\n",
      "dtype: float64\n",
      "0   -5.0\n",
      "1   -4.0\n",
      "2    inf\n",
      "3    inf\n",
      "dtype: float64\n"
     ]
    }
   ],
   "source": [
    "## 1.b\n",
    "print(a+b)\n",
    "print(b-a)\n",
    "print(3*c)\n",
    "print(a/b)\n",
    "print(a/c)"
   ]
  },
  {
   "cell_type": "code",
   "execution_count": 16,
   "metadata": {},
   "outputs": [
    {
     "name": "stdout",
     "output_type": "stream",
     "text": [
      "0    5\n",
      "1    4\n",
      "2    3\n",
      "3    2\n",
      "dtype: int64\n"
     ]
    }
   ],
   "source": [
    "## 1.c\n",
    "# Change a's index values to [2,3,4,5],\n",
    "a.rename({0:2, 1:3, 2:4, 3:5})\n",
    "# then display a.\n",
    "print(a)\n",
    "\n",
    "#index value does not change"
   ]
  },
  {
   "cell_type": "code",
   "execution_count": 17,
   "metadata": {},
   "outputs": [
    {
     "name": "stdout",
     "output_type": "stream",
     "text": [
      "2    5\n",
      "3    4\n",
      "4    3\n",
      "5    2\n",
      "dtype: int64\n"
     ]
    }
   ],
   "source": [
    "## 1.d\n",
    "\n",
    "a.rename({0:2, 1:3, 2:4, 3:5}, inplace=True)\n",
    "# then display a.\n",
    "print(a)\n",
    "\n",
    "#index value changes!"
   ]
  },
  {
   "cell_type": "code",
   "execution_count": 18,
   "metadata": {},
   "outputs": [
    {
     "name": "stdout",
     "output_type": "stream",
     "text": [
      "0     NaN\n",
      "1     NaN\n",
      "2    17.0\n",
      "3    17.0\n",
      "4     NaN\n",
      "5     NaN\n",
      "dtype: float64\n",
      "0    NaN\n",
      "1    NaN\n",
      "2    7.0\n",
      "3    9.0\n",
      "4    NaN\n",
      "5    NaN\n",
      "dtype: float64\n",
      "0   -3\n",
      "1   -3\n",
      "2    0\n",
      "3    0\n",
      "dtype: int64\n",
      "0         NaN\n",
      "1         NaN\n",
      "2    0.416667\n",
      "3    0.307692\n",
      "4         NaN\n",
      "5         NaN\n",
      "dtype: float64\n",
      "0    NaN\n",
      "1    NaN\n",
      "2    inf\n",
      "3    inf\n",
      "4    NaN\n",
      "5    NaN\n",
      "dtype: float64\n"
     ]
    }
   ],
   "source": [
    "## 1.e\n",
    "\n",
    "print(a+b)\n",
    "print(b-a)\n",
    "print(3*c)\n",
    "print(a/b)\n",
    "print(a/c)\n",
    "\n",
    "#for anyting involves a, the length of the pandas series changes!"
   ]
  },
  {
   "attachments": {},
   "cell_type": "markdown",
   "metadata": {},
   "source": [
    "## Problem 2"
   ]
  },
  {
   "cell_type": "code",
   "execution_count": 21,
   "metadata": {},
   "outputs": [
    {
     "name": "stdout",
     "output_type": "stream",
     "text": [
      "Int64Index([2, 3, 4, 5], dtype='int64')\n",
      "Int64Index([2, 3, 4, 5], dtype='int64')\n",
      "0    10\n",
      "1    11\n",
      "dtype: int64\n",
      "2    0\n",
      "3    0\n",
      "dtype: int64\n"
     ]
    }
   ],
   "source": [
    "# Problem 2\n",
    "## 2.a\n",
    "\n",
    "#Display a's index; \n",
    "print(a.index)\n",
    "#set variable i equal to a's index and print it; \n",
    "i = a.index\n",
    "print(i)\n",
    "\n",
    "# display b's first two values; \n",
    "print(b[0:2])\n",
    "\n",
    "# display c's last two values.\n",
    "print(c[-2:])"
   ]
  },
  {
   "cell_type": "code",
   "execution_count": 30,
   "metadata": {},
   "outputs": [
    {
     "name": "stdout",
     "output_type": "stream",
     "text": [
      "2    10\n",
      "3    11\n",
      "4    12\n",
      "5    13\n",
      "dtype: int64\n",
      "2    False\n",
      "3    False\n",
      "4    False\n",
      "5    False\n",
      "dtype: bool\n",
      "2    True\n",
      "3    True\n",
      "4    True\n",
      "5    True\n",
      "dtype: bool\n",
      "2    10\n",
      "3    11\n",
      "4    12\n",
      "5    13\n",
      "dtype: int64\n"
     ]
    }
   ],
   "source": [
    "## 2b\n",
    "#Create d as a copy of b but with a's index and display it.\n",
    "d = b.copy()\n",
    "d.index = a.index\n",
    "print(d)\n",
    "\n",
    "## 2c. Try these: pd.isnull(d) and pd.notnull(d)\n",
    "print(pd.isnull(d))\n",
    "print(pd.notnull(d))\n",
    "\n",
    "## 2d. Assign e as the nonnull entries of d; display it.\n",
    "e = d[pd.notnull(d)]\n",
    "print(e)"
   ]
  },
  {
   "attachments": {},
   "cell_type": "markdown",
   "metadata": {},
   "source": [
    "## Problem 3"
   ]
  },
  {
   "cell_type": "code",
   "execution_count": 31,
   "metadata": {},
   "outputs": [
    {
     "name": "stdout",
     "output_type": "stream",
     "text": [
      "Monday       120.00\n",
      "Tuesday       31.55\n",
      "Wednesday     12.20\n",
      "Thursday      49.60\n",
      "Friday        46.90\n",
      "dtype: float64\n",
      "Monday       20.00\n",
      "Tuesday     -19.95\n",
      "Wednesday    -7.80\n",
      "Thursday    -15.40\n",
      "Friday       15.30\n",
      "dtype: float64\n",
      "Monday     50.00\n",
      "Tuesday    25.75\n",
      "dtype: float64\n",
      "Wednesday     2.2\n",
      "Thursday     17.1\n",
      "Friday       31.1\n",
      "dtype: float64\n"
     ]
    }
   ],
   "source": [
    "## 3a. Create pandas Series named week1 with data [50.0, 25.75, 10.0, 32.5, 15.8] and week2 with data [70.0, 5.8, 2.2, 17.1, 31.1], but make the index of each 'Monday', 'Tuesday', 'Wednesday', 'Thursday', 'Friday'. Display week1 and week2.\n",
    "week1 = pd.Series([50.0, 25.75, 10.0, 32.5, 15.8], index=['Monday', 'Tuesday', 'Wednesday', 'Thursday', 'Friday'])\n",
    "week2 = pd.Series([70.0, 5.8, 2.2, 17.1, 31.1], index=['Monday', 'Tuesday', 'Wednesday', 'Thursday', 'Friday'])\n",
    "\n",
    "## 3b. Assign totals as the sum of week1 and week2. Display it.\n",
    "totals = week1 + week2\n",
    "print(totals)\n",
    "\n",
    "## 3c. Assign diffs as the gain or loss from week1 to week2. Display it.\n",
    "diffs = week2 - week1\n",
    "print(diffs)\n",
    "\n",
    "## 3d. Display week1's values for Monday and Tuesday. Display week2's data for Wednesday through Friday using iloc( ).\n",
    "print(week1['Monday':'Tuesday'])\n",
    "print(week2.iloc[2:])   \n"
   ]
  },
  {
   "attachments": {},
   "cell_type": "markdown",
   "metadata": {},
   "source": [
    "## Problem 4"
   ]
  },
  {
   "cell_type": "code",
   "execution_count": 61,
   "metadata": {},
   "outputs": [
    {
     "ename": "AttributeError",
     "evalue": "'numpy.int64' object has no attribute 'index'",
     "output_type": "error",
     "traceback": [
      "\u001b[0;31m---------------------------------------------------------------------------\u001b[0m",
      "\u001b[0;31mAttributeError\u001b[0m                            Traceback (most recent call last)",
      "\u001b[0;32m<ipython-input-61-f9c28ea3a99d>\u001b[0m in \u001b[0;36m<module>\u001b[0;34m\u001b[0m\n\u001b[0;32m----> 1\u001b[0;31m \u001b[0mstates\u001b[0m\u001b[0;34m.\u001b[0m\u001b[0miloc\u001b[0m\u001b[0;34m[\u001b[0m\u001b[0;36m15\u001b[0m\u001b[0;34m]\u001b[0m\u001b[0;34m.\u001b[0m\u001b[0mindex\u001b[0m\u001b[0;34m\u001b[0m\u001b[0;34m\u001b[0m\u001b[0m\n\u001b[0m",
      "\u001b[0;31mAttributeError\u001b[0m: 'numpy.int64' object has no attribute 'index'"
     ]
    }
   ],
   "source": [
    "states.iloc[15]"
   ]
  },
  {
   "cell_type": "code",
   "execution_count": 54,
   "metadata": {},
   "outputs": [
    {
     "name": "stdout",
     "output_type": "stream",
     "text": [
      "NAME\n",
      "Alabama                  4785448\n",
      "Alaska                    713906\n",
      "Arizona                  6407774\n",
      "Arkansas                 2921978\n",
      "California              37320903\n",
      "Colorado                 5048281\n",
      "Connecticut              3579125\n",
      "Delaware                  899595\n",
      "District of Columbia      605085\n",
      "Florida                 18845785\n",
      "Georgia                  9711810\n",
      "Hawaii                   1363963\n",
      "Idaho                    1570773\n",
      "Illinois                12840762\n",
      "Indiana                  6490436\n",
      "Iowa                     3050767\n",
      "Kansas                   2858213\n",
      "Kentucky                 4348200\n",
      "Louisiana                4544532\n",
      "Maine                    1327632\n",
      "Maryland                 5788642\n",
      "Massachusetts            6566431\n",
      "Michigan                 9877535\n",
      "Minnesota                5310843\n",
      "Mississippi              2970536\n",
      "Missouri                 5995976\n",
      "Montana                   990722\n",
      "Nebraska                 1829536\n",
      "Nevada                   2702464\n",
      "New Hampshire            1316777\n",
      "New Jersey               8799624\n",
      "New Mexico               2064588\n",
      "New York                19400080\n",
      "North Carolina           9574293\n",
      "North Dakota              674710\n",
      "Ohio                    11539327\n",
      "Oklahoma                 3759632\n",
      "Oregon                   3837532\n",
      "Pennsylvania            12711158\n",
      "Rhode Island             1053938\n",
      "South Carolina           4635656\n",
      "South Dakota              816165\n",
      "Tennessee                6355301\n",
      "Texas                   25242679\n",
      "Utah                     2775334\n",
      "Vermont                   625880\n",
      "Virginia                 8023680\n",
      "Washington               6742902\n",
      "West Virginia            1854214\n",
      "Wisconsin                5690479\n",
      "Wyoming                   564483\n",
      "Puerto Rico              3721525\n",
      "dtype: int64\n",
      "Index(['Alabama', 'Alaska', 'Arizona', 'Arkansas', 'California', 'Colorado',\n",
      "       'Connecticut', 'Delaware', 'District of Columbia', 'Florida', 'Georgia',\n",
      "       'Hawaii', 'Idaho', 'Illinois', 'Indiana', 'Iowa', 'Kansas', 'Kentucky',\n",
      "       'Louisiana', 'Maine', 'Maryland', 'Massachusetts', 'Michigan',\n",
      "       'Minnesota', 'Mississippi', 'Missouri', 'Montana', 'Nebraska', 'Nevada',\n",
      "       'New Hampshire', 'New Jersey', 'New Mexico', 'New York',\n",
      "       'North Carolina', 'North Dakota', 'Ohio', 'Oklahoma', 'Oregon',\n",
      "       'Pennsylvania', 'Rhode Island', 'South Carolina', 'South Dakota',\n",
      "       'Tennessee', 'Texas', 'Utah', 'Vermont', 'Virginia', 'Washington',\n",
      "       'West Virginia', 'Wisconsin', 'Wyoming', 'Puerto Rico'],\n",
      "      dtype='object', name='NAME')\n",
      "3050767\n",
      "6490436\n"
     ]
    }
   ],
   "source": [
    "## 4a Create the pandas Series named states from the file 'states.csv'. Print it.\n",
    "df = pd.read_csv('states.csv')\n",
    "states = pd.Series(df['POPULATION'].values, index=df['NAME'])\n",
    "print(states)\n",
    "\n",
    "## 4b Print the index of states\n",
    "print(states.index)\n",
    "\n",
    "## 4c. Print the 15th entry of the index. \n",
    "# Print the 15th entry of the data using iloc. \n",
    "print(states.iloc[14])\n",
    "# Print that entry again using loc and the name of the state.\n",
    "name  = states.index.values[14]\n",
    "print(states.loc[name])"
   ]
  },
  {
   "attachments": {},
   "cell_type": "markdown",
   "metadata": {},
   "source": [
    "# Lab 5"
   ]
  },
  {
   "attachments": {},
   "cell_type": "markdown",
   "metadata": {},
   "source": [
    "## Problem 1"
   ]
  },
  {
   "cell_type": "code",
   "execution_count": null,
   "metadata": {},
   "outputs": [],
   "source": [
    "# Problem 1\n",
    "# Create pandas DataFrames using the following data, but using different creation methods:\n",
    "# use a dict of the columns; no index names\n",
    "\n",
    "# use a list of lists of the rows; no index names\n",
    "\n",
    "# make a copy of b; set the index names as listed in the table"
   ]
  },
  {
   "cell_type": "code",
   "execution_count": 68,
   "metadata": {},
   "outputs": [
    {
     "name": "stdout",
     "output_type": "stream",
     "text": [
      "   Age   Breed\n",
      "0    7     Mix\n",
      "1    3   Corgi\n",
      "2   17  Collie\n",
      "   Age   Breed\n",
      "0    7     Mix\n",
      "1    3   Corgi\n",
      "2   17  Collie\n",
      "        Age   Breed\n",
      "Fido      7     Mix\n",
      "Barfy     3   Corgi\n",
      "Lassie   17  Collie\n"
     ]
    }
   ],
   "source": [
    "## 1a\n",
    "# create pandas datafram from dictionary of columns\n",
    "a = pd.DataFrame({'Age':[7, 3,17], 'Breed':['Mix','Corgi', 'Collie']})\n",
    "\n",
    "# create pandas datafram from list of rows\n",
    "b = pd.DataFrame([[7, 'Mix'], [3, 'Corgi'], [17, 'Collie']], columns=['Age', 'Breed'])\n",
    "\n",
    "# make a copy of b; set the index names as listed in the table\n",
    "c = b.copy()\n",
    "c.index = ['Fido', 'Barfy', 'Lassie']\n",
    "\n",
    "print(a)\n",
    "print(b)\n",
    "print(c)"
   ]
  },
  {
   "cell_type": "code",
   "execution_count": 69,
   "metadata": {},
   "outputs": [
    {
     "name": "stdout",
     "output_type": "stream",
     "text": [
      "0     7\n",
      "1     3\n",
      "2    17\n",
      "Name: Age, dtype: int64\n",
      "Age        7\n",
      "Breed    Mix\n",
      "Name: 0, dtype: object\n",
      "Age          17\n",
      "Breed    Collie\n",
      "Name: Lassie, dtype: object\n"
     ]
    }
   ],
   "source": [
    "## 1b. Display the following: \n",
    "# a's zeroth column; \n",
    "print(a.iloc[:,0])\n",
    "\n",
    "# b's first row; \n",
    "print(b.iloc[1,:])\n",
    "\n",
    "# c's 'Lassie' row (by name)\n",
    "print(c.loc['Lassie'])\n"
   ]
  },
  {
   "cell_type": "code",
   "execution_count": null,
   "metadata": {},
   "outputs": [],
   "source": [
    "## 1c\n",
    "#Display a's first row, zeroth column; \n",
    "print(a.iloc[1,0])\n",
    "# b's zeroth row, first column; \n",
    "print(b.iloc[0,1])\n",
    "# c's second row, zeroth column.\n",
    "print(c.iloc[2,0])"
   ]
  },
  {
   "cell_type": "code",
   "execution_count": 70,
   "metadata": {},
   "outputs": [
    {
     "name": "stdout",
     "output_type": "stream",
     "text": [
      "        Age   Breed\n",
      "Fido      7     Mix\n",
      "Barfy     3   Corgi\n",
      "Lassie   17  Collie\n"
     ]
    }
   ],
   "source": [
    "## 1d \n",
    "# Rename a's index to the names in the table. Display a.\n",
    "a.rename(index={0:'Fido', 1:'Barfy', 2:'Lassie'}, inplace=True)\n",
    "print(a)"
   ]
  },
  {
   "cell_type": "code",
   "execution_count": 71,
   "metadata": {},
   "outputs": [
    {
     "name": "stdout",
     "output_type": "stream",
     "text": [
      "   Age     Breed\n",
      "0    7       Mix\n",
      "1    3     Corgi\n",
      "2   17    Collie\n",
      "3    5  Pit Bull\n"
     ]
    }
   ],
   "source": [
    "## 1e\n",
    "#Add a row to b: 5, Pit Bull (with ignore_index=True). Display b\n",
    "b = b.append({'Age':5, 'Breed':'Pit Bull'}, ignore_index=True)\n",
    "print(b)\n"
   ]
  },
  {
   "cell_type": "code",
   "execution_count": 72,
   "metadata": {},
   "outputs": [
    {
     "name": "stdout",
     "output_type": "stream",
     "text": [
      "        Age   Breed  Weight\n",
      "Fido      7     Mix      20\n",
      "Barfy     3   Corgi      15\n",
      "Lassie   17  Collie      35\n"
     ]
    }
   ],
   "source": [
    "## 1f\n",
    "# Add a 'Weight' column to c, setting values at 20, 15, and 35. Display c\n",
    "c['Weight'] = [20, 15, 35]\n",
    "print(c)"
   ]
  },
  {
   "attachments": {},
   "cell_type": "markdown",
   "metadata": {},
   "source": [
    "## Problem 2"
   ]
  },
  {
   "cell_type": "code",
   "execution_count": 73,
   "metadata": {},
   "outputs": [
    {
     "name": "stdout",
     "output_type": "stream",
     "text": [
      "             Sales  Profit\n",
      "Monday     2000.43  234.12\n",
      "Tuesday    1887.58  184.45\n",
      "Wednesday  2729.10  302.14\n",
      "Thursday   2555.55  289.75\n",
      "Friday     4208.15  441.12\n"
     ]
    }
   ],
   "source": [
    "#  2a. Create a pandas DataFrame named salesData for the following data. Note: the day names are index values, not a column of data. On Monday, Sales were 2000.43 and Profit was 234.12. On Tuesday, the values were 1887.58 and 184.45; Wednesday, 2729.10 and 302.14; Thursday, 2555.55 and 289.75; Friday, 4208.15 and 441.12. Display salesData\n",
    "salesData = pd.DataFrame({'Sales':[2000.43, 1887.58, 2729.10, 2555.55, 4208.15], 'Profit':[234.12, 184.45, 302.14, 289.75, 441.12]}, index=['Monday', 'Tuesday', 'Wednesday', 'Thursday', 'Friday'])\n",
    "print(salesData)"
   ]
  },
  {
   "cell_type": "code",
   "execution_count": 74,
   "metadata": {},
   "outputs": [
    {
     "name": "stdout",
     "output_type": "stream",
     "text": [
      "Monday       2000.43\n",
      "Tuesday      1887.58\n",
      "Wednesday    2729.10\n",
      "Thursday     2555.55\n",
      "Friday       4208.15\n",
      "Name: Sales, dtype: float64\n",
      "Monday       234.12\n",
      "Tuesday      184.45\n",
      "Wednesday    302.14\n",
      "Thursday     289.75\n",
      "Friday       441.12\n",
      "Name: Profit, dtype: float64\n",
      "Sales     2729.10\n",
      "Profit     302.14\n",
      "Name: Wednesday, dtype: float64\n",
      "289.75\n"
     ]
    }
   ],
   "source": [
    "# Display just the Sales data. Display just the Profit data. Display just Wednesday's data. Display just Thursday's profit.\n",
    "print(salesData['Sales'])\n",
    "print(salesData['Profit'])\n",
    "print(salesData.loc['Wednesday'])\n",
    "print(salesData.loc['Thursday', 'Profit'])\n"
   ]
  },
  {
   "cell_type": "code",
   "execution_count": 76,
   "metadata": {},
   "outputs": [
    {
     "name": "stdout",
     "output_type": "stream",
     "text": [
      "             Sales  Profit  #Customers\n",
      "Monday     2000.43  234.12          12\n",
      "Tuesday    1887.58  184.45          10\n",
      "Wednesday  2729.10  302.14           8\n",
      "Thursday   2555.55  289.75          11\n",
      "Friday     4208.15  441.12          22\n"
     ]
    }
   ],
   "source": [
    "## 2c Add a new column named '#Customers' with values 12, 10, 8, 11, 22, and display it.\n",
    "salesData['#Customers'] = [12, 10, 8, 11, 22]\n",
    "print(salesData)"
   ]
  },
  {
   "cell_type": "code",
   "execution_count": 77,
   "metadata": {},
   "outputs": [
    {
     "name": "stdout",
     "output_type": "stream",
     "text": [
      "             Sales  Profit  #Customers\n",
      "Monday     2000.43  234.12        12.0\n",
      "Tuesday    1887.58  184.45        10.0\n",
      "Wednesday  2729.10  302.14         8.0\n",
      "Thursday   2555.55  289.75        11.0\n",
      "Friday     4208.15  441.12        22.0\n",
      "Saturday   1793.00  184.57         9.0\n"
     ]
    }
   ],
   "source": [
    "## 2d Add a new row named 'Saturday' with values 1793.00, 184.57, 9, and display it.\n",
    "salesData.loc['Saturday'] = [1793.00, 184.57, 9]\n",
    "print(salesData)"
   ]
  },
  {
   "cell_type": "code",
   "execution_count": 99,
   "metadata": {},
   "outputs": [
    {
     "name": "stdout",
     "output_type": "stream",
     "text": [
      "Sales total:                            15173.81\n",
      "Profit total:                            1636.15\n",
      "#Customers total:                          72.00\n"
     ]
    }
   ],
   "source": [
    "## 2e Print the Sales and Profit totals. \n",
    "# For the next three, use Python print formatting for each, with labels: Print just the Sales total. Print just the Profit total. Print just the #Customers total.\n",
    "#print('Name: {}, Age: {}, Height: {:.2f} meters'.format(name, age, height))\n",
    "\n",
    "#use formating to print the total sales, profit, and #customers, with 2 digit decimal, and align them to the right\n",
    "print('Sales total: {:>35.2f}'.format(salesData['Sales'].sum()))\n",
    "print('Profit total: {:>34.2f}'.format(salesData['Profit'].sum()))\n",
    "print('#Customers total: {:>30.2f}'.format(salesData['#Customers'].sum()))\n"
   ]
  },
  {
   "cell_type": "code",
   "execution_count": 104,
   "metadata": {},
   "outputs": [
    {
     "name": "stdout",
     "output_type": "stream",
     "text": [
      "Average Sales:                             2528.97\n",
      "Average Profit:                             272.69\n",
      "Day with largest Sales:                     Friday\n",
      "Day with largest Profit:                    Friday\n",
      "Sales         4208.15\n",
      "Profit         441.12\n",
      "#Customers      22.00\n",
      "Name: Friday, dtype: float64\n",
      "Sales         4208.15\n",
      "Profit         441.12\n",
      "#Customers      22.00\n",
      "Name: Friday, dtype: float64\n"
     ]
    }
   ],
   "source": [
    "## 2f Print the average Sales and average Profit. Print just the name of the day with the largest Sales (this is returned by idxmax() ); do the same for the largest Profit day. Print all the data for the days with the largest Sales; same for the largest Profit.\n",
    "print('Average Sales: {:>35.2f}'.format(salesData['Sales'].mean()))\n",
    "print('Average Profit: {:>34.2f}'.format(salesData['Profit'].mean()))\n",
    "print('Day with largest Sales: {:>26}'.format(salesData['Sales'].idxmax()))\n",
    "print('Day with largest Profit: {:>25}'.format(salesData['Profit'].idxmax()))\n",
    "print(salesData.loc[salesData['Sales'].idxmax()])\n",
    "print(salesData.loc[salesData['Profit'].idxmax()])\n"
   ]
  }
 ],
 "metadata": {
  "kernelspec": {
   "display_name": "base",
   "language": "python",
   "name": "python3"
  },
  "language_info": {
   "codemirror_mode": {
    "name": "ipython",
    "version": 3
   },
   "file_extension": ".py",
   "mimetype": "text/x-python",
   "name": "python",
   "nbconvert_exporter": "python",
   "pygments_lexer": "ipython3",
   "version": "3.8.8"
  },
  "orig_nbformat": 4
 },
 "nbformat": 4,
 "nbformat_minor": 2
}
