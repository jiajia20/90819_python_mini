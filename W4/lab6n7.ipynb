{
 "cells": [
  {
   "attachments": {},
   "cell_type": "markdown",
   "metadata": {},
   "source": [
    "# Lab 6"
   ]
  },
  {
   "cell_type": "code",
   "execution_count": 2,
   "metadata": {},
   "outputs": [],
   "source": [
    "import pandas as pd"
   ]
  },
  {
   "cell_type": "code",
   "execution_count": 5,
   "metadata": {},
   "outputs": [
    {
     "name": "stdout",
     "output_type": "stream",
     "text": [
      "       Name         Breed  Weight   Age\n",
      "0      Fido          Mutt    15.0  15.0\n",
      "1      odie  Irish_Setter    50.0   2.0\n",
      "2    Snoopy        Beagle    18.0   2.0\n",
      "3     Barfy          Mutt    20.0   8.0\n",
      "4      Spot     Dalmatian    25.0  12.0\n",
      "5      hugo       Terrier     NaN  10.0\n",
      "6    Lassie        Collie    30.0  75.0\n",
      "7     Mangy           NaN    40.0  10.0\n",
      "8     Larry        Basset    25.0   4.0\n",
      "9     Daryl     Retriever    42.0   8.0\n",
      "10   Darrel     Chihuahua     9.0  48.0\n",
      "11   Hotdog     Dachshund     NaN   NaN\n",
      "12      NaN           Lab     NaN   NaN\n",
      "13    Harpo      Airedale   200.0   9.0\n",
      "14    Zeppo     Pekingese    32.0   NaN\n",
      "15  Groucho       Whippet    49.0   7.0\n",
      "16      Bob        yorkie     NaN   1.0\n",
      "17     Thor    Great Dane   105.0   6.0\n",
      "18    Brian         Akita     NaN  12.0\n",
      "19   Farkas         Boxer    52.0   9.0\n",
      "       Name         Breed  Weight   Age\n",
      "0      Fido          Mutt    15.0  15.0\n",
      "1      odie  Irish_Setter    50.0   2.0\n",
      "2    Snoopy        Beagle    18.0   2.0\n",
      "3     Barfy          Mutt    20.0   8.0\n",
      "4      Spot     Dalmatian    25.0  12.0\n",
      "6    Lassie        Collie    30.0  75.0\n",
      "8     Larry        Basset    25.0   4.0\n",
      "9     Daryl     Retriever    42.0   8.0\n",
      "10   Darrel     Chihuahua     9.0  48.0\n",
      "13    Harpo      Airedale   200.0   9.0\n",
      "15  Groucho       Whippet    49.0   7.0\n",
      "17     Thor    Great Dane   105.0   6.0\n",
      "19   Farkas         Boxer    52.0   9.0\n"
     ]
    }
   ],
   "source": [
    "# 1. Download the file 'mydata.csv' from Canvas. Load it into a DataFrame named mydata.\n",
    "mydata = pd.read_csv('mydata.csv')\n",
    "print(mydata)\n",
    "\n",
    "\n"
   ]
  },
  {
   "cell_type": "code",
   "execution_count": 6,
   "metadata": {},
   "outputs": [
    {
     "name": "stdout",
     "output_type": "stream",
     "text": [
      "       Name         Breed  Weight   Age\n",
      "0      Fido          Mutt    15.0  15.0\n",
      "1      odie  Irish_Setter    50.0   2.0\n",
      "2    Snoopy        Beagle    18.0   2.0\n",
      "3     Barfy          Mutt    20.0   8.0\n",
      "4      Spot     Dalmatian    25.0  12.0\n",
      "6    Lassie        Collie    30.0  75.0\n",
      "8     Larry        Basset    25.0   4.0\n",
      "9     Daryl     Retriever    42.0   8.0\n",
      "10   Darrel     Chihuahua     9.0  48.0\n",
      "13    Harpo      Airedale   200.0   9.0\n",
      "15  Groucho       Whippet    49.0   7.0\n",
      "17     Thor    Great Dane   105.0   6.0\n",
      "19   Farkas         Boxer    52.0   9.0\n"
     ]
    }
   ],
   "source": [
    "# 2. Create t1 as just the entries of mydata that don't contain NaN values.\n",
    "t1 = mydata.dropna()\n",
    "print(t1)"
   ]
  },
  {
   "cell_type": "code",
   "execution_count": 7,
   "metadata": {},
   "outputs": [
    {
     "name": "stdout",
     "output_type": "stream",
     "text": [
      "49.23076923076923\n",
      "15.76923076923077\n"
     ]
    }
   ],
   "source": [
    "# 3. Compute the average weight and the average age from t1.\n",
    "avg_weight = t1['Weight'].mean()\n",
    "ave_age = t1['Age'].mean()\n",
    "print(avg_weight)\n",
    "print(ave_age)"
   ]
  },
  {
   "cell_type": "code",
   "execution_count": 8,
   "metadata": {},
   "outputs": [
    {
     "name": "stdout",
     "output_type": "stream",
     "text": [
      "       Name         Breed      Weight   Age\n",
      "0      Fido          Mutt   15.000000  15.0\n",
      "1      odie  Irish_Setter   50.000000   2.0\n",
      "2    Snoopy        Beagle   18.000000   2.0\n",
      "3     Barfy          Mutt   20.000000   8.0\n",
      "4      Spot     Dalmatian   25.000000  12.0\n",
      "5      hugo       Terrier   49.230769  10.0\n",
      "6    Lassie        Collie   30.000000  75.0\n",
      "7     Mangy           NaN   40.000000  10.0\n",
      "8     Larry        Basset   25.000000   4.0\n",
      "9     Daryl     Retriever   42.000000   8.0\n",
      "10   Darrel     Chihuahua    9.000000  48.0\n",
      "11   Hotdog     Dachshund   49.230769   NaN\n",
      "12      NaN           Lab   49.230769   NaN\n",
      "13    Harpo      Airedale  200.000000   9.0\n",
      "14    Zeppo     Pekingese   32.000000   NaN\n",
      "15  Groucho       Whippet   49.000000   7.0\n",
      "16      Bob        yorkie   49.230769   1.0\n",
      "17     Thor    Great Dane  105.000000   6.0\n",
      "18    Brian         Akita   49.230769  12.0\n",
      "19   Farkas         Boxer   52.000000   9.0\n"
     ]
    }
   ],
   "source": [
    "#4. Create t2 from mydata with the NaN fields in the Weight column replaced by the average weight. \n",
    "t2 = mydata.fillna({'Weight':avg_weight})\n",
    "print(t2)"
   ]
  },
  {
   "cell_type": "code",
   "execution_count": 9,
   "metadata": {},
   "outputs": [
    {
     "name": "stdout",
     "output_type": "stream",
     "text": [
      "       Name         Breed  Weight        Age\n",
      "0      Fido          Mutt    15.0  15.000000\n",
      "1      odie  Irish_Setter    50.0   2.000000\n",
      "2    Snoopy        Beagle    18.0   2.000000\n",
      "3     Barfy          Mutt    20.0   8.000000\n",
      "4      Spot     Dalmatian    25.0  12.000000\n",
      "5      hugo       Terrier     NaN  10.000000\n",
      "6    Lassie        Collie    30.0  75.000000\n",
      "7     Mangy           NaN    40.0  10.000000\n",
      "8     Larry        Basset    25.0   4.000000\n",
      "9     Daryl     Retriever    42.0   8.000000\n",
      "10   Darrel     Chihuahua     9.0  48.000000\n",
      "11   Hotdog     Dachshund     NaN  15.769231\n",
      "12      NaN           Lab     NaN  15.769231\n",
      "13    Harpo      Airedale   200.0   9.000000\n",
      "14    Zeppo     Pekingese    32.0  15.769231\n",
      "15  Groucho       Whippet    49.0   7.000000\n",
      "16      Bob        yorkie     NaN   1.000000\n",
      "17     Thor    Great Dane   105.0   6.000000\n",
      "18    Brian         Akita     NaN  12.000000\n",
      "19   Farkas         Boxer    52.0   9.000000\n"
     ]
    }
   ],
   "source": [
    "#5. Create t3 from mydata with the NaN fields in the Age column replaced by the average age.\n",
    "t3 = mydata.fillna({'Age':ave_age})\n",
    "print(t3)"
   ]
  },
  {
   "cell_type": "code",
   "execution_count": 10,
   "metadata": {},
   "outputs": [
    {
     "name": "stdout",
     "output_type": "stream",
     "text": [
      "       Name         Breed      Weight        Age\n",
      "0      Fido          Mutt   15.000000  15.000000\n",
      "1      odie  Irish_Setter   50.000000   2.000000\n",
      "2    Snoopy        Beagle   18.000000   2.000000\n",
      "3     Barfy          Mutt   20.000000   8.000000\n",
      "4      Spot     Dalmatian   25.000000  12.000000\n",
      "5      hugo       Terrier   49.230769  10.000000\n",
      "6    Lassie        Collie   30.000000  75.000000\n",
      "7     Mangy           NaN   40.000000  10.000000\n",
      "8     Larry        Basset   25.000000   4.000000\n",
      "9     Daryl     Retriever   42.000000   8.000000\n",
      "10   Darrel     Chihuahua    9.000000  48.000000\n",
      "11   Hotdog     Dachshund   49.230769  15.769231\n",
      "12      NaN           Lab   49.230769  15.769231\n",
      "13    Harpo      Airedale  200.000000   9.000000\n",
      "14    Zeppo     Pekingese   32.000000  15.769231\n",
      "15  Groucho       Whippet   49.000000   7.000000\n",
      "16      Bob        yorkie   49.230769   1.000000\n",
      "17     Thor    Great Dane  105.000000   6.000000\n",
      "18    Brian         Akita   49.230769  12.000000\n",
      "19   Farkas         Boxer   52.000000   9.000000\n"
     ]
    }
   ],
   "source": [
    "# 6. Create t4 from t2 by doing #5 to replace missing Age values with the average age.\n",
    "t4 = t2.fillna({'Age':ave_age})\n",
    "print(t4)"
   ]
  },
  {
   "cell_type": "code",
   "execution_count": 11,
   "metadata": {},
   "outputs": [
    {
     "name": "stdout",
     "output_type": "stream",
     "text": [
      "       Name         Breed  Weight   Age\n",
      "0      Fido          Mutt    15.0  15.0\n",
      "1      odie  Irish_Setter    50.0   2.0\n",
      "2    Snoopy        Beagle    18.0   2.0\n",
      "3     Barfy          Mutt    20.0   8.0\n",
      "4      Spot     Dalmatian    25.0  12.0\n",
      "5      hugo       Terrier    25.0  10.0\n",
      "6    Lassie        Collie    30.0  75.0\n",
      "7     Mangy        Collie    40.0  10.0\n",
      "8     Larry        Basset    25.0   4.0\n",
      "9     Daryl     Retriever    42.0   8.0\n",
      "10   Darrel     Chihuahua     9.0  48.0\n",
      "11   Hotdog     Dachshund     9.0  48.0\n",
      "12   Hotdog           Lab     9.0  48.0\n",
      "13    Harpo      Airedale   200.0   9.0\n",
      "14    Zeppo     Pekingese    32.0   9.0\n",
      "15  Groucho       Whippet    49.0   7.0\n",
      "16      Bob        yorkie    49.0   1.0\n",
      "17     Thor    Great Dane   105.0   6.0\n",
      "18    Brian         Akita   105.0  12.0\n",
      "19   Farkas         Boxer    52.0   9.0\n"
     ]
    }
   ],
   "source": [
    "# 7. Create t5 from mydata by forward-filling missing data.\n",
    "t5 = mydata.fillna(method='ffill')\n",
    "print(t5)"
   ]
  },
  {
   "cell_type": "code",
   "execution_count": 12,
   "metadata": {},
   "outputs": [
    {
     "name": "stdout",
     "output_type": "stream",
     "text": [
      "       Name         Breed      Weight        Age\n",
      "0      Fido          Mutt   15.000000  15.000000\n",
      "1      odie  Irish_Setter   50.000000   2.000000\n",
      "2    Snoopy        Beagle   18.000000   2.000000\n",
      "3     Barfy          Mutt   20.000000   8.000000\n",
      "4      Spot     Dalmatian   25.000000  12.000000\n",
      "5      hugo       Terrier   49.230769  10.000000\n",
      "6    Lassie        Collie   30.000000  15.769231\n",
      "7     Mangy           NaN   40.000000  10.000000\n",
      "8     Larry        Basset   25.000000   4.000000\n",
      "9     Daryl     Retriever   42.000000   8.000000\n",
      "10   Darrel     Chihuahua    9.000000  15.769231\n",
      "11   Hotdog     Dachshund   49.230769  15.769231\n",
      "12      NaN           Lab   49.230769  15.769231\n",
      "13    Harpo      Airedale  200.000000   9.000000\n",
      "14    Zeppo     Pekingese   32.000000  15.769231\n",
      "15  Groucho       Whippet   49.000000   7.000000\n",
      "16      Bob        yorkie   49.230769   1.000000\n",
      "17     Thor    Great Dane  105.000000   6.000000\n",
      "18    Brian         Akita   49.230769  12.000000\n",
      "19   Farkas         Boxer   52.000000   9.000000\n"
     ]
    }
   ],
   "source": [
    "# 8. Create t6 as a copy t4. Then replace any Age values larger than 18 with the average age.\n",
    "t6 = t4.copy()\n",
    "t6.loc[t6['Age'] > 18, 'Age'] = ave_age\n",
    "print(t6)"
   ]
  },
  {
   "cell_type": "code",
   "execution_count": 13,
   "metadata": {},
   "outputs": [
    {
     "name": "stdout",
     "output_type": "stream",
     "text": [
      "       Name         Breed      Weight        Age\n",
      "0      Fido          Mutt   15.000000  15.000000\n",
      "1      odie  Irish_Setter   50.000000   2.000000\n",
      "2    Snoopy        Beagle   18.000000   2.000000\n",
      "3     Barfy          Mutt   20.000000   8.000000\n",
      "4      Spot     Dalmatian   25.000000  12.000000\n",
      "5      hugo       Terrier   49.230769  10.000000\n",
      "6    Lassie        Collie   30.000000  15.769231\n",
      "7     Mangy           NaN   40.000000  10.000000\n",
      "8     Larry        Basset   25.000000   4.000000\n",
      "9     Daryl     Retriever   42.000000   8.000000\n",
      "10   Darrel     Chihuahua    9.000000  15.769231\n",
      "11   Hotdog     Dachshund   49.230769  15.769231\n",
      "12      NaN           Lab   49.230769  15.769231\n",
      "13    Harpo      Airedale   49.230769   9.000000\n",
      "14    Zeppo     Pekingese   32.000000  15.769231\n",
      "15  Groucho       Whippet   49.000000   7.000000\n",
      "16      Bob        yorkie   49.230769   1.000000\n",
      "17     Thor    Great Dane  105.000000   6.000000\n",
      "18    Brian         Akita   49.230769  12.000000\n",
      "19   Farkas         Boxer   52.000000   9.000000\n"
     ]
    }
   ],
   "source": [
    "# 9. Create t7 as a copy of t6. Then replace any Weight values larger than 150 with the average weight.\n",
    "t7 = t6.copy()\n",
    "t7.loc[t7['Weight'] > 150, 'Weight'] = avg_weight\n",
    "print(t7)"
   ]
  },
  {
   "cell_type": "code",
   "execution_count": 14,
   "metadata": {},
   "outputs": [
    {
     "name": "stdout",
     "output_type": "stream",
     "text": [
      "       Name         Breed      Weight  Age\n",
      "0      Fido          Mutt   15.000000   15\n",
      "1      odie  Irish_Setter   50.000000    2\n",
      "2    Snoopy        Beagle   18.000000    2\n",
      "3     Barfy          Mutt   20.000000    8\n",
      "4      Spot     Dalmatian   25.000000   12\n",
      "5      hugo       Terrier   49.230769   10\n",
      "6    Lassie        Collie   30.000000   15\n",
      "7     Mangy           NaN   40.000000   10\n",
      "8     Larry        Basset   25.000000    4\n",
      "9     Daryl     Retriever   42.000000    8\n",
      "10   Darrel     Chihuahua    9.000000   15\n",
      "11   Hotdog     Dachshund   49.230769   15\n",
      "12      NaN           Lab   49.230769   15\n",
      "13    Harpo      Airedale   49.230769    9\n",
      "14    Zeppo     Pekingese   32.000000   15\n",
      "15  Groucho       Whippet   49.000000    7\n",
      "16      Bob        yorkie   49.230769    1\n",
      "17     Thor    Great Dane  105.000000    6\n",
      "18    Brian         Akita   49.230769   12\n",
      "19   Farkas         Boxer   52.000000    9\n"
     ]
    }
   ],
   "source": [
    "# 10. Create t8 from t7, changing its Age data to int (use astype() )\n",
    "t8 = t7.astype({'Age':int})\n",
    "print(t8)"
   ]
  },
  {
   "cell_type": "code",
   "execution_count": 15,
   "metadata": {},
   "outputs": [
    {
     "name": "stdout",
     "output_type": "stream",
     "text": [
      "   Search Name         Breed      Weight  Age\n",
      "0         FIDO          Mutt   15.000000   15\n",
      "1         ODIE  Irish_Setter   50.000000    2\n",
      "2       SNOOPY        Beagle   18.000000    2\n",
      "3        BARFY          Mutt   20.000000    8\n",
      "4         SPOT     Dalmatian   25.000000   12\n",
      "5         HUGO       Terrier   49.230769   10\n",
      "6       LASSIE        Collie   30.000000   15\n",
      "7        MANGY           NaN   40.000000   10\n",
      "8        LARRY        Basset   25.000000    4\n",
      "9        DARYL     Retriever   42.000000    8\n",
      "10      DARREL     Chihuahua    9.000000   15\n",
      "11      HOTDOG     Dachshund   49.230769   15\n",
      "12       BARFY           Lab   49.230769   15\n",
      "13       HARPO      Airedale   49.230769    9\n",
      "14       ZEPPO     Pekingese   32.000000   15\n",
      "15     GROUCHO       Whippet   49.000000    7\n",
      "16         BOB        yorkie   49.230769    1\n",
      "17        THOR    Great Dane  105.000000    6\n",
      "18       BRIAN         Akita   49.230769   12\n",
      "19      FARKAS         Boxer   52.000000    9\n"
     ]
    }
   ],
   "source": [
    "#11. Create t9 from t8, changing any missing Name data to 'Barfy' using fillna( ). \n",
    "# Then use apply( ) to change the name column to upper case. Then change the Name column to 'Search Name'\n",
    "t9 = t8.fillna({'Name':'Barfy'})\n",
    "t9['Name'] = t9['Name'].apply(lambda x: x.upper())\n",
    "t9 = t9.rename(columns={'Name':'Search Name'})\n",
    "print(t9)"
   ]
  },
  {
   "cell_type": "code",
   "execution_count": 16,
   "metadata": {},
   "outputs": [
    {
     "name": "stdout",
     "output_type": "stream",
     "text": [
      "   Search Name     Name         Breed      Weight  Age\n",
      "0         FIDO     Fido          Mutt   15.000000   15\n",
      "1         ODIE     odie  Irish_Setter   50.000000    2\n",
      "2       SNOOPY   Snoopy        Beagle   18.000000    2\n",
      "3        BARFY    Barfy          Mutt   20.000000    8\n",
      "4         SPOT     Spot     Dalmatian   25.000000   12\n",
      "5         HUGO     hugo       Terrier   49.230769   10\n",
      "6       LASSIE   Lassie        Collie   30.000000   15\n",
      "7        MANGY    Mangy           NaN   40.000000   10\n",
      "8        LARRY    Larry        Basset   25.000000    4\n",
      "9        DARYL    Daryl     Retriever   42.000000    8\n",
      "10      DARREL   Darrel     Chihuahua    9.000000   15\n",
      "11      HOTDOG   Hotdog     Dachshund   49.230769   15\n",
      "12       BARFY      NaN           Lab   49.230769   15\n",
      "13       HARPO    Harpo      Airedale   49.230769    9\n",
      "14       ZEPPO    Zeppo     Pekingese   32.000000   15\n",
      "15     GROUCHO  Groucho       Whippet   49.000000    7\n",
      "16         BOB      Bob        yorkie   49.230769    1\n",
      "17        THOR     Thor    Great Dane  105.000000    6\n",
      "18       BRIAN    Brian         Akita   49.230769   12\n",
      "19      FARKAS   Farkas         Boxer   52.000000    9\n"
     ]
    }
   ],
   "source": [
    "#12. Create t10 from t9 using pd.concat( ) and axis = 1, concatenating t9's Search Name column with all of t8.\n",
    "t10 = pd.concat([t9['Search Name'], t8], axis=1)\n",
    "print(t10)"
   ]
  },
  {
   "attachments": {},
   "cell_type": "markdown",
   "metadata": {},
   "source": [
    "# Lab 7"
   ]
  },
  {
   "cell_type": "code",
   "execution_count": 26,
   "metadata": {},
   "outputs": [],
   "source": [
    "import sqlite3  as sql"
   ]
  },
  {
   "cell_type": "code",
   "execution_count": 50,
   "metadata": {},
   "outputs": [
    {
     "name": "stdout",
     "output_type": "stream",
     "text": [
      "[('dogs',)]\n"
     ]
    }
   ],
   "source": [
    "# problem 1 \n",
    "connection = sql.connect('dogsdb.sqlite3')\n",
    "cursor = connection.cursor()\n",
    "query='select name from sqlite_master where type=\"table\"' \n",
    "cursor.execute(query)\n",
    "table = cursor.fetchall()\n",
    "print(table)"
   ]
  },
  {
   "cell_type": "code",
   "execution_count": 29,
   "metadata": {},
   "outputs": [
    {
     "name": "stdout",
     "output_type": "stream",
     "text": [
      "[('Fido', 'Mutt', 15, 15), ('Odie', 'Irish_Setter', 50, 2), ('Snoopy', 'Beagle', 18, 2), ('Barfy', 'Mutt', 20, 8), ('Spot', 'Dalmatian', 25, 12), ('Hugo', 'Terrier', 28, 10), ('Lassie', 'Collie', 30, 15), ('Mangy', 'Mutt', 40, 10), ('Larry', 'Basset', 25, 4), ('Daryl', 'Retriever', 42, 8), ('Darrel', 'Chihuahua', 9, 48), ('Hotdog', 'Dachshund', 14, 14), ('Snert', 'Lab', 40, 4), ('Harpo', 'Airedale', 200, 9), ('Zeppo', 'Pekingese', 32, 5), ('Groucho', 'Whippet', 49, 7), ('Bob', 'Yorkie', 8, 1), ('Thor', 'Great Dane', 105, 6), ('Brian', 'Akita', 65, 12), ('Farkas', 'Boxer', 52, 9)]\n",
      "<class 'list'>\n",
      "('Fido', 'Mutt', 15, 15)\n",
      "('Odie', 'Irish_Setter', 50, 2)\n",
      "('Snoopy', 'Beagle', 18, 2)\n",
      "('Barfy', 'Mutt', 20, 8)\n",
      "('Spot', 'Dalmatian', 25, 12)\n",
      "('Hugo', 'Terrier', 28, 10)\n",
      "('Lassie', 'Collie', 30, 15)\n",
      "('Mangy', 'Mutt', 40, 10)\n",
      "('Larry', 'Basset', 25, 4)\n",
      "('Daryl', 'Retriever', 42, 8)\n",
      "('Darrel', 'Chihuahua', 9, 48)\n",
      "('Hotdog', 'Dachshund', 14, 14)\n",
      "('Snert', 'Lab', 40, 4)\n",
      "('Harpo', 'Airedale', 200, 9)\n",
      "('Zeppo', 'Pekingese', 32, 5)\n",
      "('Groucho', 'Whippet', 49, 7)\n",
      "('Bob', 'Yorkie', 8, 1)\n",
      "('Thor', 'Great Dane', 105, 6)\n",
      "('Brian', 'Akita', 65, 12)\n",
      "('Farkas', 'Boxer', 52, 9)\n"
     ]
    }
   ],
   "source": [
    "# problem 2\n",
    "\n",
    "#Create a query string to get all the data from dogs. \n",
    "# Execute the query into 'cursor', use it to get all the data into a variable named table, \n",
    "# and display table and its type. Then loop over table and display its rows.\n",
    "\n",
    "query = 'select * from dogs'\n",
    "cursor.execute(query)\n",
    "table = cursor.fetchall()\n",
    "print(table)\n",
    "print(type(table))\n",
    "for row in table:\n",
    "    print(row)\n",
    "\n"
   ]
  },
  {
   "cell_type": "code",
   "execution_count": 32,
   "metadata": {},
   "outputs": [
    {
     "name": "stdout",
     "output_type": "stream",
     "text": [
      "(('Name', None, None, None, None, None, None), ('Breed', None, None, None, None, None, None), ('Weight', None, None, None, None, None, None), ('Age', None, None, None, None, None, None))\n",
      "Name\n",
      "Breed\n",
      "Weight\n",
      "Age\n",
      "['Name', 'Breed', 'Weight', 'Age']\n"
     ]
    }
   ],
   "source": [
    "#3. Display cursor.description. \n",
    "# Iterate over it to show just the column names (position 0). \n",
    "# Create an empty list named colnames. \n",
    "# Then do the iteration again and append those names to colnames. \n",
    "# Display colnames; it should be a list of the str names of the columns of dogsdb.sqlite3.\n",
    "\n",
    "print(cursor.description)\n",
    "for row in cursor.description:\n",
    "    print(row[0])\n",
    "\n",
    "colnames = []\n",
    "for row in cursor.description:\n",
    "    colnames.append(row[0])\n",
    "\n",
    "print(colnames)\n",
    "\n"
   ]
  },
  {
   "cell_type": "code",
   "execution_count": 33,
   "metadata": {},
   "outputs": [
    {
     "name": "stdout",
     "output_type": "stream",
     "text": [
      "       Name         Breed  Weight  Age\n",
      "0      Fido          Mutt      15   15\n",
      "1      Odie  Irish_Setter      50    2\n",
      "2    Snoopy        Beagle      18    2\n",
      "3     Barfy          Mutt      20    8\n",
      "4      Spot     Dalmatian      25   12\n",
      "5      Hugo       Terrier      28   10\n",
      "6    Lassie        Collie      30   15\n",
      "7     Mangy          Mutt      40   10\n",
      "8     Larry        Basset      25    4\n",
      "9     Daryl     Retriever      42    8\n",
      "10   Darrel     Chihuahua       9   48\n",
      "11   Hotdog     Dachshund      14   14\n",
      "12    Snert           Lab      40    4\n",
      "13    Harpo      Airedale     200    9\n",
      "14    Zeppo     Pekingese      32    5\n",
      "15  Groucho       Whippet      49    7\n",
      "16      Bob        Yorkie       8    1\n",
      "17     Thor    Great Dane     105    6\n",
      "18    Brian         Akita      65   12\n",
      "19   Farkas         Boxer      52    9\n"
     ]
    }
   ],
   "source": [
    "#4. Create a pandas DataFrame named dogsDF with table as the data and colnames as the columns. Display it.\n",
    "dogsDF = pd.DataFrame(table, columns=colnames)\n",
    "print(dogsDF)\n"
   ]
  },
  {
   "cell_type": "code",
   "execution_count": 51,
   "metadata": {},
   "outputs": [
    {
     "name": "stdout",
     "output_type": "stream",
     "text": [
      "[['Mutt', 'Mangy and skinny'], ['Boxer', 'Short, always looks grumpy'], ['Pekingese', 'Not really a dog'], ['Basset', 'So much skin'], ['Beagle', 'Cute-ish'], ['Irish_Setter', 'Drinks your whiskey'], ['Terrier', 'Fetch, boy'], ['Whippet', 'Whippet good'], ['Yorkie', 'Cute'], ['Gread Dane', 'So huuuge'], ['Akita', 'or is it Atika?'], ['Great Dane', 'Not that great']]\n"
     ]
    },
    {
     "ename": "OperationalError",
     "evalue": "no such table: my_table",
     "output_type": "error",
     "traceback": [
      "\u001b[0;31m---------------------------------------------------------------------------\u001b[0m",
      "\u001b[0;31mOperationalError\u001b[0m                          Traceback (most recent call last)",
      "\u001b[0;32m<ipython-input-51-9f2bd5dee12c>\u001b[0m in \u001b[0;36m<module>\u001b[0;34m\u001b[0m\n\u001b[1;32m     14\u001b[0m \u001b[0;34m\u001b[0m\u001b[0m\n\u001b[1;32m     15\u001b[0m \u001b[0;32mfor\u001b[0m \u001b[0mrow\u001b[0m \u001b[0;32min\u001b[0m \u001b[0mbreeds\u001b[0m\u001b[0;34m.\u001b[0m\u001b[0mbreeds\u001b[0m\u001b[0;34m:\u001b[0m\u001b[0;34m\u001b[0m\u001b[0;34m\u001b[0m\u001b[0m\n\u001b[0;32m---> 16\u001b[0;31m     \u001b[0mcursor\u001b[0m\u001b[0;34m.\u001b[0m\u001b[0mexecute\u001b[0m\u001b[0;34m(\u001b[0m\u001b[0;34m'''INSERT INTO my_table VALUES (?,?)'''\u001b[0m\u001b[0;34m,\u001b[0m \u001b[0mrow\u001b[0m\u001b[0;34m)\u001b[0m\u001b[0;34m\u001b[0m\u001b[0;34m\u001b[0m\u001b[0m\n\u001b[0m\u001b[1;32m     17\u001b[0m \u001b[0mconnection\u001b[0m\u001b[0;34m.\u001b[0m\u001b[0mcommit\u001b[0m\u001b[0;34m(\u001b[0m\u001b[0;34m)\u001b[0m\u001b[0;34m\u001b[0m\u001b[0;34m\u001b[0m\u001b[0m\n\u001b[1;32m     18\u001b[0m \u001b[0;34m\u001b[0m\u001b[0m\n",
      "\u001b[0;31mOperationalError\u001b[0m: no such table: my_table"
     ]
    }
   ],
   "source": [
    "#5. Download the file 'breeds.py' from Canvas; it contains a list of lists named 'breeds'. \n",
    "# Copy it into your interpreter; display breeds. No real work here – just saving you some typing (you're welcome).\n",
    "import breeds\n",
    "print(breeds.breeds)\n",
    "\n",
    "#6. Create a new table in dogdb named Breeds with the column names Breed, VARCHAR(20), and Description, VARCHAR(40). \n",
    "# Then insert the data from breeds in #5 into it.\n",
    "\n",
    "cursor.execute('''CREATE TABLE Breeds (\n",
    "                Breed VARCHAR(20),\n",
    "                Description VARCHAR(40)\n",
    "              )''')\n",
    "\n",
    "\n",
    "\n",
    "\n"
   ]
  },
  {
   "cell_type": "code",
   "execution_count": 52,
   "metadata": {},
   "outputs": [],
   "source": [
    "for row in breeds.breeds:\n",
    "    cursor.execute('''INSERT INTO Breeds VALUES (?,?)''', row)\n",
    "connection.commit()"
   ]
  },
  {
   "cell_type": "code",
   "execution_count": 53,
   "metadata": {},
   "outputs": [
    {
     "name": "stdout",
     "output_type": "stream",
     "text": [
      "[('Mutt', 'Mangy and skinny'), ('Boxer', 'Short, always looks grumpy'), ('Pekingese', 'Not really a dog'), ('Basset', 'So much skin'), ('Beagle', 'Cute-ish'), ('Irish_Setter', 'Drinks your whiskey'), ('Terrier', 'Fetch, boy'), ('Whippet', 'Whippet good'), ('Yorkie', 'Cute'), ('Gread Dane', 'So huuuge'), ('Akita', 'or is it Atika?'), ('Great Dane', 'Not that great')]\n"
     ]
    }
   ],
   "source": [
    "#7. Query the table Breeds from dogdb and display it (i.e., as proof that it was stored).\n",
    "query = 'select * from Breeds'\n",
    "cursor.execute(query)\n",
    "table = cursor.fetchall()\n",
    "print(table)"
   ]
  },
  {
   "cell_type": "code",
   "execution_count": 54,
   "metadata": {},
   "outputs": [
    {
     "name": "stdout",
     "output_type": "stream",
     "text": [
      "[('Fido', 'Mutt', 'Mangy and skinny'), ('Odie', 'Irish_Setter', 'Drinks your whiskey'), ('Snoopy', 'Beagle', 'Cute-ish'), ('Barfy', 'Mutt', 'Mangy and skinny'), ('Hugo', 'Terrier', 'Fetch, boy'), ('Mangy', 'Mutt', 'Mangy and skinny'), ('Larry', 'Basset', 'So much skin'), ('Zeppo', 'Pekingese', 'Not really a dog'), ('Groucho', 'Whippet', 'Whippet good'), ('Bob', 'Yorkie', 'Cute'), ('Thor', 'Great Dane', 'Not that great'), ('Brian', 'Akita', 'or is it Atika?'), ('Farkas', 'Boxer', 'Short, always looks grumpy')]\n"
     ]
    }
   ],
   "source": [
    "# 8. Write a JOIN query to join dogs with Breeds on the Breed field, but limited to the Name, Breed, and Description fields.\n",
    "\n",
    "query = '''SELECT dogs.Name, dogs.Breed, Breeds.Description\n",
    "            FROM dogs\n",
    "            JOIN Breeds\n",
    "            ON dogs.Breed = Breeds.Breed'''\n",
    "cursor.execute(query)\n",
    "table = cursor.fetchall()\n",
    "print(table)\n",
    "\n"
   ]
  },
  {
   "cell_type": "code",
   "execution_count": 55,
   "metadata": {},
   "outputs": [
    {
     "name": "stdout",
     "output_type": "stream",
     "text": [
      "[('Fido', 15), ('Barfy', 8), ('Spot', 12), ('Hugo', 10), ('Lassie', 15), ('Mangy', 10), ('Daryl', 8), ('Darrel', 48), ('Hotdog', 14), ('Harpo', 9), ('Zeppo', 5), ('Groucho', 7), ('Thor', 6), ('Brian', 12), ('Farkas', 9)]\n"
     ]
    }
   ],
   "source": [
    "#9. Write a SELECT query to get dogs at least 5 years old. Display their names and ages only.\n",
    "query = '''SELECT Name, Age\n",
    "            FROM dogs\n",
    "            WHERE Age >= 5'''\n",
    "cursor.execute(query)\n",
    "table = cursor.fetchall()\n",
    "print(table)"
   ]
  },
  {
   "cell_type": "code",
   "execution_count": 56,
   "metadata": {},
   "outputs": [
    {
     "name": "stdout",
     "output_type": "stream",
     "text": [
      "[(10.05,)]\n",
      "The average age of the dogs is 10.05\n"
     ]
    }
   ],
   "source": [
    "# 10. Write a SELECT query to get the average age (use AVG(dogs.Age) ) \n",
    "# display it in a formatted Python statement with a label and 2 decimal places.\n",
    "\n",
    "query = '''SELECT AVG(Age)\n",
    "            FROM dogs'''\n",
    "cursor.execute(query)\n",
    "table = cursor.fetchall()\n",
    "print(table)\n",
    "print('The average age of the dogs is {:.2f}'.format(table[0][0]))\n"
   ]
  }
 ],
 "metadata": {
  "kernelspec": {
   "display_name": "base",
   "language": "python",
   "name": "python3"
  },
  "language_info": {
   "codemirror_mode": {
    "name": "ipython",
    "version": 3
   },
   "file_extension": ".py",
   "mimetype": "text/x-python",
   "name": "python",
   "nbconvert_exporter": "python",
   "pygments_lexer": "ipython3",
   "version": "3.8.8"
  },
  "orig_nbformat": 4
 },
 "nbformat": 4,
 "nbformat_minor": 2
}
