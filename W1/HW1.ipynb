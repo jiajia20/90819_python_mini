{
 "cells": [
  {
   "cell_type": "code",
   "execution_count": null,
   "metadata": {},
   "outputs": [],
   "source": []
  },
  {
   "attachments": {},
   "cell_type": "markdown",
   "metadata": {},
   "source": [
    "# Problem 1"
   ]
  },
  {
   "cell_type": "code",
   "execution_count": 3,
   "metadata": {},
   "outputs": [
    {
     "name": "stdout",
     "output_type": "stream",
     "text": [
      "Name:      name1 Cost: $ 1.00\n"
     ]
    }
   ],
   "source": [
    "name = \"name1\"\n",
    "cost = 1.0\n",
    "print ('Name: %10s Cost: $%5.2f' % (name, cost))"
   ]
  },
  {
   "cell_type": "code",
   "execution_count": 4,
   "metadata": {},
   "outputs": [
    {
     "name": "stdout",
     "output_type": "stream",
     "text": [
      "YEAR %\n"
     ]
    }
   ],
   "source": [
    "print('YEAR %')"
   ]
  },
  {
   "cell_type": "code",
   "execution_count": 5,
   "metadata": {},
   "outputs": [
    {
     "name": "stdout",
     "output_type": "stream",
     "text": [
      "     hello 234     12.667\n",
      "     hello 234     12.667\n"
     ]
    }
   ],
   "source": [
    "print('%10s %-5d %8.3f' % ('hello', 234, 38 / 3))\n",
    "\n",
    "print('{:>10s} {:<5d} {:>8.3f}'.format('hello', 234, 38 / 3))"
   ]
  },
  {
   "cell_type": "code",
   "execution_count": 6,
   "metadata": {},
   "outputs": [
    {
     "name": "stdout",
     "output_type": "stream",
     "text": [
      "YEAR                                               TITLE                                   ARTIST\n"
     ]
    }
   ],
   "source": [
    "print ('{:<15} {:>40} {:>40}'.format('YEAR','TITLE','ARTIST'))"
   ]
  },
  {
   "cell_type": "code",
   "execution_count": 7,
   "metadata": {},
   "outputs": [
    {
     "name": "stdout",
     "output_type": "stream",
     "text": [
      "-----------------------------------------------------------------------------------------------\n"
     ]
    }
   ],
   "source": [
    "length = 95\n",
    "line = '-' * length\n",
    "print(line)"
   ]
  },
  {
   "cell_type": "code",
   "execution_count": 8,
   "metadata": {},
   "outputs": [
    {
     "name": "stdout",
     "output_type": "stream",
     "text": [
      "1946                                    Prisoner of Love                               Perry Como\n",
      "1947                                            Near You                            Francis Craig\n",
      "1948                                  Twelfth Street Rag                             Pee Wee Hunt\n",
      "1949                                   Riders in the Sky                  Vaughn Monroe Orchestra\n",
      "1950                                     Goodnight Irene           Gordon Jenkins and The Weavers\n",
      "1951                                           Too Young                            Nat King Cole\n",
      "1952                                          Blue Tango                           Leroy Anderson\n",
      "1953                              Song from Moulin Rouge                              Percy Faith\n",
      "1954                            Little Things Mean a Lot                             Kitty Kallen\n",
      "1955                 Cherry Pink and Apple Blossom White                              Perez Prado\n",
      "1956                                    Heartbreak Hotel                            Elvis Presley\n",
      "1957                                        All Shook Up                            Elvis Presley\n",
      "1958                     Nel Blu Dipinto di Blu (Volare)                         Domenico Modugno\n",
      "1959                           The Battle of New Orleans                            Johnny Horton\n",
      "1960                           Theme from A Summer Place                              Percy Faith\n",
      "1961                                 Tossin' and Turnin'                              Bobby Lewis\n",
      "1962                               Stranger on the Shore                           Mr. Acker Bilk\n",
      "1963                                         Sugar Shack           Jimmy Gilmer and the Fireballs\n",
      "1963                                      Surfin' U.S.A.                           The Beach Boys\n",
      "1964                            I Want to Hold Your Hand                              The Beatles\n",
      "1965                                         Wooly Bully              Sam the Sham & the Pharaohs\n",
      "1966                      The Ballad of the Green Berets                       SSgt. Barry Sadler\n",
      "1966                                 California Dreamin'                  The Mamas and the Papas\n",
      "1967                                    To Sir with Love                                     Lulu\n",
      "1968                                            Hey Jude                              The Beatles\n",
      "1969                                         Sugar Sugar                              The Archies\n",
      "1970                          Bridge over Troubled Water                        Simon & Garfunkel\n",
      "1971                                    Joy to the World                          Three Dog Night\n",
      "1972                 The First Time Ever I Saw Your Face                            Roberta Flack\n",
      "1973            Tie a Yellow Ribbon 'Round the Ole Oak Tree                    Tony Orlando and Dawn\n",
      "1974                                     The Way We Were                         Barbra Streisand\n",
      "1975                          Love Will Keep Us Together                       Captain & Tennille\n",
      "1976                                    Silly Love Songs                                    Wings\n",
      "1977              Tonight's the Night (Gonna Be Alright)                              Rod Stewart\n",
      "1978                                      Shadow Dancing                                Andy Gibb\n",
      "1979                                          My Sharona                                The Knack\n",
      "1980                                             Call Me                                  Blondie\n",
      "1981                                    Bette Davis Eyes                               Kim Carnes\n",
      "1982                                            Physical                       Olivia Newton-John\n",
      "1983                               Every Breath You Take                               The Police\n",
      "1984                                      When Doves Cry                                   Prince\n",
      "1985                                    Careless Whisper                                    Wham!\n",
      "1986                         That's What Friends Are For                         Dionne & Friends\n",
      "1987                               Walk Like an Egyptian                              The Bangles\n",
      "1988                                               Faith                           George Michael\n",
      "1989                                           Look Away                                  Chicago\n",
      "1990                                             Hold On                          Wilson Phillips\n",
      "1991                   (Everything I Do) I Do It for You                              Bryan Adams\n",
      "1992                                     End of the Road                              Boyz II Men\n",
      "1993                              I Will Always Love You                          Whitney Houston\n",
      "1994                                            The Sign                              Ace of Base\n",
      "1995                                  Gangsta's Paradise                    Coolio featuring L.V.\n",
      "1996                         Macarena (Bayside Boys Mix)                              Los del Río\n",
      "1997                             Candle in the Wind 1997                               Elton John\n",
      "1998                                           Too Close                                     Next\n",
      "1999                                             Believe                                     Cher\n",
      "2000                                             Breathe                               Faith Hill\n",
      "2001                                 Hanging by a Moment                                Lifehouse\n",
      "2002                                   How You Remind Me                               Nickelback\n",
      "2003                                          In Da Club                                  50 Cent\n",
      "2004                                               Yeah!     Usher featuring Lil Jon and Ludacris\n",
      "2005                                  We Belong Together                             Mariah Carey\n",
      "2006                                             Bad Day                            Daniel Powter\n",
      "2007                                       Irreplaceable                                  Beyoncé\n",
      "2008                                                 Low                Flo Rida featuring T-Pain\n",
      "2009                                       Boom Boom Pow                      The Black Eyed Peas\n",
      "2010                                             Tik Tok                                    Kesha\n",
      "2011                                 Rolling in the Deep                                    Adele\n",
      "2012                        Somebody That I Used to Know                   Gotye featuring Kimbra\n",
      "2013                                         Thrift Shop   Macklemore & Ryan Lewis featuring Wanz\n",
      "2014                                               Happy                        Pharrell Williams\n",
      "2015                                         Uptown Funk         Mark Ronson featuring Bruno Mars\n",
      "2016                                       Love Yourself                            Justin Bieber\n",
      "2017                                        Shape of You                               Ed Sheeran\n",
      "2018                                          God's Plan                                    Drake\n",
      "2019                                       Old Town Road      Lil Nas X featuring Billy Ray Cyrus\n",
      "2020                                     Blinding Lights                               The Weeknd\n",
      "2021                                          Levitating                                 Dua Lipa\n"
     ]
    }
   ],
   "source": [
    "import csv\n",
    "\n",
    "with open('songs.csv', 'r') as csvfile:\n",
    "    csvreader = csv.reader(csvfile)\n",
    "    for row in csvreader:\n",
    "        year, title, artist = row\n",
    "        print('{:<15} {:>40} {:>40}'.format(year, title, artist))\n",
    "        \n",
    "       \n"
   ]
  },
  {
   "attachments": {},
   "cell_type": "markdown",
   "metadata": {},
   "source": [
    "# Problem 2"
   ]
  },
  {
   "cell_type": "code",
   "execution_count": 9,
   "metadata": {},
   "outputs": [
    {
     "name": "stdout",
     "output_type": "stream",
     "text": [
      "1991                   (Everything I Do) I Do It for You                              Bryan Adams\n",
      "1957                                        All Shook Up                            Elvis Presley\n",
      "2006                                             Bad Day                            Daniel Powter\n",
      "1999                                             Believe                                     Cher\n",
      "1981                                    Bette Davis Eyes                               Kim Carnes\n",
      "2020                                     Blinding Lights                               The Weeknd\n",
      "1952                                          Blue Tango                           Leroy Anderson\n",
      "2009                                       Boom Boom Pow                      The Black Eyed Peas\n",
      "2000                                             Breathe                               Faith Hill\n",
      "1970                          Bridge over Troubled Water                        Simon & Garfunkel\n",
      "1966                                 California Dreamin'                  The Mamas and the Papas\n",
      "1980                                             Call Me                                  Blondie\n",
      "1997                             Candle in the Wind 1997                               Elton John\n",
      "1985                                    Careless Whisper                                    Wham!\n",
      "1955                 Cherry Pink and Apple Blossom White                              Perez Prado\n",
      "1992                                     End of the Road                              Boyz II Men\n",
      "1983                               Every Breath You Take                               The Police\n",
      "1988                                               Faith                           George Michael\n",
      "1995                                  Gangsta's Paradise                    Coolio featuring L.V.\n",
      "2018                                          God's Plan                                    Drake\n",
      "1950                                     Goodnight Irene           Gordon Jenkins and The Weavers\n",
      "2001                                 Hanging by a Moment                                Lifehouse\n",
      "2014                                               Happy                        Pharrell Williams\n",
      "1956                                    Heartbreak Hotel                            Elvis Presley\n",
      "1968                                            Hey Jude                              The Beatles\n",
      "1990                                             Hold On                          Wilson Phillips\n",
      "2002                                   How You Remind Me                               Nickelback\n",
      "1964                            I Want to Hold Your Hand                              The Beatles\n",
      "1993                              I Will Always Love You                          Whitney Houston\n",
      "2003                                          In Da Club                                  50 Cent\n",
      "2007                                       Irreplaceable                                  Beyoncé\n",
      "1971                                    Joy to the World                          Three Dog Night\n",
      "2021                                          Levitating                                 Dua Lipa\n",
      "1954                            Little Things Mean a Lot                             Kitty Kallen\n",
      "1989                                           Look Away                                  Chicago\n",
      "1975                          Love Will Keep Us Together                       Captain & Tennille\n",
      "2016                                       Love Yourself                            Justin Bieber\n",
      "2008                                                 Low                Flo Rida featuring T-Pain\n",
      "1996                         Macarena (Bayside Boys Mix)                              Los del Río\n",
      "1979                                          My Sharona                                The Knack\n",
      "1947                                            Near You                            Francis Craig\n",
      "1958                     Nel Blu Dipinto di Blu (Volare)                         Domenico Modugno\n",
      "2019                                       Old Town Road      Lil Nas X featuring Billy Ray Cyrus\n",
      "1982                                            Physical                       Olivia Newton-John\n",
      "1946                                    Prisoner of Love                               Perry Como\n",
      "1949                                   Riders in the Sky                  Vaughn Monroe Orchestra\n",
      "2011                                 Rolling in the Deep                                    Adele\n",
      "1978                                      Shadow Dancing                                Andy Gibb\n",
      "2017                                        Shape of You                               Ed Sheeran\n",
      "1976                                    Silly Love Songs                                    Wings\n",
      "2012                        Somebody That I Used to Know                   Gotye featuring Kimbra\n",
      "1953                              Song from Moulin Rouge                              Percy Faith\n",
      "1962                               Stranger on the Shore                           Mr. Acker Bilk\n",
      "1963                                         Sugar Shack           Jimmy Gilmer and the Fireballs\n",
      "1969                                         Sugar Sugar                              The Archies\n",
      "1963                                      Surfin' U.S.A.                           The Beach Boys\n",
      "1986                         That's What Friends Are For                         Dionne & Friends\n",
      "1966                      The Ballad of the Green Berets                       SSgt. Barry Sadler\n",
      "1959                           The Battle of New Orleans                            Johnny Horton\n",
      "1972                 The First Time Ever I Saw Your Face                            Roberta Flack\n",
      "1994                                            The Sign                              Ace of Base\n",
      "1974                                     The Way We Were                         Barbra Streisand\n",
      "1960                           Theme from A Summer Place                              Percy Faith\n",
      "2013                                         Thrift Shop   Macklemore & Ryan Lewis featuring Wanz\n",
      "1973            Tie a Yellow Ribbon 'Round the Ole Oak Tree                    Tony Orlando and Dawn\n",
      "2010                                             Tik Tok                                    Kesha\n",
      "1967                                    To Sir with Love                                     Lulu\n",
      "1977              Tonight's the Night (Gonna Be Alright)                              Rod Stewart\n",
      "1998                                           Too Close                                     Next\n",
      "1951                                           Too Young                            Nat King Cole\n",
      "1961                                 Tossin' and Turnin'                              Bobby Lewis\n",
      "1948                                  Twelfth Street Rag                             Pee Wee Hunt\n",
      "2015                                         Uptown Funk         Mark Ronson featuring Bruno Mars\n",
      "1987                               Walk Like an Egyptian                              The Bangles\n",
      "2005                                  We Belong Together                             Mariah Carey\n",
      "1984                                      When Doves Cry                                   Prince\n",
      "1965                                         Wooly Bully              Sam the Sham & the Pharaohs\n",
      "2004                                               Yeah!     Usher featuring Lil Jon and Ludacris\n"
     ]
    }
   ],
   "source": [
    "import csv\n",
    "\n",
    "songTable = []\n",
    "with open('songs.csv', 'r') as csvfile:\n",
    "    csvreader = csv.reader(csvfile)\n",
    "    for row in csvreader:\n",
    "        year, title, artist = row\n",
    "        oneSong = [year, title, artist ]\n",
    "        songTable.append(oneSong)\n",
    "\n",
    "#print(songTable)\n",
    "\n",
    "songTable.sort( key = lambda x: x[1])\n",
    "\n",
    "for oneSong in songTable:\n",
    "    year, title, artist = oneSong\n",
    "    print('{:<15} {:>40} {:>40}'.format(year, title, artist))\n",
    "       "
   ]
  },
  {
   "attachments": {},
   "cell_type": "markdown",
   "metadata": {},
   "source": [
    "# Problem 3\n"
   ]
  },
  {
   "cell_type": "code",
   "execution_count": 10,
   "metadata": {},
   "outputs": [
    {
     "name": "stdout",
     "output_type": "stream",
     "text": [
      "{'1991': ['1991', '(Everything I Do) I Do It for You', 'Bryan Adams'], '1957': ['1957', 'All Shook Up', 'Elvis Presley'], '2006': ['2006', 'Bad Day', 'Daniel Powter'], '1999': ['1999', 'Believe', 'Cher'], '1981': ['1981', 'Bette Davis Eyes', 'Kim Carnes'], '2020': ['2020', 'Blinding Lights', 'The Weeknd'], '1952': ['1952', 'Blue Tango', 'Leroy Anderson'], '2009': ['2009', 'Boom Boom Pow', 'The Black Eyed Peas'], '2000': ['2000', 'Breathe', 'Faith Hill'], '1970': ['1970', 'Bridge over Troubled Water', 'Simon & Garfunkel'], '1966': ['1966', 'The Ballad of the Green Berets', 'SSgt. Barry Sadler'], '1980': ['1980', 'Call Me', 'Blondie'], '1997': ['1997', 'Candle in the Wind 1997', 'Elton John'], '1985': ['1985', 'Careless Whisper', 'Wham!'], '1955': ['1955', 'Cherry Pink and Apple Blossom White', 'Perez Prado'], '1992': ['1992', 'End of the Road', 'Boyz II Men'], '1983': ['1983', 'Every Breath You Take', 'The Police'], '1988': ['1988', 'Faith', 'George Michael'], '1995': ['1995', \"Gangsta's Paradise\", 'Coolio featuring L.V.'], '2018': ['2018', \"God's Plan\", 'Drake'], '1950': ['1950', 'Goodnight Irene', 'Gordon Jenkins and The Weavers'], '2001': ['2001', 'Hanging by a Moment', 'Lifehouse'], '2014': ['2014', 'Happy', 'Pharrell Williams'], '1956': ['1956', 'Heartbreak Hotel', 'Elvis Presley'], '1968': ['1968', 'Hey Jude', 'The Beatles'], '1990': ['1990', 'Hold On', 'Wilson Phillips'], '2002': ['2002', 'How You Remind Me', 'Nickelback'], '1964': ['1964', 'I Want to Hold Your Hand', 'The Beatles'], '1993': ['1993', 'I Will Always Love You', 'Whitney Houston'], '2003': ['2003', 'In Da Club', '50 Cent'], '2007': ['2007', 'Irreplaceable', 'Beyoncé'], '1971': ['1971', 'Joy to the World', 'Three Dog Night'], '2021': ['2021', 'Levitating', 'Dua Lipa'], '1954': ['1954', 'Little Things Mean a Lot', 'Kitty Kallen'], '1989': ['1989', 'Look Away', 'Chicago'], '1975': ['1975', 'Love Will Keep Us Together', 'Captain & Tennille'], '2016': ['2016', 'Love Yourself', 'Justin Bieber'], '2008': ['2008', 'Low', 'Flo Rida featuring T-Pain'], '1996': ['1996', 'Macarena (Bayside Boys Mix)', 'Los del Río'], '1979': ['1979', 'My Sharona', 'The Knack'], '1947': ['1947', 'Near You', 'Francis Craig'], '1958': ['1958', 'Nel Blu Dipinto di Blu (Volare)', 'Domenico Modugno'], '2019': ['2019', 'Old Town Road', 'Lil Nas X featuring Billy Ray Cyrus'], '1982': ['1982', 'Physical', 'Olivia Newton-John'], '1946': ['1946', 'Prisoner of Love', 'Perry Como'], '1949': ['1949', 'Riders in the Sky', 'Vaughn Monroe Orchestra'], '2011': ['2011', 'Rolling in the Deep', 'Adele'], '1978': ['1978', 'Shadow Dancing', 'Andy Gibb'], '2017': ['2017', 'Shape of You', 'Ed Sheeran'], '1976': ['1976', 'Silly Love Songs', 'Wings'], '2012': ['2012', 'Somebody That I Used to Know', 'Gotye featuring Kimbra'], '1953': ['1953', 'Song from Moulin Rouge', 'Percy Faith'], '1962': ['1962', 'Stranger on the Shore', 'Mr. Acker Bilk'], '1963': ['1963', \"Surfin' U.S.A.\", 'The Beach Boys'], '1969': ['1969', 'Sugar Sugar', 'The Archies'], '1986': ['1986', \"That's What Friends Are For\", 'Dionne & Friends'], '1959': ['1959', 'The Battle of New Orleans', 'Johnny Horton'], '1972': ['1972', 'The First Time Ever I Saw Your Face', 'Roberta Flack'], '1994': ['1994', 'The Sign', 'Ace of Base'], '1974': ['1974', 'The Way We Were', 'Barbra Streisand'], '1960': ['1960', 'Theme from A Summer Place', 'Percy Faith'], '2013': ['2013', 'Thrift Shop', 'Macklemore & Ryan Lewis featuring Wanz'], '1973': ['1973', \"Tie a Yellow Ribbon 'Round the Ole Oak Tree\", 'Tony Orlando and Dawn'], '2010': ['2010', 'Tik Tok', 'Kesha'], '1967': ['1967', 'To Sir with Love', 'Lulu'], '1977': ['1977', \"Tonight's the Night (Gonna Be Alright)\", 'Rod Stewart'], '1998': ['1998', 'Too Close', 'Next'], '1951': ['1951', 'Too Young', 'Nat King Cole'], '1961': ['1961', \"Tossin' and Turnin'\", 'Bobby Lewis'], '1948': ['1948', 'Twelfth Street Rag', 'Pee Wee Hunt'], '2015': ['2015', 'Uptown Funk', 'Mark Ronson featuring Bruno Mars'], '1987': ['1987', 'Walk Like an Egyptian', 'The Bangles'], '2005': ['2005', 'We Belong Together', 'Mariah Carey'], '1984': ['1984', 'When Doves Cry', 'Prince'], '1965': ['1965', 'Wooly Bully', 'Sam the Sham & the Pharaohs'], '2004': ['2004', 'Yeah!', 'Usher featuring Lil Jon and Ludacris']}\n"
     ]
    }
   ],
   "source": [
    "yearDict = {content[0]: content for content in songTable}\n",
    "\n",
    "print(yearDict)"
   ]
  },
  {
   "cell_type": "code",
   "execution_count": 11,
   "metadata": {},
   "outputs": [
    {
     "name": "stdout",
     "output_type": "stream",
     "text": [
      "['1991', '(Everything I Do) I Do It for You', 'Bryan Adams']\n"
     ]
    }
   ],
   "source": [
    "print(yearDict['1991'])"
   ]
  },
  {
   "cell_type": "code",
   "execution_count": 24,
   "metadata": {},
   "outputs": [],
   "source": [
    "\n",
    "while True:\n",
    "    year = input('Enter a year: ')\n",
    "    if year == 'DONE':\n",
    "        break\n",
    "    elif year in yearDict:\n",
    "        print(yearDict[year])\n",
    "    else:\n",
    "        print('Not found')"
   ]
  },
  {
   "cell_type": "code",
   "execution_count": 22,
   "metadata": {},
   "outputs": [
    {
     "name": "stdout",
     "output_type": "stream",
     "text": [
      "{1: [1, 2], 2: [2, 2], 3: [3, 2], 4: [4, 5]}\n"
     ]
    }
   ],
   "source": [
    "myDict = {content[0]: content for content in [[1,2],[2,2],[3,2],[4,5]]}\n",
    "print (myDict)"
   ]
  },
  {
   "cell_type": "code",
   "execution_count": null,
   "metadata": {},
   "outputs": [],
   "source": [
    "tempDict = {}"
   ]
  },
  {
   "cell_type": "code",
   "execution_count": 19,
   "metadata": {},
   "outputs": [
    {
     "data": {
      "text/plain": [
       "[['1991', '(Everything I Do) I Do It for You', 'Bryan Adams'],\n",
       " ['1957', 'All Shook Up', 'Elvis Presley'],\n",
       " ['2006', 'Bad Day', 'Daniel Powter'],\n",
       " ['1999', 'Believe', 'Cher'],\n",
       " ['1981', 'Bette Davis Eyes', 'Kim Carnes'],\n",
       " ['2020', 'Blinding Lights', 'The Weeknd'],\n",
       " ['1952', 'Blue Tango', 'Leroy Anderson'],\n",
       " ['2009', 'Boom Boom Pow', 'The Black Eyed Peas'],\n",
       " ['2000', 'Breathe', 'Faith Hill'],\n",
       " ['1970', 'Bridge over Troubled Water', 'Simon & Garfunkel'],\n",
       " ['1966', \"California Dreamin'\", 'The Mamas and the Papas'],\n",
       " ['1980', 'Call Me', 'Blondie'],\n",
       " ['1997', 'Candle in the Wind 1997', 'Elton John'],\n",
       " ['1985', 'Careless Whisper', 'Wham!'],\n",
       " ['1955', 'Cherry Pink and Apple Blossom White', 'Perez Prado'],\n",
       " ['1992', 'End of the Road', 'Boyz II Men'],\n",
       " ['1983', 'Every Breath You Take', 'The Police'],\n",
       " ['1988', 'Faith', 'George Michael'],\n",
       " ['1995', \"Gangsta's Paradise\", 'Coolio featuring L.V.'],\n",
       " ['2018', \"God's Plan\", 'Drake'],\n",
       " ['1950', 'Goodnight Irene', 'Gordon Jenkins and The Weavers'],\n",
       " ['2001', 'Hanging by a Moment', 'Lifehouse'],\n",
       " ['2014', 'Happy', 'Pharrell Williams'],\n",
       " ['1956', 'Heartbreak Hotel', 'Elvis Presley'],\n",
       " ['1968', 'Hey Jude', 'The Beatles'],\n",
       " ['1990', 'Hold On', 'Wilson Phillips'],\n",
       " ['2002', 'How You Remind Me', 'Nickelback'],\n",
       " ['1964', 'I Want to Hold Your Hand', 'The Beatles'],\n",
       " ['1993', 'I Will Always Love You', 'Whitney Houston'],\n",
       " ['2003', 'In Da Club', '50 Cent'],\n",
       " ['2007', 'Irreplaceable', 'Beyoncé'],\n",
       " ['1971', 'Joy to the World', 'Three Dog Night'],\n",
       " ['2021', 'Levitating', 'Dua Lipa'],\n",
       " ['1954', 'Little Things Mean a Lot', 'Kitty Kallen'],\n",
       " ['1989', 'Look Away', 'Chicago'],\n",
       " ['1975', 'Love Will Keep Us Together', 'Captain & Tennille'],\n",
       " ['2016', 'Love Yourself', 'Justin Bieber'],\n",
       " ['2008', 'Low', 'Flo Rida featuring T-Pain'],\n",
       " ['1996', 'Macarena (Bayside Boys Mix)', 'Los del Río'],\n",
       " ['1979', 'My Sharona', 'The Knack'],\n",
       " ['1947', 'Near You', 'Francis Craig'],\n",
       " ['1958', 'Nel Blu Dipinto di Blu (Volare)', 'Domenico Modugno'],\n",
       " ['2019', 'Old Town Road', 'Lil Nas X featuring Billy Ray Cyrus'],\n",
       " ['1982', 'Physical', 'Olivia Newton-John'],\n",
       " ['1946', 'Prisoner of Love', 'Perry Como'],\n",
       " ['1949', 'Riders in the Sky', 'Vaughn Monroe Orchestra'],\n",
       " ['2011', 'Rolling in the Deep', 'Adele'],\n",
       " ['1978', 'Shadow Dancing', 'Andy Gibb'],\n",
       " ['2017', 'Shape of You', 'Ed Sheeran'],\n",
       " ['1976', 'Silly Love Songs', 'Wings'],\n",
       " ['2012', 'Somebody That I Used to Know', 'Gotye featuring Kimbra'],\n",
       " ['1953', 'Song from Moulin Rouge', 'Percy Faith'],\n",
       " ['1962', 'Stranger on the Shore', 'Mr. Acker Bilk'],\n",
       " ['1963', 'Sugar Shack', 'Jimmy Gilmer and the Fireballs'],\n",
       " ['1969', 'Sugar Sugar', 'The Archies'],\n",
       " ['1963', \"Surfin' U.S.A.\", 'The Beach Boys'],\n",
       " ['1986', \"That's What Friends Are For\", 'Dionne & Friends'],\n",
       " ['1966', 'The Ballad of the Green Berets', 'SSgt. Barry Sadler'],\n",
       " ['1959', 'The Battle of New Orleans', 'Johnny Horton'],\n",
       " ['1972', 'The First Time Ever I Saw Your Face', 'Roberta Flack'],\n",
       " ['1994', 'The Sign', 'Ace of Base'],\n",
       " ['1974', 'The Way We Were', 'Barbra Streisand'],\n",
       " ['1960', 'Theme from A Summer Place', 'Percy Faith'],\n",
       " ['2013', 'Thrift Shop', 'Macklemore & Ryan Lewis featuring Wanz'],\n",
       " ['1973',\n",
       "  \"Tie a Yellow Ribbon 'Round the Ole Oak Tree\",\n",
       "  'Tony Orlando and Dawn'],\n",
       " ['2010', 'Tik Tok', 'Kesha'],\n",
       " ['1967', 'To Sir with Love', 'Lulu'],\n",
       " ['1977', \"Tonight's the Night (Gonna Be Alright)\", 'Rod Stewart'],\n",
       " ['1998', 'Too Close', 'Next'],\n",
       " ['1951', 'Too Young', 'Nat King Cole'],\n",
       " ['1961', \"Tossin' and Turnin'\", 'Bobby Lewis'],\n",
       " ['1948', 'Twelfth Street Rag', 'Pee Wee Hunt'],\n",
       " ['2015', 'Uptown Funk', 'Mark Ronson featuring Bruno Mars'],\n",
       " ['1987', 'Walk Like an Egyptian', 'The Bangles'],\n",
       " ['2005', 'We Belong Together', 'Mariah Carey'],\n",
       " ['1984', 'When Doves Cry', 'Prince'],\n",
       " ['1965', 'Wooly Bully', 'Sam the Sham & the Pharaohs'],\n",
       " ['2004', 'Yeah!', 'Usher featuring Lil Jon and Ludacris']]"
      ]
     },
     "execution_count": 19,
     "metadata": {},
     "output_type": "execute_result"
    }
   ],
   "source": [
    "songTable"
   ]
  },
  {
   "attachments": {},
   "cell_type": "markdown",
   "metadata": {},
   "source": [
    "# Problem 4"
   ]
  },
  {
   "cell_type": "code",
   "execution_count": 12,
   "metadata": {},
   "outputs": [],
   "source": [
    "artistDict = {}\n",
    "for oneSong in songTable:   \n",
    "    if oneSong[2] not in artistDict:\n",
    "        artistDict[oneSong[2]] = [oneSong]\n",
    "    else:\n",
    "        artistDict[oneSong[2]].append(oneSong)"
   ]
  },
  {
   "cell_type": "code",
   "execution_count": 13,
   "metadata": {},
   "outputs": [],
   "source": [
    "while True:\n",
    "    artist = input('Enter an artist: ')\n",
    "    if artist == 'DONE':\n",
    "        break\n",
    "    elif artist in artistDict:\n",
    "        print(artistDict[artist])\n",
    "    else:\n",
    "        print('Not found')"
   ]
  }
 ],
 "metadata": {
  "kernelspec": {
   "display_name": "base",
   "language": "python",
   "name": "python3"
  },
  "language_info": {
   "codemirror_mode": {
    "name": "ipython",
    "version": 3
   },
   "file_extension": ".py",
   "mimetype": "text/x-python",
   "name": "python",
   "nbconvert_exporter": "python",
   "pygments_lexer": "ipython3",
   "version": "3.8.8"
  },
  "orig_nbformat": 4
 },
 "nbformat": 4,
 "nbformat_minor": 2
}
