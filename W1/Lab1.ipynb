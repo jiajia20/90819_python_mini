{
 "cells": [
  {
   "cell_type": "code",
   "execution_count": null,
   "metadata": {},
   "outputs": [],
   "source": []
  },
  {
   "attachments": {},
   "cell_type": "markdown",
   "metadata": {},
   "source": [
    "# Problem 1"
   ]
  },
  {
   "cell_type": "code",
   "execution_count": 2,
   "metadata": {},
   "outputs": [],
   "source": [
    "import math"
   ]
  },
  {
   "cell_type": "code",
   "execution_count": 3,
   "metadata": {},
   "outputs": [],
   "source": [
    "theta = 1.5"
   ]
  },
  {
   "cell_type": "code",
   "execution_count": 4,
   "metadata": {},
   "outputs": [
    {
     "name": "stdout",
     "output_type": "stream",
     "text": [
      "True\n"
     ]
    }
   ],
   "source": [
    "left = math.sin(theta)**2 + math.cos(theta)**2\n",
    "right = 1\n",
    "print(left == right)\n",
    "\n",
    "\n"
   ]
  },
  {
   "cell_type": "code",
   "execution_count": 5,
   "metadata": {},
   "outputs": [
    {
     "name": "stdout",
     "output_type": "stream",
     "text": [
      "True\n"
     ]
    }
   ],
   "source": [
    "left = math.tan(theta)\n",
    "right = math.sin(theta)/math.cos(theta)\n",
    "\n",
    "print(left == right)"
   ]
  },
  {
   "cell_type": "code",
   "execution_count": 6,
   "metadata": {},
   "outputs": [
    {
     "name": "stdout",
     "output_type": "stream",
     "text": [
      "False\n"
     ]
    }
   ],
   "source": [
    "left = math.cos(theta) \n",
    "right = math.sin((math.pi/2 -theta))\n",
    "\n",
    "print(left == right)"
   ]
  },
  {
   "attachments": {},
   "cell_type": "markdown",
   "metadata": {},
   "source": [
    "# Problem 2"
   ]
  },
  {
   "cell_type": "code",
   "execution_count": 11,
   "metadata": {},
   "outputs": [
    {
     "name": "stdout",
     "output_type": "stream",
     "text": [
      "GOODS CODE\n",
      "['goods', 'code']\n",
      "['good', ' code']\n"
     ]
    }
   ],
   "source": [
    "InputStr = 'goods code'\n",
    "\n",
    "\n",
    "#print sting in all caps\n",
    "print(InputStr.upper())\n",
    "\n",
    "# Display the values returned by splitting sentence on the space character.\n",
    "print(InputStr.split(' '))\n",
    "\n",
    "#Display the values returned by splitting sentence on the 's' character.\n",
    "print(InputStr.split('s'))\n"
   ]
  },
  {
   "cell_type": "code",
   "execution_count": 12,
   "metadata": {},
   "outputs": [
    {
     "name": "stdout",
     "output_type": "stream",
     "text": [
      "6\n",
      "-1\n"
     ]
    }
   ],
   "source": [
    "# Set the variable where to the return value of find( ) to display the position of 'ten' in sentence. \n",
    "# Then use it again to display the position of the second occurrence of 'ten' – do this by giving find( ) the variable where as its second parameter to tell it at what index to start searching \n",
    "# (fyi, you can also give it a third parameter to tell it where to stop searching).\n",
    "\n",
    "where = InputStr.find('code')   \n",
    "print(where)\n",
    "where = InputStr.find('code', where+1)\n",
    "print(where)\n",
    "            "
   ]
  },
  {
   "cell_type": "code",
   "execution_count": 13,
   "metadata": {},
   "outputs": [],
   "source": [
    "#Write a Python script to do the following. Prompt the user to enter a speed of an object in miles per hour (mph). Convert this to meters per second using the formula 1mph = 0.447 m/s. Display the answer using a formatted print statement with labels and two decimal places – for example, '60.00 mph = 26.82 m/s'. Run this code to test it on 60 mph.\n",
    "\n",
    "mph = float(input('Enter a speed in mph: '))\n",
    "meters_per_second = mph * 0.447\n",
    "print('{:.2f} mph = {:.2f} m/s'.format(mph, meters_per_second))\n",
    "            "
   ]
  },
  {
   "cell_type": "code",
   "execution_count": null,
   "metadata": {},
   "outputs": [],
   "source": [
    "def main():\n",
    "    # Prompt the user to enter a speed of an object in miles per hour (mph). \n",
    "    # Convert this to meters per second using the formula 1mph = 0.447 m/s. \n",
    "    # Display the answer using a formatted print statement with labels and two decimal places – for example, '60.00 mph = 26.82 m/s'. \n",
    "    # Run this code to test it on 60 mph.\n",
    "    mph = float(input('Enter a speed in mph: '))\n",
    "    meters_per_second = mph * 0.447\n",
    "    print('{:.2f} mph = {:.2f} m/s'.format(mph, meters_per_second))\n",
    "\n",
    "if __name__ == '__main__':\n",
    "    main()  "
   ]
  },
  {
   "attachments": {},
   "cell_type": "markdown",
   "metadata": {},
   "source": [
    "# Problem 3"
   ]
  },
  {
   "cell_type": "code",
   "execution_count": null,
   "metadata": {},
   "outputs": [],
   "source": [
    "def main():\n",
    "    # Prompt the user to enter a speed of an object in miles per hour (mph). \n",
    "    # Convert this to meters per second using the formula 1mph = 0.447 m/s. \n",
    "    # Display the answer using a formatted print statement with labels and two decimal places – for example, '60.00 mph = 26.82 m/s'. \n",
    "    # Run this code to test it on 60 mph.\n",
    "    mph = float(input('Enter a speed in mph: '))\n",
    "    meters_per_second = mph * 0.447\n",
    "    print('{:.2f} mph = {:.2f} m/s'.format(mph, meters_per_second))\n",
    "\n",
    "    # Add code that prints the following messages: if the speed is at least 25 m/s, print 'Fast'; if it's less than 5 m/s, print 'Slow'; otherwise, print 'Meh'\n",
    "    if meters_per_second >= 25:\n",
    "        print('Fast')\n",
    "    elif meters_per_second < 5:\n",
    "        print('Slow')           \n",
    "    else:\n",
    "        print('Meh')\n",
    "\n",
    "if __name__ == '__main__':\n",
    "    main()  "
   ]
  },
  {
   "attachments": {},
   "cell_type": "markdown",
   "metadata": {},
   "source": [
    "# Problem 4\n"
   ]
  },
  {
   "cell_type": "code",
   "execution_count": 6,
   "metadata": {},
   "outputs": [
    {
     "name": "stdout",
     "output_type": "stream",
     "text": [
      "Barrett 1001 49 F\n",
      "Smith 4301 90 A\n",
      "Ng 7712 98 A\n",
      "Jones 4041 78 C\n",
      "Barnes 8804 88 B\n",
      "Miller 2501 40 F\n",
      "Collins 3952 84 B\n",
      "Gonzales 7510 82 B\n",
      "Zhao 8112 94 A\n",
      "Patel 7107 87 B\n",
      "Average grade: 79.00\n"
     ]
    }
   ],
   "source": [
    "f = open('gradebook.txt', 'r')\n",
    "total = 0\n",
    "count = 0\n",
    "for line in f:\n",
    "    name, id, grade = line.split(',')\n",
    "    grade = int(grade)\n",
    "    total += grade\n",
    "    count += 1\n",
    "    if grade >= 90:\n",
    "        letterGrade = 'A'\n",
    "    elif grade >= 80:\n",
    "        letterGrade = 'B'\n",
    "    elif grade >= 70:\n",
    "        letterGrade = 'C'\n",
    "    elif grade >= 60:\n",
    "        letterGrade = 'D'\n",
    "    else:\n",
    "        letterGrade = 'F'\n",
    "    print(name, id, grade, letterGrade)\n",
    "average = total / count\n",
    "print('Average grade: {:.2f}'.format(average))\n",
    "\n",
    "\n",
    "    "
   ]
  },
  {
   "cell_type": "code",
   "execution_count": null,
   "metadata": {},
   "outputs": [],
   "source": [
    "f = open('gradebook.txt', 'r')\n",
    "<your code here: part c>\n",
    "for line in f:\n",
    "    # line now contains one line of the text file\n",
    "    <your code here: parts a, b, c, d>\n",
    "f.close()\n",
    "<your code here: part c>"
   ]
  }
 ],
 "metadata": {
  "kernelspec": {
   "display_name": "base",
   "language": "python",
   "name": "python3"
  },
  "language_info": {
   "codemirror_mode": {
    "name": "ipython",
    "version": 3
   },
   "file_extension": ".py",
   "mimetype": "text/x-python",
   "name": "python",
   "nbconvert_exporter": "python",
   "pygments_lexer": "ipython3",
   "version": "3.8.8"
  },
  "orig_nbformat": 4
 },
 "nbformat": 4,
 "nbformat_minor": 2
}
